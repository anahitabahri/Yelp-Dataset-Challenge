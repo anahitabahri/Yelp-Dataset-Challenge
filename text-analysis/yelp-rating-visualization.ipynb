{
 "cells": [
  {
   "cell_type": "code",
   "execution_count": 1,
   "metadata": {
    "collapsed": true
   },
   "outputs": [],
   "source": [
    "from wordcloud import WordCloud, STOPWORDS\n",
    "import matplotlib.pyplot as plt\n",
    "import numpy as np\n",
    "from PIL import Image\n",
    "from palettable.colorbrewer.sequential import Reds_9\n",
    "from palettable.colorbrewer.sequential import Greens_9\n",
    "from palettable.colorbrewer.qualitative import Dark2_8\n",
    "import random"
   ]
  },
  {
   "cell_type": "code",
   "execution_count": 2,
   "metadata": {
    "collapsed": true
   },
   "outputs": [],
   "source": [
    "stopwords = set(STOPWORDS)\n",
    "stopwords.add(\"steak\")\n",
    "stopwords.add(\"food\")\n",
    "stopwords.add(\"place\")\n",
    "stopwords.add(\"us\")\n",
    "stopwords.add(\"one\")\n",
    "stopwords.add(\"restaurant\")\n",
    "# stopwords.add(\"back\")\n",
    "stopwords.add(\"order\")\n",
    "stopwords.add(\"ordered\")\n",
    "stopwords.add(\"table\")\n",
    "stopwords.add(\"good\")\n",
    "stopwords.add(\"great\")\n",
    "font_path = \"/Users/Anahita/Downloads/Open_Sans/OpenSans-CondBold.ttf\""
   ]
  },
  {
   "cell_type": "code",
   "execution_count": 3,
   "metadata": {
    "collapsed": true
   },
   "outputs": [],
   "source": [
    "def color_func(word, font_size, position, orientation, random_state=None, **kwargs):\n",
    "    return tuple(Reds_9.colors[random.randint(2,8)])"
   ]
  },
  {
   "cell_type": "code",
   "execution_count": 4,
   "metadata": {
    "collapsed": false
   },
   "outputs": [
    {
     "data": {
      "text/plain": [
       "<wordcloud.wordcloud.WordCloud at 0x1041e6ad0>"
      ]
     },
     "execution_count": 4,
     "metadata": {},
     "output_type": "execute_result"
    }
   ],
   "source": [
    "text = open('../../yelp-data/new_data/final_data/text_1.txt').read()\n",
    "neg_mask = np.array(Image.open(\"../../images/neg.jpg\"))\n",
    "wc = WordCloud(font_path=font_path,stopwords=stopwords,background_color=\"white\", max_words=2000, mask=neg_mask, max_font_size=300, random_state=42)\n",
    "\n",
    "wc.generate(text)\n",
    "wc.recolor(color_func=color_func, random_state=3)\n",
    "wc.to_file(\"wordclouds/yelp_neg.png\")"
   ]
  },
  {
   "cell_type": "code",
   "execution_count": 5,
   "metadata": {
    "collapsed": true
   },
   "outputs": [],
   "source": [
    "def color_func(word, font_size, position, orientation, random_state=None, **kwargs):\n",
    "    return tuple(Greens_9.colors[random.randint(2,8)])"
   ]
  },
  {
   "cell_type": "code",
   "execution_count": 6,
   "metadata": {
    "collapsed": false
   },
   "outputs": [
    {
     "data": {
      "text/plain": [
       "<wordcloud.wordcloud.WordCloud at 0x105279090>"
      ]
     },
     "execution_count": 6,
     "metadata": {},
     "output_type": "execute_result"
    }
   ],
   "source": [
    "text = open('../../yelp-data/new_data/final_data/text_5.txt').read()\n",
    "pos_mask = np.array(Image.open(\"../../images/pos.jpg\"))\n",
    "wc = WordCloud(font_path=font_path,stopwords=stopwords,background_color=\"white\", max_words=2000, mask=pos_mask, max_font_size=300, random_state=42)\n",
    "\n",
    "wc.generate(text)\n",
    "wc.recolor(color_func=color_func, random_state=3)\n",
    "wc.to_file(\"wordclouds/yelp_pos.png\")"
   ]
  },
  {
   "cell_type": "code",
   "execution_count": 7,
   "metadata": {
    "collapsed": true
   },
   "outputs": [],
   "source": [
    "def color_func(word, font_size, position, orientation, random_state=None, **kwargs):\n",
    "    return tuple(Dark2_8.colors[random.randint(0,7)])"
   ]
  },
  {
   "cell_type": "code",
   "execution_count": 8,
   "metadata": {
    "collapsed": false
   },
   "outputs": [
    {
     "data": {
      "text/plain": [
       "<wordcloud.wordcloud.WordCloud at 0x106eace90>"
      ]
     },
     "execution_count": 8,
     "metadata": {},
     "output_type": "execute_result"
    }
   ],
   "source": [
    "text = open('../../yelp-data/new_data/final_data/text_3.txt').read()\n",
    "neutral_mask = np.array(Image.open(\"../../images/neutral.jpg\"))\n",
    "wc = WordCloud(font_path=font_path,stopwords=stopwords,background_color=\"white\", max_words=2000, mask=neutral_mask, max_font_size=300, random_state=42)\n",
    "\n",
    "wc.generate(text)\n",
    "wc.recolor(color_func=color_func, random_state=3)\n",
    "wc.to_file(\"wordclouds/yelp_neutral.png\")"
   ]
  },
  {
   "cell_type": "code",
   "execution_count": null,
   "metadata": {
    "collapsed": true
   },
   "outputs": [],
   "source": []
  }
 ],
 "metadata": {
  "kernelspec": {
   "display_name": "Python 2",
   "language": "python",
   "name": "python2"
  },
  "language_info": {
   "codemirror_mode": {
    "name": "ipython",
    "version": 2
   },
   "file_extension": ".py",
   "mimetype": "text/x-python",
   "name": "python",
   "nbconvert_exporter": "python",
   "pygments_lexer": "ipython2",
   "version": "2.7.12"
  }
 },
 "nbformat": 4,
 "nbformat_minor": 1
}
