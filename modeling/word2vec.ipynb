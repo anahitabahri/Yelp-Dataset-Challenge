{
 "cells": [
  {
   "cell_type": "code",
   "execution_count": 1,
   "metadata": {
    "collapsed": false
   },
   "outputs": [
    {
     "name": "stderr",
     "output_type": "stream",
     "text": [
      "/Applications/anaconda/lib/python2.7/site-packages/IPython/html.py:14: ShimWarning: The `IPython.html` package has been deprecated. You should import from `notebook` instead. `IPython.html.widgets` has moved to `ipywidgets`.\n",
      "  \"`IPython.html.widgets` has moved to `ipywidgets`.\", ShimWarning)\n"
     ]
    }
   ],
   "source": [
    "%matplotlib inline\n",
    "\n",
    "import numpy as np\n",
    "import pandas as pd\n",
    "import matplotlib.pyplot as plt\n",
    "import seaborn as sns\n",
    "sns.set_style(\"darkgrid\")\n",
    "\n",
    "from sklearn.feature_extraction.text import CountVectorizer, TfidfVectorizer\n",
    "from sklearn.ensemble import RandomForestClassifier\n",
    "\n",
    "from gensim.models.word2vec import Word2Vec"
   ]
  },
  {
   "cell_type": "code",
   "execution_count": 2,
   "metadata": {
    "collapsed": true
   },
   "outputs": [],
   "source": [
    "data = pd.read_csv('../../yelp-data/new_data/final_data/manip_data.csv')"
   ]
  },
  {
   "cell_type": "code",
   "execution_count": 3,
   "metadata": {
    "collapsed": true
   },
   "outputs": [],
   "source": [
    "text = data.text.dropna().map(lambda x: x.split())"
   ]
  },
  {
   "cell_type": "code",
   "execution_count": 4,
   "metadata": {
    "collapsed": true
   },
   "outputs": [],
   "source": [
    "model = Word2Vec(text, size=100, window=5, min_count=5, workers=4)\n",
    "\n",
    "# size represents how many concepts or topics we should use\n",
    "# window represents how many words surrounding a sentence we should use as our original features\n",
    "# min_count is the number of times that context or word must appear\n",
    "# workers is the number of CPU cores to use to speed up model training"
   ]
  },
  {
   "cell_type": "markdown",
   "metadata": {},
   "source": [
    "#### https://github.com/ga-students/DS-BOS-12/tree/master/lessons/lesson-14#introduction-word2vec"
   ]
  },
  {
   "cell_type": "code",
   "execution_count": 5,
   "metadata": {
    "collapsed": false
   },
   "outputs": [
    {
     "data": {
      "text/plain": [
       "[('yummy', 0.8551763296127319),\n",
       " ('delicious,', 0.8408470153808594),\n",
       " ('tasty', 0.8365609645843506),\n",
       " ('divine', 0.7977620363235474),\n",
       " ('DELICIOUS', 0.7752904891967773),\n",
       " ('delish', 0.7725182175636292),\n",
       " ('amazing', 0.753511905670166),\n",
       " ('scrumptious', 0.743909478187561),\n",
       " ('delectable', 0.7341341972351074),\n",
       " ('delicious!', 0.7294865846633911)]"
      ]
     },
     "execution_count": 5,
     "metadata": {},
     "output_type": "execute_result"
    }
   ],
   "source": [
    "model.most_similar('delicious')"
   ]
  },
  {
   "cell_type": "code",
   "execution_count": 6,
   "metadata": {
    "collapsed": false
   },
   "outputs": [
    {
     "data": {
      "text/plain": [
       "[('manager,', 0.8661529421806335),\n",
       " ('Manager', 0.8340087532997131),\n",
       " ('owner', 0.7991610765457153),\n",
       " ('GM', 0.7938071489334106),\n",
       " ('busboy', 0.7837578654289246),\n",
       " ('manger', 0.7790880799293518),\n",
       " ('hostess', 0.777050793170929),\n",
       " ('cashier', 0.7605875730514526),\n",
       " ('host', 0.7564091086387634),\n",
       " ('mgr', 0.7459459900856018)]"
      ]
     },
     "execution_count": 6,
     "metadata": {},
     "output_type": "execute_result"
    }
   ],
   "source": [
    "model.most_similar('manager')"
   ]
  },
  {
   "cell_type": "code",
   "execution_count": 7,
   "metadata": {
    "collapsed": false
   },
   "outputs": [
    {
     "data": {
      "text/plain": [
       "[('time,', 0.8824414014816284),\n",
       " ('time.', 0.691596269607544),\n",
       " ('time)', 0.6746558547019958),\n",
       " ('time!', 0.6710756421089172),\n",
       " ('time).', 0.646044909954071),\n",
       " ('time...', 0.6286982893943787),\n",
       " ('day', 0.6172722578048706),\n",
       " ('timer', 0.6074073314666748),\n",
       " ('visit,', 0.572293221950531),\n",
       " ('morning', 0.5706180334091187)]"
      ]
     },
     "execution_count": 7,
     "metadata": {},
     "output_type": "execute_result"
    }
   ],
   "source": [
    "model.most_similar('time')"
   ]
  },
  {
   "cell_type": "code",
   "execution_count": 6,
   "metadata": {
    "collapsed": false
   },
   "outputs": [
    {
     "data": {
      "text/plain": [
       "[('bland,', 0.9098657965660095),\n",
       " ('tasteless', 0.8751441240310669),\n",
       " ('flavorless', 0.8288198709487915),\n",
       " ('dry,', 0.8281048536300659),\n",
       " ('watery', 0.8082864880561829),\n",
       " ('oily', 0.7977049350738525),\n",
       " ('mushy', 0.7896466255187988),\n",
       " ('undercooked', 0.7890170216560364),\n",
       " ('boring', 0.7748020887374878),\n",
       " ('rubbery', 0.7734558582305908)]"
      ]
     },
     "execution_count": 6,
     "metadata": {},
     "output_type": "execute_result"
    }
   ],
   "source": [
    "model.most_similar('bland')"
   ]
  },
  {
   "cell_type": "code",
   "execution_count": 8,
   "metadata": {
    "collapsed": false
   },
   "outputs": [
    {
     "data": {
      "text/plain": [
       "[('cold,', 0.8073718547821045),\n",
       " ('lukewarm', 0.7302338480949402),\n",
       " ('hot', 0.7089186906814575),\n",
       " ('cold.', 0.689141035079956),\n",
       " ('stale', 0.6722781658172607),\n",
       " ('hot,', 0.6692797541618347),\n",
       " ('soggy', 0.6542467474937439),\n",
       " ('stale,', 0.635863721370697),\n",
       " ('burnt', 0.6355282068252563),\n",
       " ('dry', 0.6261243224143982)]"
      ]
     },
     "execution_count": 8,
     "metadata": {},
     "output_type": "execute_result"
    }
   ],
   "source": [
    "model.most_similar('cold')"
   ]
  },
  {
   "cell_type": "code",
   "execution_count": 7,
   "metadata": {
    "collapsed": false
   },
   "outputs": [
    {
     "data": {
      "text/plain": [
       "[('subpar', 0.802825927734375),\n",
       " ('marginal', 0.7575305700302124),\n",
       " ('so-so', 0.742594838142395),\n",
       " ('mediocre,', 0.7301327586174011),\n",
       " ('sub-par', 0.7242838144302368),\n",
       " ('average', 0.7144842147827148),\n",
       " ('underwhelming', 0.6761751770973206),\n",
       " ('meh', 0.6691441535949707),\n",
       " ('lackluster', 0.6553842425346375),\n",
       " ('Mediocre', 0.6416609287261963)]"
      ]
     },
     "execution_count": 7,
     "metadata": {},
     "output_type": "execute_result"
    }
   ],
   "source": [
    "model.most_similar('mediocre')"
   ]
  },
  {
   "cell_type": "code",
   "execution_count": 8,
   "metadata": {
    "collapsed": false
   },
   "outputs": [
    {
     "data": {
      "text/plain": [
       "[('flavour', 0.9123848676681519),\n",
       " ('flavor,', 0.881925106048584),\n",
       " ('flavoring', 0.839346706867218),\n",
       " ('texture', 0.8147541880607605),\n",
       " ('seasoning', 0.7863143682479858),\n",
       " ('seasoning,', 0.7775187492370605),\n",
       " ('spice', 0.7618908286094666),\n",
       " ('taste', 0.7474372386932373),\n",
       " ('texture,', 0.7442693710327148),\n",
       " ('sweetness', 0.7336708903312683)]"
      ]
     },
     "execution_count": 8,
     "metadata": {},
     "output_type": "execute_result"
    }
   ],
   "source": [
    "model.most_similar('flavor')"
   ]
  },
  {
   "cell_type": "code",
   "execution_count": 9,
   "metadata": {
    "collapsed": false
   },
   "outputs": [
    {
     "data": {
      "text/plain": [
       "[('juicy,', 0.9103448390960693),\n",
       " ('tender', 0.8763376474380493),\n",
       " ('tender,', 0.8713788986206055),\n",
       " ('moist', 0.846558153629303),\n",
       " ('flavorful', 0.8123543858528137),\n",
       " ('moist,', 0.7971984148025513),\n",
       " ('succulent,', 0.7971756458282471),\n",
       " ('flavorful,', 0.7845823764801025),\n",
       " ('succulent', 0.7817756533622742),\n",
       " ('well-seasoned', 0.7815227508544922)]"
      ]
     },
     "execution_count": 9,
     "metadata": {},
     "output_type": "execute_result"
    }
   ],
   "source": [
    "model.most_similar('juicy')"
   ]
  },
  {
   "cell_type": "code",
   "execution_count": 10,
   "metadata": {
    "collapsed": false
   },
   "outputs": [
    {
     "data": {
      "text/plain": [
       "[('typically', 0.8633309006690979),\n",
       " ('normally', 0.7643651962280273),\n",
       " ('generally', 0.7371158599853516),\n",
       " ('always', 0.6841447353363037),\n",
       " ('sometimes', 0.6383280754089355),\n",
       " ('often', 0.628433108329773),\n",
       " ('ALWAYS', 0.5364930629730225),\n",
       " ('rarely', 0.5312243700027466),\n",
       " ('tend', 0.5176421999931335),\n",
       " ('Usually', 0.44421839714050293)]"
      ]
     },
     "execution_count": 10,
     "metadata": {},
     "output_type": "execute_result"
    }
   ],
   "source": [
    "model.most_similar('usually')"
   ]
  },
  {
   "cell_type": "code",
   "execution_count": 11,
   "metadata": {
    "collapsed": false
   },
   "outputs": [
    {
     "data": {
      "text/plain": [
       "[('although', 0.8727309703826904),\n",
       " ('but', 0.8342143297195435),\n",
       " ('however,', 0.78711998462677),\n",
       " ('but,', 0.7000393271446228),\n",
       " ('(although', 0.6342678666114807),\n",
       " ('(but', 0.5939549207687378),\n",
       " ('(though', 0.5766899585723877),\n",
       " ('nor', 0.5720763206481934),\n",
       " ('and', 0.5434328317642212),\n",
       " ('though', 0.531823992729187)]"
      ]
     },
     "execution_count": 11,
     "metadata": {},
     "output_type": "execute_result"
    }
   ],
   "source": [
    "model.most_similar('however')"
   ]
  },
  {
   "cell_type": "code",
   "execution_count": 9,
   "metadata": {
    "collapsed": false
   },
   "outputs": [
    {
     "data": {
      "text/plain": [
       "[('fairly', 0.7897210121154785),\n",
       " ('very', 0.7887053489685059),\n",
       " ('quite', 0.7202944755554199),\n",
       " ('surprisingly', 0.7177211046218872),\n",
       " ('super', 0.6665304899215698),\n",
       " ('soooo', 0.6634423732757568),\n",
       " ('relatively', 0.6605172157287598),\n",
       " ('VERY', 0.6587648391723633),\n",
       " ('extremely', 0.6506322026252747),\n",
       " ('ridiculously', 0.6504016518592834)]"
      ]
     },
     "execution_count": 9,
     "metadata": {},
     "output_type": "execute_result"
    }
   ],
   "source": [
    "model.most_similar('pretty')"
   ]
  },
  {
   "cell_type": "code",
   "execution_count": 10,
   "metadata": {
    "collapsed": false
   },
   "outputs": [
    {
     "data": {
      "text/plain": [
       "[('Salad', 0.7948505878448486),\n",
       " ('salad,', 0.7791732549667358),\n",
       " ('salad;', 0.7312804460525513),\n",
       " ('salad.', 0.7042760252952576),\n",
       " ('salads', 0.6994776725769043),\n",
       " ('salad:', 0.6956886053085327),\n",
       " ('salad-', 0.6580542325973511),\n",
       " ('salad...', 0.6278755068778992),\n",
       " ('dressing', 0.598473846912384),\n",
       " ('salad!', 0.594258189201355)]"
      ]
     },
     "execution_count": 10,
     "metadata": {},
     "output_type": "execute_result"
    }
   ],
   "source": [
    "model.most_similar('salad')"
   ]
  },
  {
   "cell_type": "code",
   "execution_count": 11,
   "metadata": {
    "collapsed": false
   },
   "outputs": [
    {
     "data": {
      "text/plain": [
       "[('fries,', 0.7918753623962402),\n",
       " ('Fries', 0.78719562292099),\n",
       " ('fries)', 0.7649980783462524),\n",
       " ('frites', 0.7280604243278503),\n",
       " ('nachos', 0.7044536471366882),\n",
       " ('hashbrowns', 0.6819921731948853),\n",
       " ('fries.', 0.6818950772285461),\n",
       " ('toast', 0.6688725352287292),\n",
       " ('tots', 0.6664113998413086),\n",
       " ('fires', 0.6609050035476685)]"
      ]
     },
     "execution_count": 11,
     "metadata": {},
     "output_type": "execute_result"
    }
   ],
   "source": [
    "model.most_similar('fries')"
   ]
  },
  {
   "cell_type": "code",
   "execution_count": 12,
   "metadata": {
    "collapsed": false
   },
   "outputs": [
    {
     "data": {
      "text/plain": [
       "[('cheese)', 0.8349871039390564),\n",
       " ('cheese,', 0.8311554193496704),\n",
       " ('Cheese', 0.7969741821289062),\n",
       " ('cheese...', 0.7963688373565674),\n",
       " ('cheese;', 0.7749756574630737),\n",
       " ('cheese.', 0.768731951713562),\n",
       " ('cheese-', 0.7598976492881775),\n",
       " ('cheese!', 0.7595844268798828),\n",
       " ('cheese).', 0.755033016204834),\n",
       " ('cheese:', 0.7530560493469238)]"
      ]
     },
     "execution_count": 12,
     "metadata": {},
     "output_type": "execute_result"
    }
   ],
   "source": [
    "model.most_similar('cheese')"
   ]
  },
  {
   "cell_type": "code",
   "execution_count": 13,
   "metadata": {
    "collapsed": false
   },
   "outputs": [
    {
     "data": {
      "text/plain": [
       "[('wines', 0.7607375979423523),\n",
       " ('wine,', 0.7216306924819946),\n",
       " ('wine.', 0.7100576162338257),\n",
       " ('Malbec', 0.7076953649520874),\n",
       " ('Cabernet', 0.690409779548645),\n",
       " ('beer', 0.6867533922195435),\n",
       " ('pinot', 0.6863394379615784),\n",
       " ('Pinot', 0.6406688690185547),\n",
       " ('wines.', 0.6373344659805298),\n",
       " ('Riesling', 0.6373227834701538)]"
      ]
     },
     "execution_count": 13,
     "metadata": {},
     "output_type": "execute_result"
    }
   ],
   "source": [
    "model.most_similar('wine')"
   ]
  },
  {
   "cell_type": "code",
   "execution_count": null,
   "metadata": {
    "collapsed": true
   },
   "outputs": [],
   "source": []
  }
 ],
 "metadata": {
  "kernelspec": {
   "display_name": "Python 2",
   "language": "python",
   "name": "python2"
  },
  "language_info": {
   "codemirror_mode": {
    "name": "ipython",
    "version": 2
   },
   "file_extension": ".py",
   "mimetype": "text/x-python",
   "name": "python",
   "nbconvert_exporter": "python",
   "pygments_lexer": "ipython2",
   "version": "2.7.12"
  }
 },
 "nbformat": 4,
 "nbformat_minor": 1
}
