{
 "cells": [
  {
   "cell_type": "code",
   "execution_count": 1,
   "metadata": {
    "collapsed": false
   },
   "outputs": [
    {
     "name": "stderr",
     "output_type": "stream",
     "text": [
      "/Applications/anaconda/lib/python2.7/site-packages/IPython/html.py:14: ShimWarning: The `IPython.html` package has been deprecated. You should import from `notebook` instead. `IPython.html.widgets` has moved to `ipywidgets`.\n",
      "  \"`IPython.html.widgets` has moved to `ipywidgets`.\", ShimWarning)\n"
     ]
    }
   ],
   "source": [
    "%matplotlib inline\n",
    "\n",
    "import numpy as np\n",
    "import pandas as pd\n",
    "import matplotlib.pyplot as plt\n",
    "import seaborn as sns\n",
    "sns.set_style(\"darkgrid\")\n",
    "\n",
    "import gensim\n",
    "\n",
    "import statsmodels.formula.api as smf\n",
    "import statsmodels.api as sm\n",
    "\n",
    "from textblob import TextBlob\n",
    "from textblob.classifiers import NaiveBayesClassifier\n",
    "from textblob.sentiments import NaiveBayesAnalyzer"
   ]
  },
  {
   "cell_type": "code",
   "execution_count": 2,
   "metadata": {
    "collapsed": false
   },
   "outputs": [
    {
     "name": "stderr",
     "output_type": "stream",
     "text": [
      "/Applications/anaconda/lib/python2.7/site-packages/IPython/core/interactiveshell.py:2717: DtypeWarning: Columns (5,12,13) have mixed types. Specify dtype option on import or set low_memory=False.\n",
      "  interactivity=interactivity, compiler=compiler, result=result)\n"
     ]
    }
   ],
   "source": [
    "data = pd.read_csv('../../yelp-data/new_data/final_data/data_final.csv')"
   ]
  },
  {
   "cell_type": "markdown",
   "metadata": {},
   "source": [
    "Does the review text contain the following words: experience, price, wine, cheese, sauce? "
   ]
  },
  {
   "cell_type": "code",
   "execution_count": 3,
   "metadata": {
    "collapsed": true
   },
   "outputs": [],
   "source": [
    "data['experience'] = data['text'].str.contains('experience')\n",
    "data['price'] = data['text'].str.contains('price')\n",
    "data['wine'] = data['text'].str.contains('wine')\n",
    "data['cheese'] = data['text'].str.contains('cheese')\n",
    "data['sauce'] = data['text'].str.contains('sauce')"
   ]
  },
  {
   "cell_type": "markdown",
   "metadata": {},
   "source": [
    "Export and switch over to R."
   ]
  },
  {
   "cell_type": "code",
   "execution_count": 4,
   "metadata": {
    "collapsed": true
   },
   "outputs": [],
   "source": [
    "data.to_csv('../../yelp-data/new_data/final_data/manip_data2.csv',index=False)"
   ]
  },
  {
   "cell_type": "markdown",
   "metadata": {
    "collapsed": true
   },
   "source": [
    "### Import, once again, for heat map purposes"
   ]
  },
  {
   "cell_type": "code",
   "execution_count": 5,
   "metadata": {
    "collapsed": false
   },
   "outputs": [],
   "source": [
    "data = pd.read_csv('../../yelp-data/new_data/final_data/manip_data2.csv')"
   ]
  },
  {
   "cell_type": "code",
   "execution_count": 6,
   "metadata": {
    "collapsed": false
   },
   "outputs": [
    {
     "data": {
      "text/html": [
       "<div>\n",
       "<table border=\"1\" class=\"dataframe\">\n",
       "  <thead>\n",
       "    <tr style=\"text-align: right;\">\n",
       "      <th></th>\n",
       "      <th>CreditCards</th>\n",
       "      <th>Alcohol</th>\n",
       "      <th>Attire</th>\n",
       "      <th>Caters</th>\n",
       "      <th>Delivery</th>\n",
       "      <th>DietaryRestrictions</th>\n",
       "      <th>DriveThru</th>\n",
       "      <th>GoodforKids</th>\n",
       "      <th>HappyHour</th>\n",
       "      <th>TV</th>\n",
       "      <th>...</th>\n",
       "      <th>user_review_count</th>\n",
       "      <th>user_votes_cool</th>\n",
       "      <th>user_votes_funny</th>\n",
       "      <th>user_votes_useful</th>\n",
       "      <th>user_yelping_since</th>\n",
       "      <th>experience</th>\n",
       "      <th>price</th>\n",
       "      <th>wine</th>\n",
       "      <th>cheese</th>\n",
       "      <th>sauce</th>\n",
       "    </tr>\n",
       "  </thead>\n",
       "  <tbody>\n",
       "    <tr>\n",
       "      <th>0</th>\n",
       "      <td>True</td>\n",
       "      <td>none</td>\n",
       "      <td>casual</td>\n",
       "      <td>False</td>\n",
       "      <td>False</td>\n",
       "      <td>NaN</td>\n",
       "      <td>False</td>\n",
       "      <td>True</td>\n",
       "      <td>NaN</td>\n",
       "      <td>False</td>\n",
       "      <td>...</td>\n",
       "      <td>26</td>\n",
       "      <td>3</td>\n",
       "      <td>10</td>\n",
       "      <td>26</td>\n",
       "      <td>2012-10</td>\n",
       "      <td>False</td>\n",
       "      <td>True</td>\n",
       "      <td>False</td>\n",
       "      <td>True</td>\n",
       "      <td>False</td>\n",
       "    </tr>\n",
       "    <tr>\n",
       "      <th>1</th>\n",
       "      <td>True</td>\n",
       "      <td>none</td>\n",
       "      <td>casual</td>\n",
       "      <td>False</td>\n",
       "      <td>False</td>\n",
       "      <td>NaN</td>\n",
       "      <td>False</td>\n",
       "      <td>True</td>\n",
       "      <td>NaN</td>\n",
       "      <td>False</td>\n",
       "      <td>...</td>\n",
       "      <td>3</td>\n",
       "      <td>0</td>\n",
       "      <td>0</td>\n",
       "      <td>1</td>\n",
       "      <td>2016-04</td>\n",
       "      <td>False</td>\n",
       "      <td>False</td>\n",
       "      <td>False</td>\n",
       "      <td>True</td>\n",
       "      <td>False</td>\n",
       "    </tr>\n",
       "    <tr>\n",
       "      <th>2</th>\n",
       "      <td>True</td>\n",
       "      <td>NaN</td>\n",
       "      <td>NaN</td>\n",
       "      <td>NaN</td>\n",
       "      <td>NaN</td>\n",
       "      <td>NaN</td>\n",
       "      <td>NaN</td>\n",
       "      <td>NaN</td>\n",
       "      <td>True</td>\n",
       "      <td>NaN</td>\n",
       "      <td>...</td>\n",
       "      <td>158</td>\n",
       "      <td>80</td>\n",
       "      <td>46</td>\n",
       "      <td>161</td>\n",
       "      <td>2012-06</td>\n",
       "      <td>False</td>\n",
       "      <td>False</td>\n",
       "      <td>False</td>\n",
       "      <td>False</td>\n",
       "      <td>False</td>\n",
       "    </tr>\n",
       "    <tr>\n",
       "      <th>3</th>\n",
       "      <td>True</td>\n",
       "      <td>full_bar</td>\n",
       "      <td>casual</td>\n",
       "      <td>False</td>\n",
       "      <td>False</td>\n",
       "      <td>NaN</td>\n",
       "      <td>NaN</td>\n",
       "      <td>True</td>\n",
       "      <td>NaN</td>\n",
       "      <td>True</td>\n",
       "      <td>...</td>\n",
       "      <td>158</td>\n",
       "      <td>80</td>\n",
       "      <td>46</td>\n",
       "      <td>161</td>\n",
       "      <td>2012-06</td>\n",
       "      <td>False</td>\n",
       "      <td>True</td>\n",
       "      <td>False</td>\n",
       "      <td>False</td>\n",
       "      <td>False</td>\n",
       "    </tr>\n",
       "    <tr>\n",
       "      <th>4</th>\n",
       "      <td>True</td>\n",
       "      <td>full_bar</td>\n",
       "      <td>casual</td>\n",
       "      <td>False</td>\n",
       "      <td>False</td>\n",
       "      <td>NaN</td>\n",
       "      <td>NaN</td>\n",
       "      <td>False</td>\n",
       "      <td>NaN</td>\n",
       "      <td>False</td>\n",
       "      <td>...</td>\n",
       "      <td>158</td>\n",
       "      <td>80</td>\n",
       "      <td>46</td>\n",
       "      <td>161</td>\n",
       "      <td>2012-06</td>\n",
       "      <td>False</td>\n",
       "      <td>False</td>\n",
       "      <td>False</td>\n",
       "      <td>False</td>\n",
       "      <td>False</td>\n",
       "    </tr>\n",
       "  </tbody>\n",
       "</table>\n",
       "<p>5 rows × 62 columns</p>\n",
       "</div>"
      ],
      "text/plain": [
       "  CreditCards   Alcohol  Attire Caters Delivery DietaryRestrictions DriveThru  \\\n",
       "0        True      none  casual  False    False                 NaN     False   \n",
       "1        True      none  casual  False    False                 NaN     False   \n",
       "2        True       NaN     NaN    NaN      NaN                 NaN       NaN   \n",
       "3        True  full_bar  casual  False    False                 NaN       NaN   \n",
       "4        True  full_bar  casual  False    False                 NaN       NaN   \n",
       "\n",
       "  GoodforKids HappyHour     TV  ...   user_review_count user_votes_cool  \\\n",
       "0        True       NaN  False  ...                  26               3   \n",
       "1        True       NaN  False  ...                   3               0   \n",
       "2         NaN      True    NaN  ...                 158              80   \n",
       "3        True       NaN   True  ...                 158              80   \n",
       "4       False       NaN  False  ...                 158              80   \n",
       "\n",
       "  user_votes_funny user_votes_useful user_yelping_since  experience  price  \\\n",
       "0               10                26            2012-10       False   True   \n",
       "1                0                 1            2016-04       False  False   \n",
       "2               46               161            2012-06       False  False   \n",
       "3               46               161            2012-06       False   True   \n",
       "4               46               161            2012-06       False  False   \n",
       "\n",
       "    wine cheese  sauce  \n",
       "0  False   True  False  \n",
       "1  False   True  False  \n",
       "2  False  False  False  \n",
       "3  False  False  False  \n",
       "4  False  False  False  \n",
       "\n",
       "[5 rows x 62 columns]"
      ]
     },
     "execution_count": 6,
     "metadata": {},
     "output_type": "execute_result"
    }
   ],
   "source": [
    "data.head()"
   ]
  },
  {
   "cell_type": "markdown",
   "metadata": {},
   "source": [
    "experience  \n",
    "price  \n",
    "wine  \n",
    "cheese  \n",
    "sauce..."
   ]
  },
  {
   "cell_type": "code",
   "execution_count": 7,
   "metadata": {
    "collapsed": false
   },
   "outputs": [],
   "source": [
    "data['taste'] = data['text'].str.contains('taste')\n",
    "data['salad'] = data['text'].str.contains('salad')\n",
    "data['bread'] = data['text'].str.contains('bread')\n",
    "data['fries'] = data['text'].str.contains('fries')\n",
    "data['dinner'] = data['text'].str.contains('dinner')\n",
    "data['overcooked'] = data['text'].str.contains('overcooked')\n",
    "data['bar'] = data['text'].str.contains('bar')\n",
    "data['delicious'] = data['text'].str.contains('delicious')\n",
    "data['special'] = data['text'].str.contains('special')\n",
    "data['lovely'] = data['text'].str.contains('lovely')\n",
    "data['tasty'] = data['text'].str.contains('tasty')\n",
    "data['juicy'] = data['text'].str.contains('juicy')\n",
    "data['quite'] = data['text'].str.contains('quite')\n",
    "data['flavorless'] = data['text'].str.contains('flavorless')"
   ]
  },
  {
   "cell_type": "code",
   "execution_count": 8,
   "metadata": {
    "collapsed": false
   },
   "outputs": [],
   "source": [
    "data_experience = data[data.experience == True]\n",
    "experience = data_experience.groupby(['state'],as_index=False).ReviewStars.mean()\n",
    "experience.to_csv('../../yelp-data/new_data/final_data/heatmap/experience.csv',index=False)"
   ]
  },
  {
   "cell_type": "code",
   "execution_count": 9,
   "metadata": {
    "collapsed": true
   },
   "outputs": [],
   "source": [
    "data_price = data[data.price == True]\n",
    "price = data_price.groupby(['state'],as_index=False).ReviewStars.mean()\n",
    "price.to_csv('../../yelp-data/new_data/final_data/heatmap/price.csv',index=False)"
   ]
  },
  {
   "cell_type": "code",
   "execution_count": 10,
   "metadata": {
    "collapsed": true
   },
   "outputs": [],
   "source": [
    "data_wine = data[data.wine == True]\n",
    "wine = data_wine.groupby(['state'],as_index=False).ReviewStars.mean()\n",
    "wine.to_csv('../../yelp-data/new_data/final_data/heatmap/wine.csv',index=False)"
   ]
  },
  {
   "cell_type": "code",
   "execution_count": 11,
   "metadata": {
    "collapsed": true
   },
   "outputs": [],
   "source": [
    "data_cheese = data[data.cheese == True]\n",
    "cheese = data_cheese.groupby(['state'],as_index=False).ReviewStars.mean()\n",
    "cheese.to_csv('../../yelp-data/new_data/final_data/heatmap/cheese.csv',index=False)"
   ]
  },
  {
   "cell_type": "code",
   "execution_count": 12,
   "metadata": {
    "collapsed": true
   },
   "outputs": [],
   "source": [
    "data_sauce = data[data.sauce == True]\n",
    "sauce = data_sauce.groupby(['state'],as_index=False).ReviewStars.mean()\n",
    "sauce.to_csv('../../yelp-data/new_data/final_data/heatmap/sauce.csv',index=False)"
   ]
  },
  {
   "cell_type": "code",
   "execution_count": 13,
   "metadata": {
    "collapsed": true
   },
   "outputs": [],
   "source": [
    "data_taste = data[data.taste == True]\n",
    "taste = data_taste.groupby(['state'],as_index=False).ReviewStars.mean()\n",
    "taste.to_csv('../../yelp-data/new_data/final_data/heatmap/taste.csv',index=False)"
   ]
  },
  {
   "cell_type": "code",
   "execution_count": 14,
   "metadata": {
    "collapsed": true
   },
   "outputs": [],
   "source": [
    "data_salad = data[data.salad == True]\n",
    "salad = data_salad.groupby(['state'],as_index=False).ReviewStars.mean()\n",
    "salad.to_csv('../../yelp-data/new_data/final_data/heatmap/salad.csv',index=False)"
   ]
  },
  {
   "cell_type": "code",
   "execution_count": 15,
   "metadata": {
    "collapsed": true
   },
   "outputs": [],
   "source": [
    "data_bread = data[data.bread == True]\n",
    "bread = data_bread.groupby(['state'],as_index=False).ReviewStars.mean()\n",
    "bread.to_csv('../../yelp-data/new_data/final_data/heatmap/bread.csv',index=False)"
   ]
  },
  {
   "cell_type": "code",
   "execution_count": 16,
   "metadata": {
    "collapsed": true
   },
   "outputs": [],
   "source": [
    "data_fries = data[data.fries == True]\n",
    "fries = data_fries.groupby(['state'],as_index=False).ReviewStars.mean()\n",
    "fries.to_csv('../../yelp-data/new_data/final_data/heatmap/fries.csv',index=False)"
   ]
  },
  {
   "cell_type": "code",
   "execution_count": 17,
   "metadata": {
    "collapsed": true
   },
   "outputs": [],
   "source": [
    "data_dinner = data[data.dinner == True]\n",
    "dinner = data_dinner.groupby(['state'],as_index=False).ReviewStars.mean()\n",
    "dinner.to_csv('../../yelp-data/new_data/final_data/heatmap/dinner.csv',index=False)"
   ]
  },
  {
   "cell_type": "code",
   "execution_count": 18,
   "metadata": {
    "collapsed": true
   },
   "outputs": [],
   "source": [
    "data_overcooked = data[data.overcooked == True]\n",
    "overcooked = data_overcooked.groupby(['state'],as_index=False).ReviewStars.mean()\n",
    "overcooked.to_csv('../../yelp-data/new_data/final_data/heatmap/overcooked.csv',index=False)"
   ]
  },
  {
   "cell_type": "code",
   "execution_count": 19,
   "metadata": {
    "collapsed": true
   },
   "outputs": [],
   "source": [
    "data_bar = data[data.bar == True]\n",
    "bar = data_bar.groupby(['state'],as_index=False).ReviewStars.mean()\n",
    "bar.to_csv('../../yelp-data/new_data/final_data/heatmap/bar.csv',index=False)"
   ]
  },
  {
   "cell_type": "code",
   "execution_count": 20,
   "metadata": {
    "collapsed": true
   },
   "outputs": [],
   "source": [
    "data_delicious = data[data.delicious == True]\n",
    "delicious = data_delicious.groupby(['state'],as_index=False).ReviewStars.mean()\n",
    "delicious.to_csv('../../yelp-data/new_data/final_data/heatmap/delicious.csv',index=False)"
   ]
  },
  {
   "cell_type": "code",
   "execution_count": 21,
   "metadata": {
    "collapsed": true
   },
   "outputs": [],
   "source": [
    "data_special = data[data.special == True]\n",
    "special = data_special.groupby(['state'],as_index=False).ReviewStars.mean()\n",
    "special.to_csv('../../yelp-data/new_data/final_data/heatmap/special.csv',index=False)"
   ]
  },
  {
   "cell_type": "code",
   "execution_count": 22,
   "metadata": {
    "collapsed": true
   },
   "outputs": [],
   "source": [
    "data_lovely = data[data.lovely == True]\n",
    "lovely = data_lovely.groupby(['state'],as_index=False).ReviewStars.mean()\n",
    "lovely.to_csv('../../yelp-data/new_data/final_data/heatmap/lovely.csv',index=False)"
   ]
  },
  {
   "cell_type": "code",
   "execution_count": 23,
   "metadata": {
    "collapsed": true
   },
   "outputs": [],
   "source": [
    "data_juicy = data[data.juicy == True]\n",
    "juicy = data_juicy.groupby(['state'],as_index=False).ReviewStars.mean()\n",
    "juicy.to_csv('../../yelp-data/new_data/final_data/heatmap/juicy.csv',index=False)"
   ]
  },
  {
   "cell_type": "code",
   "execution_count": 24,
   "metadata": {
    "collapsed": true
   },
   "outputs": [],
   "source": [
    "data_tasty = data[data.tasty == True]\n",
    "tasty = data_tasty.groupby(['state'],as_index=False).ReviewStars.mean()\n",
    "tasty.to_csv('../../yelp-data/new_data/final_data/heatmap/tasty.csv',index=False)"
   ]
  },
  {
   "cell_type": "code",
   "execution_count": 25,
   "metadata": {
    "collapsed": true
   },
   "outputs": [],
   "source": [
    "data_quite = data[data.quite == True]\n",
    "quite = data_quite.groupby(['state'],as_index=False).ReviewStars.mean()\n",
    "quite.to_csv('../../yelp-data/new_data/final_data/heatmap/quite.csv',index=False)"
   ]
  },
  {
   "cell_type": "code",
   "execution_count": 26,
   "metadata": {
    "collapsed": true
   },
   "outputs": [],
   "source": [
    "data_flavorless = data[data.flavorless == True]\n",
    "flavorless = data_flavorless.groupby(['state'],as_index=False).ReviewStars.mean()\n",
    "flavorless.to_csv('../../yelp-data/new_data/final_data/heatmap/flavorless.csv',index=False)"
   ]
  },
  {
   "cell_type": "code",
   "execution_count": null,
   "metadata": {
    "collapsed": true
   },
   "outputs": [],
   "source": []
  }
 ],
 "metadata": {
  "kernelspec": {
   "display_name": "Python 2",
   "language": "python",
   "name": "python2"
  },
  "language_info": {
   "codemirror_mode": {
    "name": "ipython",
    "version": 2
   },
   "file_extension": ".py",
   "mimetype": "text/x-python",
   "name": "python",
   "nbconvert_exporter": "python",
   "pygments_lexer": "ipython2",
   "version": "2.7.12"
  }
 },
 "nbformat": 4,
 "nbformat_minor": 1
}
