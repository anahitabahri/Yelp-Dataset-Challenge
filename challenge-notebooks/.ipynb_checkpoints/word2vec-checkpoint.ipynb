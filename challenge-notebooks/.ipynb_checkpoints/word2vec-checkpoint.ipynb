{
 "cells": [
  {
   "cell_type": "code",
   "execution_count": 1,
   "metadata": {
    "collapsed": false
   },
   "outputs": [
    {
     "name": "stderr",
     "output_type": "stream",
     "text": [
      "/Applications/anaconda/lib/python2.7/site-packages/IPython/html.py:14: ShimWarning: The `IPython.html` package has been deprecated. You should import from `notebook` instead. `IPython.html.widgets` has moved to `ipywidgets`.\n",
      "  \"`IPython.html.widgets` has moved to `ipywidgets`.\", ShimWarning)\n"
     ]
    }
   ],
   "source": [
    "%matplotlib inline\n",
    "\n",
    "import numpy as np\n",
    "import pandas as pd\n",
    "import matplotlib.pyplot as plt\n",
    "import seaborn as sns\n",
    "sns.set_style(\"darkgrid\")\n",
    "\n",
    "from sklearn.feature_extraction.text import CountVectorizer, TfidfVectorizer\n",
    "from sklearn.ensemble import RandomForestClassifier\n",
    "\n",
    "from gensim.models.word2vec import Word2Vec"
   ]
  },
  {
   "cell_type": "code",
   "execution_count": 2,
   "metadata": {
    "collapsed": true
   },
   "outputs": [],
   "source": [
    "data = pd.read_csv('../../yelp-data/new_data/final_data/manip_data.csv')"
   ]
  },
  {
   "cell_type": "code",
   "execution_count": 3,
   "metadata": {
    "collapsed": true
   },
   "outputs": [],
   "source": [
    "text = data.text.dropna().map(lambda x: x.split())"
   ]
  },
  {
   "cell_type": "code",
   "execution_count": 4,
   "metadata": {
    "collapsed": false
   },
   "outputs": [],
   "source": [
    "model = Word2Vec(text, size=100, window=5, min_count=5, workers=4)"
   ]
  },
  {
   "cell_type": "code",
   "execution_count": 5,
   "metadata": {
    "collapsed": false
   },
   "outputs": [
    {
     "data": {
      "text/plain": [
       "[('bomb,', 0.6664633750915527),\n",
       " ('killer', 0.6146372556686401),\n",
       " ('yummy', 0.6126831769943237),\n",
       " ('delish', 0.605032205581665),\n",
       " ('bomb!', 0.6024252772331238),\n",
       " ('bomb.', 0.6007922291755676),\n",
       " ('legit', 0.5647023916244507),\n",
       " ('guava', 0.5639989972114563),\n",
       " ('jalape\\xc3\\xb1o', 0.5568761825561523),\n",
       " ('DELICIOUS', 0.5542331337928772)]"
      ]
     },
     "execution_count": 5,
     "metadata": {},
     "output_type": "execute_result"
    }
   ],
   "source": [
    "model.most_similar('bomb')"
   ]
  },
  {
   "cell_type": "code",
   "execution_count": 6,
   "metadata": {
    "collapsed": false
   },
   "outputs": [
    {
     "data": {
      "text/plain": [
       "[('Swordfish,', 0.7641465067863464),\n",
       " ('respectively).', 0.754440188407898),\n",
       " ('Avalon.', 0.7522343397140503),\n",
       " ('brainchild', 0.7518200874328613),\n",
       " ('Kabocha', 0.7475636005401611),\n",
       " ('18-oz', 0.7471858263015747),\n",
       " ('Mornay', 0.7457447052001953),\n",
       " ('raison', 0.745682954788208),\n",
       " ('Frango', 0.744411826133728),\n",
       " ('\"City', 0.7429077625274658)]"
      ]
     },
     "execution_count": 6,
     "metadata": {},
     "output_type": "execute_result"
    }
   ],
   "source": [
    "model.most_similar('entrecote')"
   ]
  },
  {
   "cell_type": "code",
   "execution_count": 7,
   "metadata": {
    "collapsed": false
   },
   "outputs": [
    {
     "data": {
      "text/plain": [
       "[('very', 0.773969292640686),\n",
       " ('fairly', 0.7730783224105835),\n",
       " ('quite', 0.730404257774353),\n",
       " ('surprisingly', 0.7146251201629639),\n",
       " ('soooo', 0.6735637784004211),\n",
       " ('ridiculously', 0.6639546751976013),\n",
       " ('VERY', 0.6628201007843018),\n",
       " ('super', 0.6603380441665649),\n",
       " ('relatively', 0.6578768491744995),\n",
       " ('really', 0.6485140323638916)]"
      ]
     },
     "execution_count": 7,
     "metadata": {},
     "output_type": "execute_result"
    }
   ],
   "source": [
    "model.most_similar('pretty')"
   ]
  },
  {
   "cell_type": "code",
   "execution_count": 8,
   "metadata": {
    "collapsed": false
   },
   "outputs": [
    {
     "data": {
      "text/plain": [
       "[('sauce,', 0.8461623191833496),\n",
       " ('glaze', 0.7802013158798218),\n",
       " ('marinade', 0.7722140550613403),\n",
       " ('mayo', 0.7626287937164307),\n",
       " ('mustard', 0.7603120803833008),\n",
       " ('sauce)', 0.7562144994735718),\n",
       " ('horseradish', 0.7527989149093628),\n",
       " ('aioli', 0.7514640092849731),\n",
       " ('sauce-', 0.7496747970581055),\n",
       " ('flavoring', 0.718492865562439)]"
      ]
     },
     "execution_count": 8,
     "metadata": {},
     "output_type": "execute_result"
    }
   ],
   "source": [
    "model.most_similar('sauce')"
   ]
  },
  {
   "cell_type": "code",
   "execution_count": 9,
   "metadata": {
    "collapsed": false
   },
   "outputs": [
    {
     "data": {
      "text/plain": [
       "[('wines', 0.7738568186759949),\n",
       " ('Malbec', 0.750299870967865),\n",
       " ('wine,', 0.7357649803161621),\n",
       " ('wine.', 0.7072179317474365),\n",
       " ('pinot', 0.7012085318565369),\n",
       " ('beer', 0.6923951506614685),\n",
       " ('Cabernet', 0.6793330311775208),\n",
       " ('malbec', 0.6592185497283936),\n",
       " ('Cab', 0.6465196013450623),\n",
       " ('champagne.', 0.6465082764625549)]"
      ]
     },
     "execution_count": 9,
     "metadata": {},
     "output_type": "execute_result"
    }
   ],
   "source": [
    "model.most_similar('wine')"
   ]
  },
  {
   "cell_type": "code",
   "execution_count": 10,
   "metadata": {
    "collapsed": false
   },
   "outputs": [
    {
     "data": {
      "text/plain": [
       "[('why..', 0.6708564758300781),\n",
       " ('WTF', 0.6654213666915894),\n",
       " ('Cuz', 0.6614267230033875),\n",
       " ('AMBIANCE', 0.6422114372253418),\n",
       " ('Ya', 0.6348941922187805),\n",
       " ('SEAT', 0.6255700588226318),\n",
       " ('ME?!', 0.6251627206802368),\n",
       " ('\"WHAT', 0.6235804557800293),\n",
       " ('GUYS', 0.6230815649032593),\n",
       " ('no.\"', 0.6224642395973206)]"
      ]
     },
     "execution_count": 10,
     "metadata": {},
     "output_type": "execute_result"
    }
   ],
   "source": [
    "model.most_similar('wtf')"
   ]
  },
  {
   "cell_type": "code",
   "execution_count": 11,
   "metadata": {
    "collapsed": false
   },
   "outputs": [
    {
     "data": {
      "text/plain": [
       "[('rare,', 0.8715862035751343),\n",
       " ('medium-rare', 0.8181618452072144),\n",
       " ('medium-well', 0.8158857822418213),\n",
       " ('rare)', 0.7847388982772827),\n",
       " ('medium-rare,', 0.7465656399726868),\n",
       " ('medium,', 0.7383071184158325),\n",
       " ('well-done', 0.7309146523475647),\n",
       " ('med-rare', 0.7149869203567505),\n",
       " ('\"medium\"', 0.7082633376121521),\n",
       " ('rare...', 0.7001520991325378)]"
      ]
     },
     "execution_count": 11,
     "metadata": {},
     "output_type": "execute_result"
    }
   ],
   "source": [
    "model.most_similar('rare')"
   ]
  },
  {
   "cell_type": "code",
   "execution_count": 12,
   "metadata": {
    "collapsed": false
   },
   "outputs": [
    {
     "data": {
      "text/plain": [
       "[('cold,', 0.8282610177993774),\n",
       " ('lukewarm', 0.7436223030090332),\n",
       " ('stale', 0.6913003921508789),\n",
       " ('cold.', 0.6889268159866333),\n",
       " ('hot', 0.6849794387817383),\n",
       " ('soggy', 0.6724570393562317),\n",
       " ('dry', 0.6649828553199768),\n",
       " ('burnt', 0.6585512757301331),\n",
       " ('hot,', 0.6454548835754395),\n",
       " ('stale,', 0.6363958120346069)]"
      ]
     },
     "execution_count": 12,
     "metadata": {},
     "output_type": "execute_result"
    }
   ],
   "source": [
    "model.most_similar('cold')"
   ]
  },
  {
   "cell_type": "code",
   "execution_count": 13,
   "metadata": {
    "collapsed": false
   },
   "outputs": [
    {
     "data": {
      "text/plain": [
       "[('med', 0.8880178928375244),\n",
       " ('medium,', 0.8737934827804565),\n",
       " ('medium-rare', 0.8304072618484497),\n",
       " ('Medium', 0.8261887431144714),\n",
       " ('med.', 0.7815141677856445),\n",
       " ('medium-well', 0.7626087665557861),\n",
       " ('(medium', 0.7583208084106445),\n",
       " ('Med', 0.7490639090538025),\n",
       " ('medium.', 0.747045636177063),\n",
       " ('med-rare', 0.7415951490402222)]"
      ]
     },
     "execution_count": 13,
     "metadata": {},
     "output_type": "execute_result"
    }
   ],
   "source": [
    "model.most_similar('medium')"
   ]
  },
  {
   "cell_type": "code",
   "execution_count": 14,
   "metadata": {
    "collapsed": false
   },
   "outputs": [
    {
     "data": {
      "text/plain": [
       "[('medium-well', 0.8448947668075562),\n",
       " ('medium-rare', 0.8125985860824585),\n",
       " ('rare)', 0.7956167459487915),\n",
       " ('med-rare', 0.7670876979827881),\n",
       " ('medium-well,', 0.7642567157745361),\n",
       " ('medium-rare,', 0.7612276077270508),\n",
       " ('\"medium\"', 0.7611895203590393),\n",
       " ('medium)', 0.754747211933136),\n",
       " ('Medium', 0.7445232272148132),\n",
       " ('medium,', 0.7439863681793213)]"
      ]
     },
     "execution_count": 14,
     "metadata": {},
     "output_type": "execute_result"
    }
   ],
   "source": [
    "model.most_similar('well-done')"
   ]
  },
  {
   "cell_type": "code",
   "execution_count": 15,
   "metadata": {
    "collapsed": false
   },
   "outputs": [
    {
     "data": {
      "text/plain": [
       "[('well,', 0.7750773429870605),\n",
       " ('nicely', 0.7740298509597778),\n",
       " ('well.', 0.7060009241104126),\n",
       " ('poorly', 0.6994184851646423),\n",
       " ('perfectly', 0.6826453804969788),\n",
       " ('beautifully', 0.6810519695281982),\n",
       " ('expertly', 0.6713690757751465),\n",
       " ('nicely.', 0.6660995483398438),\n",
       " ('well!', 0.6440153121948242),\n",
       " ('well).', 0.6409461498260498)]"
      ]
     },
     "execution_count": 15,
     "metadata": {},
     "output_type": "execute_result"
    }
   ],
   "source": [
    "model.most_similar('well')"
   ]
  },
  {
   "cell_type": "code",
   "execution_count": 16,
   "metadata": {
    "collapsed": false
   },
   "outputs": [
    {
     "data": {
      "text/plain": [
       "[('done,', 0.7681154608726501),\n",
       " ('cooked', 0.7227935194969177),\n",
       " ('done.', 0.6857039928436279),\n",
       " ('cooked,', 0.6690787076950073),\n",
       " ('timed', 0.6669354438781738),\n",
       " ('executed', 0.6629395484924316),\n",
       " ('seasoned', 0.6594668626785278),\n",
       " ('prepared,', 0.6432962417602539),\n",
       " ('prepared', 0.6380960941314697),\n",
       " ('done).', 0.6379367113113403)]"
      ]
     },
     "execution_count": 16,
     "metadata": {},
     "output_type": "execute_result"
    }
   ],
   "source": [
    "model.most_similar('done')"
   ]
  },
  {
   "cell_type": "code",
   "execution_count": 17,
   "metadata": {
    "collapsed": false
   },
   "outputs": [
    {
     "data": {
      "text/plain": [
       "[('mins', 0.951054573059082),\n",
       " ('min', 0.9355353713035583),\n",
       " ('minutes,', 0.885208010673523),\n",
       " ('seconds', 0.8497612476348877),\n",
       " ('min.', 0.8010178208351135),\n",
       " ('minutes)', 0.7997899651527405),\n",
       " ('min,', 0.790583610534668),\n",
       " ('mins.', 0.7725257873535156),\n",
       " ('minute', 0.7676999568939209),\n",
       " ('mins,', 0.7602644562721252)]"
      ]
     },
     "execution_count": 17,
     "metadata": {},
     "output_type": "execute_result"
    }
   ],
   "source": [
    "model.most_similar('minutes')"
   ]
  },
  {
   "cell_type": "code",
   "execution_count": 18,
   "metadata": {
    "collapsed": false
   },
   "outputs": [
    {
     "data": {
      "text/plain": [
       "[('partial', 0.7365303039550781),\n",
       " ('addicted', 0.7363131046295166),\n",
       " ('lactose', 0.7049533128738403),\n",
       " ('intolerant', 0.6875503063201904),\n",
       " ('accustomed', 0.6730118989944458),\n",
       " ('referring', 0.6710057258605957),\n",
       " ('pregnant', 0.650534451007843),\n",
       " ('sensitive', 0.6341856718063354),\n",
       " ('guessing', 0.6239946484565735),\n",
       " ('vegetarian,', 0.6230154037475586)]"
      ]
     },
     "execution_count": 18,
     "metadata": {},
     "output_type": "execute_result"
    }
   ],
   "source": [
    "model.most_similar('allergic')"
   ]
  },
  {
   "cell_type": "code",
   "execution_count": 19,
   "metadata": {
    "collapsed": false
   },
   "outputs": [
    {
     "data": {
      "text/plain": [
       "[('poisoning,', 0.7550253868103027),\n",
       " ('poisoning.', 0.7375223636627197),\n",
       " ('network', 0.7148500680923462),\n",
       " ('coma', 0.6968626976013184),\n",
       " ('coma,', 0.6851972937583923),\n",
       " ('poisoning!', 0.6745080947875977),\n",
       " ('court', 0.6410585045814514),\n",
       " ('network,', 0.6366638541221619),\n",
       " ('court,', 0.6237775683403015),\n",
       " ('court.', 0.6236802339553833)]"
      ]
     },
     "execution_count": 19,
     "metadata": {},
     "output_type": "execute_result"
    }
   ],
   "source": [
    "model.most_similar('poisoning')"
   ]
  },
  {
   "cell_type": "code",
   "execution_count": 20,
   "metadata": {
    "collapsed": false
   },
   "outputs": [
    {
     "data": {
      "text/plain": [
       "[('tired', 0.7024308443069458),\n",
       " ('sick,', 0.6388643980026245),\n",
       " ('hungry', 0.6274431943893433),\n",
       " ('upset', 0.5981408357620239),\n",
       " ('thirsty', 0.5942469835281372),\n",
       " ('hungover', 0.5928487777709961),\n",
       " ('starving', 0.5759625434875488),\n",
       " ('hungry,', 0.5703878998756409),\n",
       " ('bloated', 0.5697811841964722),\n",
       " ('vomiting', 0.5678773522377014)]"
      ]
     },
     "execution_count": 20,
     "metadata": {},
     "output_type": "execute_result"
    }
   ],
   "source": [
    "model.most_similar('sick')"
   ]
  },
  {
   "cell_type": "code",
   "execution_count": 21,
   "metadata": {
    "collapsed": false
   },
   "outputs": [
    {
     "data": {
      "text/plain": [
       "[('flavor', 0.7459472417831421),\n",
       " ('flavour', 0.6752249598503113),\n",
       " ('smell', 0.65694260597229),\n",
       " ('aftertaste', 0.6520683765411377),\n",
       " ('texture', 0.6485904455184937),\n",
       " ('taste,', 0.643190860748291),\n",
       " ('consistency', 0.6175447106361389),\n",
       " ('flavor,', 0.613344669342041),\n",
       " ('overpower', 0.6129823923110962),\n",
       " ('flavoring', 0.6008154153823853)]"
      ]
     },
     "execution_count": 21,
     "metadata": {},
     "output_type": "execute_result"
    }
   ],
   "source": [
    "model.most_similar('taste')"
   ]
  },
  {
   "cell_type": "code",
   "execution_count": 22,
   "metadata": {
    "collapsed": false
   },
   "outputs": [
    {
     "data": {
      "text/plain": [
       "[('quality,', 0.8338937759399414),\n",
       " ('quantity', 0.7406512498855591),\n",
       " ('quality.', 0.7250924110412598),\n",
       " ('preparation', 0.6476686000823975),\n",
       " ('caliber', 0.6391072273254395),\n",
       " ('price', 0.6361862421035767),\n",
       " ('pricing,', 0.629205584526062),\n",
       " ('pricing', 0.628702700138092),\n",
       " ('freshness', 0.6242746114730835),\n",
       " ('grade', 0.6240543127059937)]"
      ]
     },
     "execution_count": 22,
     "metadata": {},
     "output_type": "execute_result"
    }
   ],
   "source": [
    "model.most_similar('quality')"
   ]
  },
  {
   "cell_type": "code",
   "execution_count": 23,
   "metadata": {
    "collapsed": false
   },
   "outputs": [
    {
     "data": {
      "text/plain": [
       "[('stingy', 0.758736789226532),\n",
       " ('sparse', 0.6908819079399109),\n",
       " ('heavy', 0.6571880578994751),\n",
       " ('bland', 0.6387605667114258),\n",
       " ('salty', 0.6216830015182495),\n",
       " ('sloppy', 0.6193151473999023),\n",
       " ('greasy', 0.612706184387207),\n",
       " ('watery', 0.6108258962631226),\n",
       " ('oily', 0.6058367490768433),\n",
       " ('mushy', 0.6017669439315796)]"
      ]
     },
     "execution_count": 23,
     "metadata": {},
     "output_type": "execute_result"
    }
   ],
   "source": [
    "model.most_similar('skimpy')"
   ]
  },
  {
   "cell_type": "code",
   "execution_count": 24,
   "metadata": {
    "collapsed": false
   },
   "outputs": [
    {
     "data": {
      "text/plain": [
       "[('Bosa', 0.5416286587715149),\n",
       " ('milanesa', 0.540710985660553),\n",
       " ('Dominick', 0.5395267009735107),\n",
       " ('Annie', 0.5371854305267334),\n",
       " ('cultures,', 0.5331829190254211),\n",
       " ('not..', 0.5211428999900818),\n",
       " ('FU', 0.5155062079429626),\n",
       " ('SCREAM', 0.5134795904159546),\n",
       " ('enforcing', 0.5122936964035034),\n",
       " ('Hometown.', 0.5104541778564453)]"
      ]
     },
     "execution_count": 24,
     "metadata": {},
     "output_type": "execute_result"
    }
   ],
   "source": [
    "model.most_similar('panda')"
   ]
  },
  {
   "cell_type": "code",
   "execution_count": 25,
   "metadata": {
    "collapsed": false
   },
   "outputs": [
    {
     "data": {
      "text/plain": [
       "[('Bellagio,', 0.7144170999526978),\n",
       " ('Casino', 0.7140147686004639),\n",
       " ('Plaza', 0.7135531902313232),\n",
       " ('Tuscany', 0.7126450538635254),\n",
       " ('Paris,', 0.7105658650398254),\n",
       " ('Wynn', 0.7077804803848267),\n",
       " ('Hotel', 0.7006837129592896),\n",
       " (\"Bally's\", 0.6982412934303284),\n",
       " ('Circus', 0.6972460746765137),\n",
       " ('Rio', 0.6971273422241211)]"
      ]
     },
     "execution_count": 25,
     "metadata": {},
     "output_type": "execute_result"
    }
   ],
   "source": [
    "model.most_similar('circus')"
   ]
  },
  {
   "cell_type": "code",
   "execution_count": 26,
   "metadata": {
    "collapsed": false
   },
   "outputs": [
    {
     "data": {
      "text/plain": [
       "[('restroom', 0.8567636013031006),\n",
       " ('shower', 0.8140807151794434),\n",
       " ('toilet', 0.7956017255783081),\n",
       " ('bathroom,', 0.7608997225761414),\n",
       " ('lobby', 0.721382737159729),\n",
       " ('restrooms', 0.7079805135726929),\n",
       " ('space', 0.7008147239685059),\n",
       " ('carpet', 0.6981001496315002),\n",
       " ('bathrooms', 0.692302942276001),\n",
       " ('pool', 0.6917460560798645)]"
      ]
     },
     "execution_count": 26,
     "metadata": {},
     "output_type": "execute_result"
    }
   ],
   "source": [
    "model.most_similar('bathroom')"
   ]
  },
  {
   "cell_type": "code",
   "execution_count": 27,
   "metadata": {
    "collapsed": false
   },
   "outputs": [
    {
     "data": {
      "text/plain": [
       "[('hotel,', 0.8278946280479431),\n",
       " ('casino', 0.7943623065948486),\n",
       " ('property', 0.7778263092041016),\n",
       " ('resort', 0.7753111124038696),\n",
       " ('casino,', 0.7156445980072021),\n",
       " ('restaurant', 0.7117213010787964),\n",
       " ('MGM', 0.7094793915748596),\n",
       " ('Palazzo', 0.7034705877304077),\n",
       " ('Hotel', 0.7034575939178467),\n",
       " ('Aria', 0.6977797746658325)]"
      ]
     },
     "execution_count": 27,
     "metadata": {},
     "output_type": "execute_result"
    }
   ],
   "source": [
    "model.most_similar('hotel')"
   ]
  },
  {
   "cell_type": "code",
   "execution_count": 28,
   "metadata": {
    "collapsed": false
   },
   "outputs": [
    {
     "data": {
      "text/plain": [
       "[('yummy', 0.7192920446395874),\n",
       " ('delish', 0.7049578428268433),\n",
       " ('tasty', 0.6216047406196594),\n",
       " ('guava', 0.6166251301765442),\n",
       " ('jalape\\xc3\\xb1o', 0.6136160492897034),\n",
       " ('Yum!', 0.6121785044670105),\n",
       " ('house-made', 0.6118607521057129),\n",
       " ('scrumptious', 0.6018474102020264),\n",
       " ('homemade', 0.5980502367019653),\n",
       " ('bomb,', 0.5954315662384033)]"
      ]
     },
     "execution_count": 28,
     "metadata": {},
     "output_type": "execute_result"
    }
   ],
   "source": [
    "model.most_similar(positive=['bomb', 'delicious'], negative=['terrible'])"
   ]
  },
  {
   "cell_type": "code",
   "execution_count": 29,
   "metadata": {
    "collapsed": false
   },
   "outputs": [
    {
     "data": {
      "text/plain": [
       "'steak'"
      ]
     },
     "execution_count": 29,
     "metadata": {},
     "output_type": "execute_result"
    }
   ],
   "source": [
    "model.doesnt_match(\"breakfast steak dinner lunch\".split())"
   ]
  },
  {
   "cell_type": "code",
   "execution_count": null,
   "metadata": {
    "collapsed": true
   },
   "outputs": [],
   "source": []
  }
 ],
 "metadata": {
  "kernelspec": {
   "display_name": "Python 2",
   "language": "python",
   "name": "python2"
  },
  "language_info": {
   "codemirror_mode": {
    "name": "ipython",
    "version": 2
   },
   "file_extension": ".py",
   "mimetype": "text/x-python",
   "name": "python",
   "nbconvert_exporter": "python",
   "pygments_lexer": "ipython2",
   "version": "2.7.12"
  }
 },
 "nbformat": 4,
 "nbformat_minor": 1
}
