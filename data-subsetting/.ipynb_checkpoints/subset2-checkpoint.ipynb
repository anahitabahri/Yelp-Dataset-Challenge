{
 "cells": [
  {
   "cell_type": "code",
   "execution_count": 1,
   "metadata": {
    "collapsed": true
   },
   "outputs": [],
   "source": [
    "%matplotlib inline \n",
    "import matplotlib.pyplot as plt\n",
    "import matplotlib as mpl\n",
    "import pandas as pd\n",
    "import numpy as np\n",
    "import statsmodels.api as sm\n",
    "from sklearn import datasets, svm\n",
    "\n",
    "review = pd.read_csv('yelp-data/yelp_academic_dataset_review.csv')"
   ]
  },
  {
   "cell_type": "code",
   "execution_count": 3,
   "metadata": {
    "collapsed": false
   },
   "outputs": [],
   "source": [
    "restaurant = pd.read_csv('jp_us.csv')"
   ]
  },
  {
   "cell_type": "code",
   "execution_count": 4,
   "metadata": {
    "collapsed": false
   },
   "outputs": [
    {
     "data": {
      "text/html": [
       "<div>\n",
       "<table border=\"1\" class=\"dataframe\">\n",
       "  <thead>\n",
       "    <tr style=\"text-align: right;\">\n",
       "      <th></th>\n",
       "      <th>Unnamed: 0</th>\n",
       "      <th>business_id</th>\n",
       "      <th>reservation</th>\n",
       "      <th>price_range</th>\n",
       "      <th>alcohol</th>\n",
       "      <th>open</th>\n",
       "      <th>city</th>\n",
       "      <th>review_count</th>\n",
       "      <th>stars</th>\n",
       "      <th>city.1</th>\n",
       "      <th>state</th>\n",
       "      <th>open_flg</th>\n",
       "      <th>reserv_flg</th>\n",
       "    </tr>\n",
       "  </thead>\n",
       "  <tbody>\n",
       "    <tr>\n",
       "      <th>0</th>\n",
       "      <td>1</td>\n",
       "      <td>8Nm_jcCYtMXYW0ODSHDiXA</td>\n",
       "      <td>True</td>\n",
       "      <td>2</td>\n",
       "      <td>full_bar</td>\n",
       "      <td>True</td>\n",
       "      <td>Pittsburgh</td>\n",
       "      <td>10</td>\n",
       "      <td>4.0</td>\n",
       "      <td>Pittsburgh</td>\n",
       "      <td>PA</td>\n",
       "      <td>1</td>\n",
       "      <td>1</td>\n",
       "    </tr>\n",
       "    <tr>\n",
       "      <th>1</th>\n",
       "      <td>2</td>\n",
       "      <td>QnyzlVMyx0Exri-Lay10cA</td>\n",
       "      <td>True</td>\n",
       "      <td>2</td>\n",
       "      <td>full_bar</td>\n",
       "      <td>False</td>\n",
       "      <td>Pittsburgh</td>\n",
       "      <td>23</td>\n",
       "      <td>3.5</td>\n",
       "      <td>Pittsburgh</td>\n",
       "      <td>PA</td>\n",
       "      <td>0</td>\n",
       "      <td>1</td>\n",
       "    </tr>\n",
       "    <tr>\n",
       "      <th>2</th>\n",
       "      <td>3</td>\n",
       "      <td>1vQLTKwmcmZXtNzfKEvMmA</td>\n",
       "      <td>True</td>\n",
       "      <td>3</td>\n",
       "      <td>full_bar</td>\n",
       "      <td>True</td>\n",
       "      <td>Pittsburgh</td>\n",
       "      <td>52</td>\n",
       "      <td>3.0</td>\n",
       "      <td>Pittsburgh</td>\n",
       "      <td>PA</td>\n",
       "      <td>1</td>\n",
       "      <td>1</td>\n",
       "    </tr>\n",
       "    <tr>\n",
       "      <th>3</th>\n",
       "      <td>4</td>\n",
       "      <td>mPlWLIA4pkHMRtlQDm6UyQ</td>\n",
       "      <td>True</td>\n",
       "      <td>2</td>\n",
       "      <td>full_bar</td>\n",
       "      <td>True</td>\n",
       "      <td>Pittsburgh</td>\n",
       "      <td>127</td>\n",
       "      <td>4.0</td>\n",
       "      <td>Pittsburgh</td>\n",
       "      <td>PA</td>\n",
       "      <td>1</td>\n",
       "      <td>1</td>\n",
       "    </tr>\n",
       "    <tr>\n",
       "      <th>4</th>\n",
       "      <td>5</td>\n",
       "      <td>9SPwF-vRgtuHxciFxv5YLA</td>\n",
       "      <td>True</td>\n",
       "      <td>3</td>\n",
       "      <td>full_bar</td>\n",
       "      <td>True</td>\n",
       "      <td>Pittsburgh</td>\n",
       "      <td>237</td>\n",
       "      <td>4.0</td>\n",
       "      <td>Pittsburgh</td>\n",
       "      <td>PA</td>\n",
       "      <td>1</td>\n",
       "      <td>1</td>\n",
       "    </tr>\n",
       "  </tbody>\n",
       "</table>\n",
       "</div>"
      ],
      "text/plain": [
       "   Unnamed: 0             business_id reservation  price_range   alcohol  \\\n",
       "0           1  8Nm_jcCYtMXYW0ODSHDiXA        True            2  full_bar   \n",
       "1           2  QnyzlVMyx0Exri-Lay10cA        True            2  full_bar   \n",
       "2           3  1vQLTKwmcmZXtNzfKEvMmA        True            3  full_bar   \n",
       "3           4  mPlWLIA4pkHMRtlQDm6UyQ        True            2  full_bar   \n",
       "4           5  9SPwF-vRgtuHxciFxv5YLA        True            3  full_bar   \n",
       "\n",
       "    open        city  review_count  stars      city.1 state  open_flg  \\\n",
       "0   True  Pittsburgh            10    4.0  Pittsburgh    PA         1   \n",
       "1  False  Pittsburgh            23    3.5  Pittsburgh    PA         0   \n",
       "2   True  Pittsburgh            52    3.0  Pittsburgh    PA         1   \n",
       "3   True  Pittsburgh           127    4.0  Pittsburgh    PA         1   \n",
       "4   True  Pittsburgh           237    4.0  Pittsburgh    PA         1   \n",
       "\n",
       "   reserv_flg  \n",
       "0           1  \n",
       "1           1  \n",
       "2           1  \n",
       "3           1  \n",
       "4           1  "
      ]
     },
     "execution_count": 4,
     "metadata": {},
     "output_type": "execute_result"
    }
   ],
   "source": [
    "restaurant.head()"
   ]
  },
  {
   "cell_type": "code",
   "execution_count": 5,
   "metadata": {
    "collapsed": true
   },
   "outputs": [],
   "source": [
    "del restaurant['Unnamed: 0']"
   ]
  },
  {
   "cell_type": "code",
   "execution_count": 6,
   "metadata": {
    "collapsed": true
   },
   "outputs": [],
   "source": [
    "data = pd.merge(restaurant, review, on='business_id')"
   ]
  },
  {
   "cell_type": "code",
   "execution_count": 8,
   "metadata": {
    "collapsed": false
   },
   "outputs": [
    {
     "data": {
      "text/plain": [
       "(89188, 21)"
      ]
     },
     "execution_count": 8,
     "metadata": {},
     "output_type": "execute_result"
    }
   ],
   "source": [
    "data.shape"
   ]
  },
  {
   "cell_type": "code",
   "execution_count": 9,
   "metadata": {
    "collapsed": true
   },
   "outputs": [],
   "source": [
    "data.to_csv('subset.csv',index=False)"
   ]
  },
  {
   "cell_type": "code",
   "execution_count": null,
   "metadata": {
    "collapsed": true
   },
   "outputs": [],
   "source": []
  }
 ],
 "metadata": {
  "kernelspec": {
   "display_name": "Python 2",
   "language": "python",
   "name": "python2"
  },
  "language_info": {
   "codemirror_mode": {
    "name": "ipython",
    "version": 2
   },
   "file_extension": ".py",
   "mimetype": "text/x-python",
   "name": "python",
   "nbconvert_exporter": "python",
   "pygments_lexer": "ipython2",
   "version": "2.7.12"
  }
 },
 "nbformat": 4,
 "nbformat_minor": 1
}
