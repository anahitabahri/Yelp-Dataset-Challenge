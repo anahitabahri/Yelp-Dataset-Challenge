{
 "cells": [
  {
   "cell_type": "code",
   "execution_count": 2,
   "metadata": {
    "collapsed": false
   },
   "outputs": [
    {
     "name": "stderr",
     "output_type": "stream",
     "text": [
      "/Applications/anaconda/lib/python2.7/site-packages/IPython/core/interactiveshell.py:2717: DtypeWarning: Columns (6,7,11,25,26) have mixed types. Specify dtype option on import or set low_memory=False.\n",
      "  interactivity=interactivity, compiler=compiler, result=result)\n"
     ]
    }
   ],
   "source": [
    "%matplotlib inline \n",
    "import matplotlib.pyplot as plt\n",
    "import matplotlib as mpl\n",
    "import pandas as pd\n",
    "import numpy as np\n",
    "import statsmodels.api as sm\n",
    "from sklearn import datasets, svm\n",
    "\n",
    "business = pd.read_csv(('../../yelp-data/yelp_academic_dataset_business.csv'))\n",
    "checkin = pd.read_csv(('../../yelp-data/yelp_academic_dataset_checkin.csv'))\n",
    "review = pd.read_csv(('../../yelp-data/yelp_academic_dataset_review.csv'))\n",
    "tip = pd.read_csv(('../../yelp-data/yelp_academic_dataset_tip.csv'))\n",
    "user = pd.read_csv(('../../yelp-data/yelp_academic_dataset_user.csv'))"
   ]
  },
  {
   "cell_type": "markdown",
   "metadata": {},
   "source": [
    "## Business Data Exploration"
   ]
  },
  {
   "cell_type": "code",
   "execution_count": 3,
   "metadata": {
    "collapsed": false
   },
   "outputs": [
    {
     "data": {
      "text/plain": [
       "(85901, 56)"
      ]
     },
     "execution_count": 3,
     "metadata": {},
     "output_type": "execute_result"
    }
   ],
   "source": [
    "business.shape"
   ]
  },
  {
   "cell_type": "code",
   "execution_count": 4,
   "metadata": {
    "collapsed": false
   },
   "outputs": [
    {
     "data": {
      "text/html": [
       "<div>\n",
       "<table border=\"1\" class=\"dataframe\">\n",
       "  <thead>\n",
       "    <tr style=\"text-align: right;\">\n",
       "      <th></th>\n",
       "      <th>attributes_Accepts Credit Cards</th>\n",
       "      <th>attributes_Accepts Insurance</th>\n",
       "      <th>attributes_Ages Allowed</th>\n",
       "      <th>attributes_Alcohol</th>\n",
       "      <th>attributes_Ambience</th>\n",
       "      <th>attributes_Attire</th>\n",
       "      <th>attributes_BYOB</th>\n",
       "      <th>attributes_BYOB/Corkage</th>\n",
       "      <th>attributes_By Appointment Only</th>\n",
       "      <th>attributes_Caters</th>\n",
       "      <th>...</th>\n",
       "      <th>hours_Wednesday</th>\n",
       "      <th>latitude</th>\n",
       "      <th>longitude</th>\n",
       "      <th>name</th>\n",
       "      <th>neighborhoods</th>\n",
       "      <th>open</th>\n",
       "      <th>review_count</th>\n",
       "      <th>stars</th>\n",
       "      <th>state</th>\n",
       "      <th>type</th>\n",
       "    </tr>\n",
       "  </thead>\n",
       "  <tbody>\n",
       "    <tr>\n",
       "      <th>0</th>\n",
       "      <td>True</td>\n",
       "      <td>NaN</td>\n",
       "      <td>NaN</td>\n",
       "      <td>none</td>\n",
       "      <td>{u'romantic': False, u'intimate': False, u'cla...</td>\n",
       "      <td>casual</td>\n",
       "      <td>NaN</td>\n",
       "      <td>NaN</td>\n",
       "      <td>NaN</td>\n",
       "      <td>False</td>\n",
       "      <td>...</td>\n",
       "      <td>{u'close': u'21:00', u'open': u'11:00'}</td>\n",
       "      <td>40.354327</td>\n",
       "      <td>-79.900706</td>\n",
       "      <td>Mr Hoagie</td>\n",
       "      <td>NaN</td>\n",
       "      <td>True</td>\n",
       "      <td>7</td>\n",
       "      <td>3.5</td>\n",
       "      <td>PA</td>\n",
       "      <td>business</td>\n",
       "    </tr>\n",
       "    <tr>\n",
       "      <th>1</th>\n",
       "      <td>True</td>\n",
       "      <td>NaN</td>\n",
       "      <td>NaN</td>\n",
       "      <td>NaN</td>\n",
       "      <td>NaN</td>\n",
       "      <td>NaN</td>\n",
       "      <td>NaN</td>\n",
       "      <td>NaN</td>\n",
       "      <td>NaN</td>\n",
       "      <td>NaN</td>\n",
       "      <td>...</td>\n",
       "      <td>NaN</td>\n",
       "      <td>40.350553</td>\n",
       "      <td>-79.886814</td>\n",
       "      <td>Clancy's Pub</td>\n",
       "      <td>NaN</td>\n",
       "      <td>True</td>\n",
       "      <td>5</td>\n",
       "      <td>3.0</td>\n",
       "      <td>PA</td>\n",
       "      <td>business</td>\n",
       "    </tr>\n",
       "    <tr>\n",
       "      <th>2</th>\n",
       "      <td>NaN</td>\n",
       "      <td>NaN</td>\n",
       "      <td>NaN</td>\n",
       "      <td>NaN</td>\n",
       "      <td>NaN</td>\n",
       "      <td>NaN</td>\n",
       "      <td>NaN</td>\n",
       "      <td>NaN</td>\n",
       "      <td>NaN</td>\n",
       "      <td>NaN</td>\n",
       "      <td>...</td>\n",
       "      <td>NaN</td>\n",
       "      <td>40.354116</td>\n",
       "      <td>-80.014660</td>\n",
       "      <td>Cool Springs Golf Center</td>\n",
       "      <td>NaN</td>\n",
       "      <td>False</td>\n",
       "      <td>5</td>\n",
       "      <td>2.5</td>\n",
       "      <td>PA</td>\n",
       "      <td>business</td>\n",
       "    </tr>\n",
       "    <tr>\n",
       "      <th>3</th>\n",
       "      <td>True</td>\n",
       "      <td>NaN</td>\n",
       "      <td>NaN</td>\n",
       "      <td>full_bar</td>\n",
       "      <td>{u'romantic': False, u'intimate': False, u'cla...</td>\n",
       "      <td>casual</td>\n",
       "      <td>NaN</td>\n",
       "      <td>NaN</td>\n",
       "      <td>NaN</td>\n",
       "      <td>True</td>\n",
       "      <td>...</td>\n",
       "      <td>{u'close': u'19:00', u'open': u'10:00'}</td>\n",
       "      <td>40.408830</td>\n",
       "      <td>-79.866211</td>\n",
       "      <td>Emil's Lounge</td>\n",
       "      <td>NaN</td>\n",
       "      <td>True</td>\n",
       "      <td>26</td>\n",
       "      <td>4.5</td>\n",
       "      <td>PA</td>\n",
       "      <td>business</td>\n",
       "    </tr>\n",
       "    <tr>\n",
       "      <th>4</th>\n",
       "      <td>True</td>\n",
       "      <td>NaN</td>\n",
       "      <td>NaN</td>\n",
       "      <td>NaN</td>\n",
       "      <td>NaN</td>\n",
       "      <td>NaN</td>\n",
       "      <td>NaN</td>\n",
       "      <td>NaN</td>\n",
       "      <td>NaN</td>\n",
       "      <td>NaN</td>\n",
       "      <td>...</td>\n",
       "      <td>{u'close': u'20:00', u'open': u'11:00'}</td>\n",
       "      <td>40.403405</td>\n",
       "      <td>-79.855782</td>\n",
       "      <td>Grand View Golf Club</td>\n",
       "      <td>NaN</td>\n",
       "      <td>True</td>\n",
       "      <td>3</td>\n",
       "      <td>5.0</td>\n",
       "      <td>PA</td>\n",
       "      <td>business</td>\n",
       "    </tr>\n",
       "  </tbody>\n",
       "</table>\n",
       "<p>5 rows × 56 columns</p>\n",
       "</div>"
      ],
      "text/plain": [
       "  attributes_Accepts Credit Cards attributes_Accepts Insurance  \\\n",
       "0                            True                          NaN   \n",
       "1                            True                          NaN   \n",
       "2                             NaN                          NaN   \n",
       "3                            True                          NaN   \n",
       "4                            True                          NaN   \n",
       "\n",
       "  attributes_Ages Allowed attributes_Alcohol  \\\n",
       "0                     NaN               none   \n",
       "1                     NaN                NaN   \n",
       "2                     NaN                NaN   \n",
       "3                     NaN           full_bar   \n",
       "4                     NaN                NaN   \n",
       "\n",
       "                                 attributes_Ambience attributes_Attire  \\\n",
       "0  {u'romantic': False, u'intimate': False, u'cla...            casual   \n",
       "1                                                NaN               NaN   \n",
       "2                                                NaN               NaN   \n",
       "3  {u'romantic': False, u'intimate': False, u'cla...            casual   \n",
       "4                                                NaN               NaN   \n",
       "\n",
       "  attributes_BYOB attributes_BYOB/Corkage attributes_By Appointment Only  \\\n",
       "0             NaN                     NaN                            NaN   \n",
       "1             NaN                     NaN                            NaN   \n",
       "2             NaN                     NaN                            NaN   \n",
       "3             NaN                     NaN                            NaN   \n",
       "4             NaN                     NaN                            NaN   \n",
       "\n",
       "  attributes_Caters    ...                             hours_Wednesday  \\\n",
       "0             False    ...     {u'close': u'21:00', u'open': u'11:00'}   \n",
       "1               NaN    ...                                         NaN   \n",
       "2               NaN    ...                                         NaN   \n",
       "3              True    ...     {u'close': u'19:00', u'open': u'10:00'}   \n",
       "4               NaN    ...     {u'close': u'20:00', u'open': u'11:00'}   \n",
       "\n",
       "    latitude  longitude                      name neighborhoods   open  \\\n",
       "0  40.354327 -79.900706                 Mr Hoagie           NaN   True   \n",
       "1  40.350553 -79.886814              Clancy's Pub           NaN   True   \n",
       "2  40.354116 -80.014660  Cool Springs Golf Center           NaN  False   \n",
       "3  40.408830 -79.866211             Emil's Lounge           NaN   True   \n",
       "4  40.403405 -79.855782      Grand View Golf Club           NaN   True   \n",
       "\n",
       "  review_count stars state      type  \n",
       "0            7   3.5    PA  business  \n",
       "1            5   3.0    PA  business  \n",
       "2            5   2.5    PA  business  \n",
       "3           26   4.5    PA  business  \n",
       "4            3   5.0    PA  business  \n",
       "\n",
       "[5 rows x 56 columns]"
      ]
     },
     "execution_count": 4,
     "metadata": {},
     "output_type": "execute_result"
    }
   ],
   "source": [
    "business.head()"
   ]
  },
  {
   "cell_type": "code",
   "execution_count": 5,
   "metadata": {
    "collapsed": false
   },
   "outputs": [
    {
     "data": {
      "text/plain": [
       "<matplotlib.text.Text at 0x10ba23450>"
      ]
     },
     "execution_count": 5,
     "metadata": {},
     "output_type": "execute_result"
    },
    {
     "data": {
      "image/png": "[encoded data removed]",
      "text/plain": [
       "<matplotlib.figure.Figure at 0x1cde84dd0>"
      ]
     },
     "metadata": {},
     "output_type": "display_data"
    }
   ],
   "source": [
    "plt.hist(business.stars, color='#008080', edgecolor='white')\n",
    "plt.xlabel(\"Rating\")\n",
    "plt.ylabel(\"Count\")"
   ]
  },
  {
   "cell_type": "code",
   "execution_count": 6,
   "metadata": {
    "collapsed": false
   },
   "outputs": [
    {
     "data": {
      "text/plain": [
       "<matplotlib.axes._subplots.AxesSubplot at 0x10b6393d0>"
      ]
     },
     "execution_count": 6,
     "metadata": {},
     "output_type": "execute_result"
    },
    {
     "data": {
      "image/png": "[encoded data removed]",
      "text/plain": [
       "<matplotlib.figure.Figure at 0x10ba23b50>"
      ]
     },
     "metadata": {},
     "output_type": "display_data"
    }
   ],
   "source": [
    "business.state.value_counts().plot(kind='bar',color='#008080')"
   ]
  },
  {
   "cell_type": "markdown",
   "metadata": {},
   "source": [
    "## Checkin Data Exploration"
   ]
  },
  {
   "cell_type": "code",
   "execution_count": 7,
   "metadata": {
    "collapsed": false
   },
   "outputs": [
    {
     "data": {
      "text/plain": [
       "(61049, 170)"
      ]
     },
     "execution_count": 7,
     "metadata": {},
     "output_type": "execute_result"
    }
   ],
   "source": [
    "checkin.shape"
   ]
  },
  {
   "cell_type": "code",
   "execution_count": 8,
   "metadata": {
    "collapsed": false
   },
   "outputs": [
    {
     "data": {
      "text/html": [
       "<div>\n",
       "<table border=\"1\" class=\"dataframe\">\n",
       "  <thead>\n",
       "    <tr style=\"text-align: right;\">\n",
       "      <th></th>\n",
       "      <th>business_id</th>\n",
       "      <th>checkin_info_0-0</th>\n",
       "      <th>checkin_info_0-1</th>\n",
       "      <th>checkin_info_0-2</th>\n",
       "      <th>checkin_info_0-3</th>\n",
       "      <th>checkin_info_0-4</th>\n",
       "      <th>checkin_info_0-5</th>\n",
       "      <th>checkin_info_0-6</th>\n",
       "      <th>checkin_info_1-0</th>\n",
       "      <th>checkin_info_1-1</th>\n",
       "      <th>...</th>\n",
       "      <th>checkin_info_8-5</th>\n",
       "      <th>checkin_info_8-6</th>\n",
       "      <th>checkin_info_9-0</th>\n",
       "      <th>checkin_info_9-1</th>\n",
       "      <th>checkin_info_9-2</th>\n",
       "      <th>checkin_info_9-3</th>\n",
       "      <th>checkin_info_9-4</th>\n",
       "      <th>checkin_info_9-5</th>\n",
       "      <th>checkin_info_9-6</th>\n",
       "      <th>type</th>\n",
       "    </tr>\n",
       "  </thead>\n",
       "  <tbody>\n",
       "    <tr>\n",
       "      <th>0</th>\n",
       "      <td>cE27W9VPgO88Qxe4ol6y_g</td>\n",
       "      <td>NaN</td>\n",
       "      <td>NaN</td>\n",
       "      <td>NaN</td>\n",
       "      <td>NaN</td>\n",
       "      <td>NaN</td>\n",
       "      <td>NaN</td>\n",
       "      <td>NaN</td>\n",
       "      <td>NaN</td>\n",
       "      <td>NaN</td>\n",
       "      <td>...</td>\n",
       "      <td>NaN</td>\n",
       "      <td>NaN</td>\n",
       "      <td>NaN</td>\n",
       "      <td>NaN</td>\n",
       "      <td>NaN</td>\n",
       "      <td>NaN</td>\n",
       "      <td>NaN</td>\n",
       "      <td>1.0</td>\n",
       "      <td>NaN</td>\n",
       "      <td>checkin</td>\n",
       "    </tr>\n",
       "    <tr>\n",
       "      <th>1</th>\n",
       "      <td>mVHrayjG3uZ_RLHkLj-AMg</td>\n",
       "      <td>NaN</td>\n",
       "      <td>NaN</td>\n",
       "      <td>NaN</td>\n",
       "      <td>NaN</td>\n",
       "      <td>NaN</td>\n",
       "      <td>NaN</td>\n",
       "      <td>NaN</td>\n",
       "      <td>NaN</td>\n",
       "      <td>NaN</td>\n",
       "      <td>...</td>\n",
       "      <td>NaN</td>\n",
       "      <td>NaN</td>\n",
       "      <td>NaN</td>\n",
       "      <td>NaN</td>\n",
       "      <td>NaN</td>\n",
       "      <td>NaN</td>\n",
       "      <td>3.0</td>\n",
       "      <td>2.0</td>\n",
       "      <td>NaN</td>\n",
       "      <td>checkin</td>\n",
       "    </tr>\n",
       "    <tr>\n",
       "      <th>2</th>\n",
       "      <td>mYSpR_SLPgUVymYOvTQd_Q</td>\n",
       "      <td>NaN</td>\n",
       "      <td>NaN</td>\n",
       "      <td>NaN</td>\n",
       "      <td>NaN</td>\n",
       "      <td>NaN</td>\n",
       "      <td>NaN</td>\n",
       "      <td>NaN</td>\n",
       "      <td>NaN</td>\n",
       "      <td>NaN</td>\n",
       "      <td>...</td>\n",
       "      <td>NaN</td>\n",
       "      <td>NaN</td>\n",
       "      <td>NaN</td>\n",
       "      <td>NaN</td>\n",
       "      <td>NaN</td>\n",
       "      <td>1.0</td>\n",
       "      <td>NaN</td>\n",
       "      <td>NaN</td>\n",
       "      <td>NaN</td>\n",
       "      <td>checkin</td>\n",
       "    </tr>\n",
       "    <tr>\n",
       "      <th>3</th>\n",
       "      <td>KayYbHCt-RkbGcPdGOThNg</td>\n",
       "      <td>NaN</td>\n",
       "      <td>NaN</td>\n",
       "      <td>NaN</td>\n",
       "      <td>NaN</td>\n",
       "      <td>NaN</td>\n",
       "      <td>NaN</td>\n",
       "      <td>NaN</td>\n",
       "      <td>NaN</td>\n",
       "      <td>NaN</td>\n",
       "      <td>...</td>\n",
       "      <td>NaN</td>\n",
       "      <td>NaN</td>\n",
       "      <td>NaN</td>\n",
       "      <td>1.0</td>\n",
       "      <td>NaN</td>\n",
       "      <td>NaN</td>\n",
       "      <td>5.0</td>\n",
       "      <td>NaN</td>\n",
       "      <td>NaN</td>\n",
       "      <td>checkin</td>\n",
       "    </tr>\n",
       "    <tr>\n",
       "      <th>4</th>\n",
       "      <td>b12U9TFESStdy7CsTtcOeg</td>\n",
       "      <td>NaN</td>\n",
       "      <td>NaN</td>\n",
       "      <td>NaN</td>\n",
       "      <td>NaN</td>\n",
       "      <td>NaN</td>\n",
       "      <td>NaN</td>\n",
       "      <td>NaN</td>\n",
       "      <td>NaN</td>\n",
       "      <td>NaN</td>\n",
       "      <td>...</td>\n",
       "      <td>NaN</td>\n",
       "      <td>1.0</td>\n",
       "      <td>NaN</td>\n",
       "      <td>NaN</td>\n",
       "      <td>NaN</td>\n",
       "      <td>NaN</td>\n",
       "      <td>NaN</td>\n",
       "      <td>NaN</td>\n",
       "      <td>NaN</td>\n",
       "      <td>checkin</td>\n",
       "    </tr>\n",
       "  </tbody>\n",
       "</table>\n",
       "<p>5 rows × 170 columns</p>\n",
       "</div>"
      ],
      "text/plain": [
       "              business_id  checkin_info_0-0  checkin_info_0-1  \\\n",
       "0  cE27W9VPgO88Qxe4ol6y_g               NaN               NaN   \n",
       "1  mVHrayjG3uZ_RLHkLj-AMg               NaN               NaN   \n",
       "2  mYSpR_SLPgUVymYOvTQd_Q               NaN               NaN   \n",
       "3  KayYbHCt-RkbGcPdGOThNg               NaN               NaN   \n",
       "4  b12U9TFESStdy7CsTtcOeg               NaN               NaN   \n",
       "\n",
       "   checkin_info_0-2  checkin_info_0-3  checkin_info_0-4  checkin_info_0-5  \\\n",
       "0               NaN               NaN               NaN               NaN   \n",
       "1               NaN               NaN               NaN               NaN   \n",
       "2               NaN               NaN               NaN               NaN   \n",
       "3               NaN               NaN               NaN               NaN   \n",
       "4               NaN               NaN               NaN               NaN   \n",
       "\n",
       "   checkin_info_0-6  checkin_info_1-0  checkin_info_1-1   ...     \\\n",
       "0               NaN               NaN               NaN   ...      \n",
       "1               NaN               NaN               NaN   ...      \n",
       "2               NaN               NaN               NaN   ...      \n",
       "3               NaN               NaN               NaN   ...      \n",
       "4               NaN               NaN               NaN   ...      \n",
       "\n",
       "   checkin_info_8-5  checkin_info_8-6  checkin_info_9-0  checkin_info_9-1  \\\n",
       "0               NaN               NaN               NaN               NaN   \n",
       "1               NaN               NaN               NaN               NaN   \n",
       "2               NaN               NaN               NaN               NaN   \n",
       "3               NaN               NaN               NaN               1.0   \n",
       "4               NaN               1.0               NaN               NaN   \n",
       "\n",
       "   checkin_info_9-2  checkin_info_9-3  checkin_info_9-4  checkin_info_9-5  \\\n",
       "0               NaN               NaN               NaN               1.0   \n",
       "1               NaN               NaN               3.0               2.0   \n",
       "2               NaN               1.0               NaN               NaN   \n",
       "3               NaN               NaN               5.0               NaN   \n",
       "4               NaN               NaN               NaN               NaN   \n",
       "\n",
       "   checkin_info_9-6     type  \n",
       "0               NaN  checkin  \n",
       "1               NaN  checkin  \n",
       "2               NaN  checkin  \n",
       "3               NaN  checkin  \n",
       "4               NaN  checkin  \n",
       "\n",
       "[5 rows x 170 columns]"
      ]
     },
     "execution_count": 8,
     "metadata": {},
     "output_type": "execute_result"
    }
   ],
   "source": [
    "checkin.head()"
   ]
  },
  {
   "cell_type": "markdown",
   "metadata": {},
   "source": [
    "## Review Data Exploration"
   ]
  },
  {
   "cell_type": "code",
   "execution_count": 9,
   "metadata": {
    "collapsed": false
   },
   "outputs": [
    {
     "data": {
      "text/html": [
       "<div>\n",
       "<table border=\"1\" class=\"dataframe\">\n",
       "  <thead>\n",
       "    <tr style=\"text-align: right;\">\n",
       "      <th></th>\n",
       "      <th>business_id</th>\n",
       "      <th>date</th>\n",
       "      <th>review_id</th>\n",
       "      <th>stars</th>\n",
       "      <th>text</th>\n",
       "      <th>type</th>\n",
       "      <th>user_id</th>\n",
       "      <th>votes_cool</th>\n",
       "      <th>votes_funny</th>\n",
       "      <th>votes_useful</th>\n",
       "    </tr>\n",
       "  </thead>\n",
       "  <tbody>\n",
       "    <tr>\n",
       "      <th>0</th>\n",
       "      <td>5UmKMjUEUNdYWqANhGckJw</td>\n",
       "      <td>2012-08-01</td>\n",
       "      <td>Ya85v4eqdd6k9Od8HbQjyA</td>\n",
       "      <td>4</td>\n",
       "      <td>Mr Hoagie is an institution. Walking in, it do...</td>\n",
       "      <td>review</td>\n",
       "      <td>PUFPaY9KxDAcGqfsorJp3Q</td>\n",
       "      <td>0.0</td>\n",
       "      <td>0.0</td>\n",
       "      <td>0.0</td>\n",
       "    </tr>\n",
       "    <tr>\n",
       "      <th>1</th>\n",
       "      <td>5UmKMjUEUNdYWqANhGckJw</td>\n",
       "      <td>2014-02-13</td>\n",
       "      <td>KPvLNJ21_4wbYNctrOwWdQ</td>\n",
       "      <td>5</td>\n",
       "      <td>Excellent food. Superb customer service. I mis...</td>\n",
       "      <td>review</td>\n",
       "      <td>Iu6AxdBYGR4A0wspR9BYHA</td>\n",
       "      <td>0.0</td>\n",
       "      <td>0.0</td>\n",
       "      <td>0.0</td>\n",
       "    </tr>\n",
       "    <tr>\n",
       "      <th>2</th>\n",
       "      <td>5UmKMjUEUNdYWqANhGckJw</td>\n",
       "      <td>2015-10-31</td>\n",
       "      <td>fFSoGV46Yxuwbr3fHNuZig</td>\n",
       "      <td>5</td>\n",
       "      <td>Yes this place is a little out dated and not o...</td>\n",
       "      <td>review</td>\n",
       "      <td>auESFwWvW42h6alXgFxAXQ</td>\n",
       "      <td>0.0</td>\n",
       "      <td>1.0</td>\n",
       "      <td>1.0</td>\n",
       "    </tr>\n",
       "    <tr>\n",
       "      <th>3</th>\n",
       "      <td>5UmKMjUEUNdYWqANhGckJw</td>\n",
       "      <td>2015-12-26</td>\n",
       "      <td>pVMIt0a_QsKtuDfWVfSk2A</td>\n",
       "      <td>3</td>\n",
       "      <td>PROS: Italian hoagie was delicious.  Friendly ...</td>\n",
       "      <td>review</td>\n",
       "      <td>qiczib2fO_1VBG8IoCGvVg</td>\n",
       "      <td>0.0</td>\n",
       "      <td>0.0</td>\n",
       "      <td>0.0</td>\n",
       "    </tr>\n",
       "    <tr>\n",
       "      <th>4</th>\n",
       "      <td>5UmKMjUEUNdYWqANhGckJw</td>\n",
       "      <td>2016-04-08</td>\n",
       "      <td>AEyiQ_Y44isJmNbMTyoMKQ</td>\n",
       "      <td>2</td>\n",
       "      <td>First the only reason this place could possibl...</td>\n",
       "      <td>review</td>\n",
       "      <td>qEE5EvV-f-s7yHC0Z4ydJQ</td>\n",
       "      <td>0.0</td>\n",
       "      <td>0.0</td>\n",
       "      <td>1.0</td>\n",
       "    </tr>\n",
       "  </tbody>\n",
       "</table>\n",
       "</div>"
      ],
      "text/plain": [
       "              business_id        date               review_id  stars  \\\n",
       "0  5UmKMjUEUNdYWqANhGckJw  2012-08-01  Ya85v4eqdd6k9Od8HbQjyA      4   \n",
       "1  5UmKMjUEUNdYWqANhGckJw  2014-02-13  KPvLNJ21_4wbYNctrOwWdQ      5   \n",
       "2  5UmKMjUEUNdYWqANhGckJw  2015-10-31  fFSoGV46Yxuwbr3fHNuZig      5   \n",
       "3  5UmKMjUEUNdYWqANhGckJw  2015-12-26  pVMIt0a_QsKtuDfWVfSk2A      3   \n",
       "4  5UmKMjUEUNdYWqANhGckJw  2016-04-08  AEyiQ_Y44isJmNbMTyoMKQ      2   \n",
       "\n",
       "                                                text    type  \\\n",
       "0  Mr Hoagie is an institution. Walking in, it do...  review   \n",
       "1  Excellent food. Superb customer service. I mis...  review   \n",
       "2  Yes this place is a little out dated and not o...  review   \n",
       "3  PROS: Italian hoagie was delicious.  Friendly ...  review   \n",
       "4  First the only reason this place could possibl...  review   \n",
       "\n",
       "                  user_id  votes_cool  votes_funny  votes_useful  \n",
       "0  PUFPaY9KxDAcGqfsorJp3Q         0.0          0.0           0.0  \n",
       "1  Iu6AxdBYGR4A0wspR9BYHA         0.0          0.0           0.0  \n",
       "2  auESFwWvW42h6alXgFxAXQ         0.0          1.0           1.0  \n",
       "3  qiczib2fO_1VBG8IoCGvVg         0.0          0.0           0.0  \n",
       "4  qEE5EvV-f-s7yHC0Z4ydJQ         0.0          0.0           1.0  "
      ]
     },
     "execution_count": 9,
     "metadata": {},
     "output_type": "execute_result"
    }
   ],
   "source": [
    "review.head()"
   ]
  },
  {
   "cell_type": "code",
   "execution_count": 10,
   "metadata": {
    "collapsed": false
   },
   "outputs": [
    {
     "data": {
      "text/html": [
       "<div>\n",
       "<table border=\"1\" class=\"dataframe\">\n",
       "  <thead>\n",
       "    <tr style=\"text-align: right;\">\n",
       "      <th></th>\n",
       "      <th>stars</th>\n",
       "      <th>votes_cool</th>\n",
       "      <th>votes_funny</th>\n",
       "      <th>votes_useful</th>\n",
       "    </tr>\n",
       "  </thead>\n",
       "  <tbody>\n",
       "    <tr>\n",
       "      <th>count</th>\n",
       "      <td>2.685067e+06</td>\n",
       "      <td>2.685065e+06</td>\n",
       "      <td>2.685065e+06</td>\n",
       "      <td>2.685065e+06</td>\n",
       "    </tr>\n",
       "    <tr>\n",
       "      <th>mean</th>\n",
       "      <td>3.764207e+00</td>\n",
       "      <td>5.389765e-01</td>\n",
       "      <td>4.310592e-01</td>\n",
       "      <td>1.006813e+00</td>\n",
       "    </tr>\n",
       "    <tr>\n",
       "      <th>std</th>\n",
       "      <td>1.390084e+00</td>\n",
       "      <td>1.781651e+00</td>\n",
       "      <td>1.580670e+00</td>\n",
       "      <td>2.233418e+00</td>\n",
       "    </tr>\n",
       "    <tr>\n",
       "      <th>min</th>\n",
       "      <td>1.000000e+00</td>\n",
       "      <td>0.000000e+00</td>\n",
       "      <td>0.000000e+00</td>\n",
       "      <td>0.000000e+00</td>\n",
       "    </tr>\n",
       "    <tr>\n",
       "      <th>25%</th>\n",
       "      <td>3.000000e+00</td>\n",
       "      <td>0.000000e+00</td>\n",
       "      <td>0.000000e+00</td>\n",
       "      <td>0.000000e+00</td>\n",
       "    </tr>\n",
       "    <tr>\n",
       "      <th>50%</th>\n",
       "      <td>4.000000e+00</td>\n",
       "      <td>0.000000e+00</td>\n",
       "      <td>0.000000e+00</td>\n",
       "      <td>0.000000e+00</td>\n",
       "    </tr>\n",
       "    <tr>\n",
       "      <th>75%</th>\n",
       "      <td>5.000000e+00</td>\n",
       "      <td>1.000000e+00</td>\n",
       "      <td>0.000000e+00</td>\n",
       "      <td>1.000000e+00</td>\n",
       "    </tr>\n",
       "    <tr>\n",
       "      <th>max</th>\n",
       "      <td>5.000000e+00</td>\n",
       "      <td>1.530000e+02</td>\n",
       "      <td>1.510000e+02</td>\n",
       "      <td>1.680000e+02</td>\n",
       "    </tr>\n",
       "  </tbody>\n",
       "</table>\n",
       "</div>"
      ],
      "text/plain": [
       "              stars    votes_cool   votes_funny  votes_useful\n",
       "count  2.685067e+06  2.685065e+06  2.685065e+06  2.685065e+06\n",
       "mean   3.764207e+00  5.389765e-01  4.310592e-01  1.006813e+00\n",
       "std    1.390084e+00  1.781651e+00  1.580670e+00  2.233418e+00\n",
       "min    1.000000e+00  0.000000e+00  0.000000e+00  0.000000e+00\n",
       "25%    3.000000e+00  0.000000e+00  0.000000e+00  0.000000e+00\n",
       "50%    4.000000e+00  0.000000e+00  0.000000e+00  0.000000e+00\n",
       "75%    5.000000e+00  1.000000e+00  0.000000e+00  1.000000e+00\n",
       "max    5.000000e+00  1.530000e+02  1.510000e+02  1.680000e+02"
      ]
     },
     "execution_count": 10,
     "metadata": {},
     "output_type": "execute_result"
    }
   ],
   "source": [
    "review.describe()\n",
    "# may want to replace 0s with NAs"
   ]
  },
  {
   "cell_type": "code",
   "execution_count": 11,
   "metadata": {
    "collapsed": false
   },
   "outputs": [],
   "source": [
    "# could do the following... probably best to flag those 0 data as NAN\n",
    "# review.votes_cool[review.votes_cool==0] = np.NaN\n",
    "# review.votes_funny[review.votes_funny==0] = np.NaN\n",
    "# review.votes_useful[review.votes_useful==0] = np.NaN"
   ]
  },
  {
   "cell_type": "code",
   "execution_count": 48,
   "metadata": {
    "collapsed": false
   },
   "outputs": [
    {
     "data": {
      "text/plain": [
       "<matplotlib.text.Text at 0x1664e65d0>"
      ]
     },
     "execution_count": 48,
     "metadata": {},
     "output_type": "execute_result"
    },
    {
     "data": {
      "image/png": "[encoded data removed]",
      "text/plain": [
       "<matplotlib.figure.Figure at 0x1d0a1a4d0>"
      ]
     },
     "metadata": {},
     "output_type": "display_data"
    }
   ],
   "source": [
    "plt.hist(review.stars, color='#008080', edgecolor='white', bins=5)\n",
    "plt.xlabel(\"Rating\")\n",
    "plt.ylabel(\"Count\")"
   ]
  },
  {
   "cell_type": "markdown",
   "metadata": {},
   "source": [
    "## Tip Data Exploration"
   ]
  },
  {
   "cell_type": "code",
   "execution_count": 12,
   "metadata": {
    "collapsed": false
   },
   "outputs": [
    {
     "data": {
      "text/html": [
       "<div>\n",
       "<table border=\"1\" class=\"dataframe\">\n",
       "  <thead>\n",
       "    <tr style=\"text-align: right;\">\n",
       "      <th></th>\n",
       "      <th>business_id</th>\n",
       "      <th>date</th>\n",
       "      <th>likes</th>\n",
       "      <th>text</th>\n",
       "      <th>type</th>\n",
       "      <th>user_id</th>\n",
       "    </tr>\n",
       "  </thead>\n",
       "  <tbody>\n",
       "    <tr>\n",
       "      <th>0</th>\n",
       "      <td>5UmKMjUEUNdYWqANhGckJw</td>\n",
       "      <td>2016-07-17</td>\n",
       "      <td>0</td>\n",
       "      <td>Pizza is garbage. Hoagies are excellent.</td>\n",
       "      <td>tip</td>\n",
       "      <td>ZxdojCZgZhw36xuSGaryRg</td>\n",
       "    </tr>\n",
       "    <tr>\n",
       "      <th>1</th>\n",
       "      <td>cE27W9VPgO88Qxe4ol6y_g</td>\n",
       "      <td>2013-04-18</td>\n",
       "      <td>0</td>\n",
       "      <td>Don't waste your time.</td>\n",
       "      <td>tip</td>\n",
       "      <td>-6rEfobYjMxpUWLNxszaxQ</td>\n",
       "    </tr>\n",
       "    <tr>\n",
       "      <th>2</th>\n",
       "      <td>mVHrayjG3uZ_RLHkLj-AMg</td>\n",
       "      <td>2016-02-22</td>\n",
       "      <td>0</td>\n",
       "      <td>Not easy to find. Be sure to put in directions...</td>\n",
       "      <td>tip</td>\n",
       "      <td>5OumCBQ_MyQsltSdbMyunA</td>\n",
       "    </tr>\n",
       "    <tr>\n",
       "      <th>3</th>\n",
       "      <td>mVHrayjG3uZ_RLHkLj-AMg</td>\n",
       "      <td>2013-01-06</td>\n",
       "      <td>1</td>\n",
       "      <td>Your GPS will not allow you to find this place...</td>\n",
       "      <td>tip</td>\n",
       "      <td>EZ0r9dKKtEGVx2CdnowPCw</td>\n",
       "    </tr>\n",
       "    <tr>\n",
       "      <th>4</th>\n",
       "      <td>KayYbHCt-RkbGcPdGOThNg</td>\n",
       "      <td>2013-12-03</td>\n",
       "      <td>0</td>\n",
       "      <td>Great drink specials!</td>\n",
       "      <td>tip</td>\n",
       "      <td>xb6zEQCw9I-Gl0g06e1KsQ</td>\n",
       "    </tr>\n",
       "  </tbody>\n",
       "</table>\n",
       "</div>"
      ],
      "text/plain": [
       "              business_id        date  likes  \\\n",
       "0  5UmKMjUEUNdYWqANhGckJw  2016-07-17      0   \n",
       "1  cE27W9VPgO88Qxe4ol6y_g  2013-04-18      0   \n",
       "2  mVHrayjG3uZ_RLHkLj-AMg  2016-02-22      0   \n",
       "3  mVHrayjG3uZ_RLHkLj-AMg  2013-01-06      1   \n",
       "4  KayYbHCt-RkbGcPdGOThNg  2013-12-03      0   \n",
       "\n",
       "                                                text type  \\\n",
       "0           Pizza is garbage. Hoagies are excellent.  tip   \n",
       "1                             Don't waste your time.  tip   \n",
       "2  Not easy to find. Be sure to put in directions...  tip   \n",
       "3  Your GPS will not allow you to find this place...  tip   \n",
       "4                              Great drink specials!  tip   \n",
       "\n",
       "                  user_id  \n",
       "0  ZxdojCZgZhw36xuSGaryRg  \n",
       "1  -6rEfobYjMxpUWLNxszaxQ  \n",
       "2  5OumCBQ_MyQsltSdbMyunA  \n",
       "3  EZ0r9dKKtEGVx2CdnowPCw  \n",
       "4  xb6zEQCw9I-Gl0g06e1KsQ  "
      ]
     },
     "execution_count": 12,
     "metadata": {},
     "output_type": "execute_result"
    }
   ],
   "source": [
    "tip.head()"
   ]
  },
  {
   "cell_type": "markdown",
   "metadata": {},
   "source": [
    "## User Data Exploration"
   ]
  },
  {
   "cell_type": "code",
   "execution_count": 13,
   "metadata": {
    "collapsed": false
   },
   "outputs": [
    {
     "data": {
      "text/html": [
       "<div>\n",
       "<table border=\"1\" class=\"dataframe\">\n",
       "  <thead>\n",
       "    <tr style=\"text-align: right;\">\n",
       "      <th></th>\n",
       "      <th>average_stars</th>\n",
       "      <th>compliments_cool</th>\n",
       "      <th>compliments_cute</th>\n",
       "      <th>compliments_funny</th>\n",
       "      <th>compliments_hot</th>\n",
       "      <th>compliments_list</th>\n",
       "      <th>compliments_more</th>\n",
       "      <th>compliments_note</th>\n",
       "      <th>compliments_photos</th>\n",
       "      <th>compliments_plain</th>\n",
       "      <th>...</th>\n",
       "      <th>fans</th>\n",
       "      <th>friends</th>\n",
       "      <th>name</th>\n",
       "      <th>review_count</th>\n",
       "      <th>type</th>\n",
       "      <th>user_id</th>\n",
       "      <th>votes_cool</th>\n",
       "      <th>votes_funny</th>\n",
       "      <th>votes_useful</th>\n",
       "      <th>yelping_since</th>\n",
       "    </tr>\n",
       "  </thead>\n",
       "  <tbody>\n",
       "    <tr>\n",
       "      <th>0</th>\n",
       "      <td>4.14</td>\n",
       "      <td>76</td>\n",
       "      <td>15</td>\n",
       "      <td>11</td>\n",
       "      <td>48</td>\n",
       "      <td>NaN</td>\n",
       "      <td>3</td>\n",
       "      <td>20</td>\n",
       "      <td>14</td>\n",
       "      <td>25</td>\n",
       "      <td>...</td>\n",
       "      <td>69</td>\n",
       "      <td>[,u,',r,p,O,y,q,D,_,8,9,3,c,q,m,D,A,t,J,L,b,d,...</td>\n",
       "      <td>Russel</td>\n",
       "      <td>108</td>\n",
       "      <td>user</td>\n",
       "      <td>18kPq7GPye-YQ3LyKyAZPw</td>\n",
       "      <td>246</td>\n",
       "      <td>167</td>\n",
       "      <td>282</td>\n",
       "      <td>2004-10</td>\n",
       "    </tr>\n",
       "    <tr>\n",
       "      <th>1</th>\n",
       "      <td>3.67</td>\n",
       "      <td>1675</td>\n",
       "      <td>204</td>\n",
       "      <td>594</td>\n",
       "      <td>1111</td>\n",
       "      <td>38</td>\n",
       "      <td>137</td>\n",
       "      <td>611</td>\n",
       "      <td>361</td>\n",
       "      <td>970</td>\n",
       "      <td>...</td>\n",
       "      <td>1345</td>\n",
       "      <td>[,u,',1,8,k,P,q,7,G,P,y,e,-,Y,Q,3,L,y,K,y,A,Z,...</td>\n",
       "      <td>Jeremy</td>\n",
       "      <td>1292</td>\n",
       "      <td>user</td>\n",
       "      <td>rpOyqD_893cqmDAtJLbdog</td>\n",
       "      <td>12091</td>\n",
       "      <td>8399</td>\n",
       "      <td>15242</td>\n",
       "      <td>2004-10</td>\n",
       "    </tr>\n",
       "    <tr>\n",
       "      <th>2</th>\n",
       "      <td>3.68</td>\n",
       "      <td>134</td>\n",
       "      <td>22</td>\n",
       "      <td>96</td>\n",
       "      <td>99</td>\n",
       "      <td>4</td>\n",
       "      <td>18</td>\n",
       "      <td>79</td>\n",
       "      <td>27</td>\n",
       "      <td>86</td>\n",
       "      <td>...</td>\n",
       "      <td>105</td>\n",
       "      <td>[,u,',1,8,k,P,q,7,G,P,y,e,-,Y,Q,3,L,y,K,y,A,Z,...</td>\n",
       "      <td>Michael</td>\n",
       "      <td>395</td>\n",
       "      <td>user</td>\n",
       "      <td>4U9kSBLuBDU391x6bxU-YA</td>\n",
       "      <td>657</td>\n",
       "      <td>722</td>\n",
       "      <td>1349</td>\n",
       "      <td>2004-10</td>\n",
       "    </tr>\n",
       "    <tr>\n",
       "      <th>3</th>\n",
       "      <td>4.64</td>\n",
       "      <td>NaN</td>\n",
       "      <td>2</td>\n",
       "      <td>NaN</td>\n",
       "      <td>NaN</td>\n",
       "      <td>NaN</td>\n",
       "      <td>NaN</td>\n",
       "      <td>NaN</td>\n",
       "      <td>NaN</td>\n",
       "      <td>NaN</td>\n",
       "      <td>...</td>\n",
       "      <td>2</td>\n",
       "      <td>[,u,',1,8,k,P,q,7,G,P,y,e,-,Y,Q,3,L,y,K,y,A,Z,...</td>\n",
       "      <td>Ken</td>\n",
       "      <td>11</td>\n",
       "      <td>user</td>\n",
       "      <td>fHtTaujcyKvXglE33Z5yIw</td>\n",
       "      <td>5</td>\n",
       "      <td>1</td>\n",
       "      <td>11</td>\n",
       "      <td>2004-10</td>\n",
       "    </tr>\n",
       "    <tr>\n",
       "      <th>4</th>\n",
       "      <td>3.80</td>\n",
       "      <td>1</td>\n",
       "      <td>2</td>\n",
       "      <td>NaN</td>\n",
       "      <td>1</td>\n",
       "      <td>NaN</td>\n",
       "      <td>1</td>\n",
       "      <td>1</td>\n",
       "      <td>NaN</td>\n",
       "      <td>2</td>\n",
       "      <td>...</td>\n",
       "      <td>5</td>\n",
       "      <td>[,u,',r,p,O,y,q,D,_,8,9,3,c,q,m,D,A,t,J,L,b,d,...</td>\n",
       "      <td>Katherine</td>\n",
       "      <td>66</td>\n",
       "      <td>user</td>\n",
       "      <td>SIBCL7HBkrP4llolm4SC2A</td>\n",
       "      <td>16</td>\n",
       "      <td>13</td>\n",
       "      <td>37</td>\n",
       "      <td>2004-10</td>\n",
       "    </tr>\n",
       "  </tbody>\n",
       "</table>\n",
       "<p>5 rows × 23 columns</p>\n",
       "</div>"
      ],
      "text/plain": [
       "   average_stars  compliments_cool  compliments_cute  compliments_funny  \\\n",
       "0           4.14                76                15                 11   \n",
       "1           3.67              1675               204                594   \n",
       "2           3.68               134                22                 96   \n",
       "3           4.64               NaN                 2                NaN   \n",
       "4           3.80                 1                 2                NaN   \n",
       "\n",
       "   compliments_hot  compliments_list  compliments_more  compliments_note  \\\n",
       "0               48               NaN                 3                20   \n",
       "1             1111                38               137               611   \n",
       "2               99                 4                18                79   \n",
       "3              NaN               NaN               NaN               NaN   \n",
       "4                1               NaN                 1                 1   \n",
       "\n",
       "   compliments_photos  compliments_plain      ...        fans  \\\n",
       "0                  14                 25      ...          69   \n",
       "1                 361                970      ...        1345   \n",
       "2                  27                 86      ...         105   \n",
       "3                 NaN                NaN      ...           2   \n",
       "4                 NaN                  2      ...           5   \n",
       "\n",
       "                                             friends       name  review_count  \\\n",
       "0  [,u,',r,p,O,y,q,D,_,8,9,3,c,q,m,D,A,t,J,L,b,d,...     Russel           108   \n",
       "1  [,u,',1,8,k,P,q,7,G,P,y,e,-,Y,Q,3,L,y,K,y,A,Z,...     Jeremy          1292   \n",
       "2  [,u,',1,8,k,P,q,7,G,P,y,e,-,Y,Q,3,L,y,K,y,A,Z,...    Michael           395   \n",
       "3  [,u,',1,8,k,P,q,7,G,P,y,e,-,Y,Q,3,L,y,K,y,A,Z,...        Ken            11   \n",
       "4  [,u,',r,p,O,y,q,D,_,8,9,3,c,q,m,D,A,t,J,L,b,d,...  Katherine            66   \n",
       "\n",
       "   type                 user_id  votes_cool votes_funny votes_useful  \\\n",
       "0  user  18kPq7GPye-YQ3LyKyAZPw         246         167          282   \n",
       "1  user  rpOyqD_893cqmDAtJLbdog       12091        8399        15242   \n",
       "2  user  4U9kSBLuBDU391x6bxU-YA         657         722         1349   \n",
       "3  user  fHtTaujcyKvXglE33Z5yIw           5           1           11   \n",
       "4  user  SIBCL7HBkrP4llolm4SC2A          16          13           37   \n",
       "\n",
       "   yelping_since  \n",
       "0        2004-10  \n",
       "1        2004-10  \n",
       "2        2004-10  \n",
       "3        2004-10  \n",
       "4        2004-10  \n",
       "\n",
       "[5 rows x 23 columns]"
      ]
     },
     "execution_count": 13,
     "metadata": {},
     "output_type": "execute_result"
    }
   ],
   "source": [
    "user.head()"
   ]
  },
  {
   "cell_type": "code",
   "execution_count": 14,
   "metadata": {
    "collapsed": false
   },
   "outputs": [
    {
     "data": {
      "text/plain": [
       "['average_stars',\n",
       " 'compliments_cool',\n",
       " 'compliments_cute',\n",
       " 'compliments_funny',\n",
       " 'compliments_hot',\n",
       " 'compliments_list',\n",
       " 'compliments_more',\n",
       " 'compliments_note',\n",
       " 'compliments_photos',\n",
       " 'compliments_plain',\n",
       " 'compliments_profile',\n",
       " 'compliments_writer',\n",
       " 'elite',\n",
       " 'fans',\n",
       " 'friends',\n",
       " 'name',\n",
       " 'review_count',\n",
       " 'type',\n",
       " 'user_id',\n",
       " 'votes_cool',\n",
       " 'votes_funny',\n",
       " 'votes_useful',\n",
       " 'yelping_since']"
      ]
     },
     "execution_count": 14,
     "metadata": {},
     "output_type": "execute_result"
    }
   ],
   "source": [
    "list(user.columns.values)"
   ]
  },
  {
   "cell_type": "code",
   "execution_count": 57,
   "metadata": {
    "collapsed": false
   },
   "outputs": [
    {
     "data": {
      "text/plain": [
       "<matplotlib.text.Text at 0x1695719d0>"
      ]
     },
     "execution_count": 57,
     "metadata": {},
     "output_type": "execute_result"
    },
    {
     "data": {
      "image/png": "[encoded data removed]",
      "text/plain": [
       "<matplotlib.figure.Figure at 0x16d7ab310>"
      ]
     },
     "metadata": {},
     "output_type": "display_data"
    }
   ],
   "source": [
    "plt.scatter(user.review_count, user.average_stars, lw=0, alpha=.2, color='#008080')\n",
    "plt.xlabel(\"Number of Reviews\")\n",
    "plt.ylabel(\"Average Stars\")"
   ]
  },
  {
   "cell_type": "code",
   "execution_count": 58,
   "metadata": {
    "collapsed": false
   },
   "outputs": [
    {
     "data": {
      "text/plain": [
       "<matplotlib.text.Text at 0x15acdb6d0>"
      ]
     },
     "execution_count": 58,
     "metadata": {},
     "output_type": "execute_result"
    },
    {
     "data": {
      "image/png": "[encoded data removed]",
      "text/plain": [
       "<matplotlib.figure.Figure at 0x16e010d50>"
      ]
     },
     "metadata": {},
     "output_type": "display_data"
    }
   ],
   "source": [
    "plt.scatter(user.review_count, user.votes_useful, lw=0, alpha=.2, color='#008080')\n",
    "plt.xlabel(\"Number of Reviews\")\n",
    "plt.ylabel(\"Votes Useful\")"
   ]
  },
  {
   "cell_type": "markdown",
   "metadata": {},
   "source": [
    "# Merging Biz Subset to Reviews Data"
   ]
  },
  {
   "cell_type": "code",
   "execution_count": 2,
   "metadata": {
    "collapsed": true
   },
   "outputs": [],
   "source": [
    "biz_subset = pd.read_csv(('../../yelp-data/biz_edit.csv'))"
   ]
  },
  {
   "cell_type": "code",
   "execution_count": 3,
   "metadata": {
    "collapsed": false
   },
   "outputs": [
    {
     "data": {
      "text/html": [
       "<div>\n",
       "<table border=\"1\" class=\"dataframe\">\n",
       "  <thead>\n",
       "    <tr style=\"text-align: right;\">\n",
       "      <th></th>\n",
       "      <th>Unnamed: 0</th>\n",
       "      <th>attributes_Accepts Credit Cards</th>\n",
       "      <th>attributes_Accepts Insurance</th>\n",
       "      <th>attributes_Ages Allowed</th>\n",
       "      <th>attributes_Alcohol</th>\n",
       "      <th>attributes_Ambience</th>\n",
       "      <th>attributes_Attire</th>\n",
       "      <th>attributes_BYOB</th>\n",
       "      <th>attributes_BYOB/Corkage</th>\n",
       "      <th>attributes_By Appointment Only</th>\n",
       "      <th>...</th>\n",
       "      <th>type_x</th>\n",
       "      <th>date</th>\n",
       "      <th>review_id</th>\n",
       "      <th>stars_y</th>\n",
       "      <th>text</th>\n",
       "      <th>type_y</th>\n",
       "      <th>user_id</th>\n",
       "      <th>votes_cool</th>\n",
       "      <th>votes_funny</th>\n",
       "      <th>votes_useful</th>\n",
       "    </tr>\n",
       "  </thead>\n",
       "  <tbody>\n",
       "    <tr>\n",
       "      <th>0</th>\n",
       "      <td>1</td>\n",
       "      <td>True</td>\n",
       "      <td>NaN</td>\n",
       "      <td>NaN</td>\n",
       "      <td>full_bar</td>\n",
       "      <td>{u'romantic': False, u'intimate': False, u'tou...</td>\n",
       "      <td>casual</td>\n",
       "      <td>NaN</td>\n",
       "      <td>NaN</td>\n",
       "      <td>NaN</td>\n",
       "      <td>...</td>\n",
       "      <td>business</td>\n",
       "      <td>2012-08-06</td>\n",
       "      <td>IhLPy_qJqRyGb_vGwHNeaQ</td>\n",
       "      <td>4</td>\n",
       "      <td>We decided on Sapporo after reading so-so revi...</td>\n",
       "      <td>review</td>\n",
       "      <td>e6GiLUdbUaPX7-P9QtHrXg</td>\n",
       "      <td>0</td>\n",
       "      <td>0</td>\n",
       "      <td>1</td>\n",
       "    </tr>\n",
       "    <tr>\n",
       "      <th>1</th>\n",
       "      <td>1</td>\n",
       "      <td>True</td>\n",
       "      <td>NaN</td>\n",
       "      <td>NaN</td>\n",
       "      <td>full_bar</td>\n",
       "      <td>{u'romantic': False, u'intimate': False, u'tou...</td>\n",
       "      <td>casual</td>\n",
       "      <td>NaN</td>\n",
       "      <td>NaN</td>\n",
       "      <td>NaN</td>\n",
       "      <td>...</td>\n",
       "      <td>business</td>\n",
       "      <td>2013-04-22</td>\n",
       "      <td>qUkI_rNF-xpaQXqvdpb1hg</td>\n",
       "      <td>5</td>\n",
       "      <td>I travel a lot and have eaten at a lot of Hiba...</td>\n",
       "      <td>review</td>\n",
       "      <td>UANFI1i2-xcOVIU8DYBdkw</td>\n",
       "      <td>0</td>\n",
       "      <td>0</td>\n",
       "      <td>0</td>\n",
       "    </tr>\n",
       "    <tr>\n",
       "      <th>2</th>\n",
       "      <td>1</td>\n",
       "      <td>True</td>\n",
       "      <td>NaN</td>\n",
       "      <td>NaN</td>\n",
       "      <td>full_bar</td>\n",
       "      <td>{u'romantic': False, u'intimate': False, u'tou...</td>\n",
       "      <td>casual</td>\n",
       "      <td>NaN</td>\n",
       "      <td>NaN</td>\n",
       "      <td>NaN</td>\n",
       "      <td>...</td>\n",
       "      <td>business</td>\n",
       "      <td>2014-02-15</td>\n",
       "      <td>S1ng7qqc0Q-OZIs62cwpyw</td>\n",
       "      <td>1</td>\n",
       "      <td>The food was alright. Not good. Not bad. And c...</td>\n",
       "      <td>review</td>\n",
       "      <td>6ZyqtV5nQPL2RjMhfHOxWQ</td>\n",
       "      <td>0</td>\n",
       "      <td>0</td>\n",
       "      <td>0</td>\n",
       "    </tr>\n",
       "    <tr>\n",
       "      <th>3</th>\n",
       "      <td>1</td>\n",
       "      <td>True</td>\n",
       "      <td>NaN</td>\n",
       "      <td>NaN</td>\n",
       "      <td>full_bar</td>\n",
       "      <td>{u'romantic': False, u'intimate': False, u'tou...</td>\n",
       "      <td>casual</td>\n",
       "      <td>NaN</td>\n",
       "      <td>NaN</td>\n",
       "      <td>NaN</td>\n",
       "      <td>...</td>\n",
       "      <td>business</td>\n",
       "      <td>2014-07-26</td>\n",
       "      <td>9mVDyUano9-a-dIoOjTY3Q</td>\n",
       "      <td>5</td>\n",
       "      <td>Sapporo is my favorite Japanese restaurant, pe...</td>\n",
       "      <td>review</td>\n",
       "      <td>5yC_sdGnYfXTX7Djp_4SVQ</td>\n",
       "      <td>0</td>\n",
       "      <td>0</td>\n",
       "      <td>2</td>\n",
       "    </tr>\n",
       "    <tr>\n",
       "      <th>4</th>\n",
       "      <td>1</td>\n",
       "      <td>True</td>\n",
       "      <td>NaN</td>\n",
       "      <td>NaN</td>\n",
       "      <td>full_bar</td>\n",
       "      <td>{u'romantic': False, u'intimate': False, u'tou...</td>\n",
       "      <td>casual</td>\n",
       "      <td>NaN</td>\n",
       "      <td>NaN</td>\n",
       "      <td>NaN</td>\n",
       "      <td>...</td>\n",
       "      <td>business</td>\n",
       "      <td>2015-07-10</td>\n",
       "      <td>FxcalYSYxfrA9AOJq3xEzA</td>\n",
       "      <td>5</td>\n",
       "      <td>Been to many hibachis, this one is very clean,...</td>\n",
       "      <td>review</td>\n",
       "      <td>hlpHSNcosmjXQ-gfGXFGRw</td>\n",
       "      <td>0</td>\n",
       "      <td>0</td>\n",
       "      <td>0</td>\n",
       "    </tr>\n",
       "  </tbody>\n",
       "</table>\n",
       "<p>5 rows × 66 columns</p>\n",
       "</div>"
      ],
      "text/plain": [
       "   Unnamed: 0 attributes_Accepts Credit Cards  attributes_Accepts Insurance  \\\n",
       "0           1                            True                           NaN   \n",
       "1           1                            True                           NaN   \n",
       "2           1                            True                           NaN   \n",
       "3           1                            True                           NaN   \n",
       "4           1                            True                           NaN   \n",
       "\n",
       "  attributes_Ages Allowed attributes_Alcohol  \\\n",
       "0                     NaN           full_bar   \n",
       "1                     NaN           full_bar   \n",
       "2                     NaN           full_bar   \n",
       "3                     NaN           full_bar   \n",
       "4                     NaN           full_bar   \n",
       "\n",
       "                                 attributes_Ambience attributes_Attire  \\\n",
       "0  {u'romantic': False, u'intimate': False, u'tou...            casual   \n",
       "1  {u'romantic': False, u'intimate': False, u'tou...            casual   \n",
       "2  {u'romantic': False, u'intimate': False, u'tou...            casual   \n",
       "3  {u'romantic': False, u'intimate': False, u'tou...            casual   \n",
       "4  {u'romantic': False, u'intimate': False, u'tou...            casual   \n",
       "\n",
       "  attributes_BYOB attributes_BYOB/Corkage attributes_By Appointment Only  \\\n",
       "0             NaN                     NaN                            NaN   \n",
       "1             NaN                     NaN                            NaN   \n",
       "2             NaN                     NaN                            NaN   \n",
       "3             NaN                     NaN                            NaN   \n",
       "4             NaN                     NaN                            NaN   \n",
       "\n",
       "      ...         type_x        date               review_id stars_y  \\\n",
       "0     ...       business  2012-08-06  IhLPy_qJqRyGb_vGwHNeaQ       4   \n",
       "1     ...       business  2013-04-22  qUkI_rNF-xpaQXqvdpb1hg       5   \n",
       "2     ...       business  2014-02-15  S1ng7qqc0Q-OZIs62cwpyw       1   \n",
       "3     ...       business  2014-07-26  9mVDyUano9-a-dIoOjTY3Q       5   \n",
       "4     ...       business  2015-07-10  FxcalYSYxfrA9AOJq3xEzA       5   \n",
       "\n",
       "                                                text  type_y  \\\n",
       "0  We decided on Sapporo after reading so-so revi...  review   \n",
       "1  I travel a lot and have eaten at a lot of Hiba...  review   \n",
       "2  The food was alright. Not good. Not bad. And c...  review   \n",
       "3  Sapporo is my favorite Japanese restaurant, pe...  review   \n",
       "4  Been to many hibachis, this one is very clean,...  review   \n",
       "\n",
       "                  user_id votes_cool votes_funny votes_useful  \n",
       "0  e6GiLUdbUaPX7-P9QtHrXg          0           0            1  \n",
       "1  UANFI1i2-xcOVIU8DYBdkw          0           0            0  \n",
       "2  6ZyqtV5nQPL2RjMhfHOxWQ          0           0            0  \n",
       "3  5yC_sdGnYfXTX7Djp_4SVQ          0           0            2  \n",
       "4  hlpHSNcosmjXQ-gfGXFGRw          0           0            0  \n",
       "\n",
       "[5 rows x 66 columns]"
      ]
     },
     "execution_count": 3,
     "metadata": {},
     "output_type": "execute_result"
    }
   ],
   "source": [
    "data = pd.merge(biz_subset, review, on='business_id')\n",
    "data.head()"
   ]
  },
  {
   "cell_type": "code",
   "execution_count": 4,
   "metadata": {
    "collapsed": false
   },
   "outputs": [
    {
     "data": {
      "text/plain": [
       "(115682, 66)"
      ]
     },
     "execution_count": 4,
     "metadata": {},
     "output_type": "execute_result"
    }
   ],
   "source": [
    "data.shape"
   ]
  },
  {
   "cell_type": "code",
   "execution_count": null,
   "metadata": {
    "collapsed": true
   },
   "outputs": [],
   "source": [
    "# data.to_csv('data.csv')"
   ]
  }
 ],
 "metadata": {
  "kernelspec": {
   "display_name": "Python 2",
   "language": "python",
   "name": "python2"
  },
  "language_info": {
   "codemirror_mode": {
    "name": "ipython",
    "version": 2
   },
   "file_extension": ".py",
   "mimetype": "text/x-python",
   "name": "python",
   "nbconvert_exporter": "python",
   "pygments_lexer": "ipython2",
   "version": "2.7.12"
  }
 },
 "nbformat": 4,
 "nbformat_minor": 1
}
