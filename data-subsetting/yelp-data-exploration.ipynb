{
 "cells": [
  {
   "cell_type": "code",
   "execution_count": 13,
   "metadata": {
    "collapsed": false
   },
   "outputs": [],
   "source": [
    "%matplotlib inline \n",
    "import matplotlib.pyplot as plt\n",
    "import matplotlib as mpl\n",
    "import pandas as pd\n",
    "import numpy as np\n",
    "import statsmodels.api as sm\n",
    "import sklearn"
   ]
  },
  {
   "cell_type": "code",
   "execution_count": 1,
   "metadata": {
    "collapsed": false
   },
   "outputs": [
    {
     "name": "stderr",
     "output_type": "stream",
     "text": [
      "/Applications/anaconda/lib/python2.7/site-packages/IPython/core/interactiveshell.py:2717: DtypeWarning: Columns (6,7,11,25,26) have mixed types. Specify dtype option on import or set low_memory=False.\n",
      "  interactivity=interactivity, compiler=compiler, result=result)\n"
     ]
    }
   ],
   "source": [
    "business = pd.read_csv(('../../yelp-data/yelp_academic_dataset_business.csv'))\n",
    "checkin = pd.read_csv(('../../yelp-data/yelp_academic_dataset_checkin.csv'))\n",
    "review = pd.read_csv(('../../yelp-data/yelp_academic_dataset_review.csv'))\n",
    "tip = pd.read_csv(('../../yelp-data/yelp_academic_dataset_tip.csv'))\n",
    "user = pd.read_csv(('../../yelp-data/yelp_academic_dataset_user.csv'))"
   ]
  },
  {
   "cell_type": "markdown",
   "metadata": {},
   "source": [
    "## Business Data Exploration"
   ]
  },
  {
   "cell_type": "code",
   "execution_count": 3,
   "metadata": {
    "collapsed": false
   },
   "outputs": [
    {
     "data": {
      "text/plain": [
       "(85901, 56)"
      ]
     },
     "execution_count": 3,
     "metadata": {},
     "output_type": "execute_result"
    }
   ],
   "source": [
    "business.shape"
   ]
  },
  {
   "cell_type": "code",
   "execution_count": 4,
   "metadata": {
    "collapsed": false
   },
   "outputs": [
    {
     "data": {
      "text/html": [
       "<div>\n",
       "<table border=\"1\" class=\"dataframe\">\n",
       "  <thead>\n",
       "    <tr style=\"text-align: right;\">\n",
       "      <th></th>\n",
       "      <th>attributes_Accepts Credit Cards</th>\n",
       "      <th>attributes_Accepts Insurance</th>\n",
       "      <th>attributes_Ages Allowed</th>\n",
       "      <th>attributes_Alcohol</th>\n",
       "      <th>attributes_Ambience</th>\n",
       "      <th>attributes_Attire</th>\n",
       "      <th>attributes_BYOB</th>\n",
       "      <th>attributes_BYOB/Corkage</th>\n",
       "      <th>attributes_By Appointment Only</th>\n",
       "      <th>attributes_Caters</th>\n",
       "      <th>...</th>\n",
       "      <th>hours_Wednesday</th>\n",
       "      <th>latitude</th>\n",
       "      <th>longitude</th>\n",
       "      <th>name</th>\n",
       "      <th>neighborhoods</th>\n",
       "      <th>open</th>\n",
       "      <th>review_count</th>\n",
       "      <th>stars</th>\n",
       "      <th>state</th>\n",
       "      <th>type</th>\n",
       "    </tr>\n",
       "  </thead>\n",
       "  <tbody>\n",
       "    <tr>\n",
       "      <th>0</th>\n",
       "      <td>True</td>\n",
       "      <td>NaN</td>\n",
       "      <td>NaN</td>\n",
       "      <td>none</td>\n",
       "      <td>{u'romantic': False, u'intimate': False, u'cla...</td>\n",
       "      <td>casual</td>\n",
       "      <td>NaN</td>\n",
       "      <td>NaN</td>\n",
       "      <td>NaN</td>\n",
       "      <td>False</td>\n",
       "      <td>...</td>\n",
       "      <td>{u'close': u'21:00', u'open': u'11:00'}</td>\n",
       "      <td>40.354327</td>\n",
       "      <td>-79.900706</td>\n",
       "      <td>Mr Hoagie</td>\n",
       "      <td>NaN</td>\n",
       "      <td>True</td>\n",
       "      <td>7</td>\n",
       "      <td>3.5</td>\n",
       "      <td>PA</td>\n",
       "      <td>business</td>\n",
       "    </tr>\n",
       "    <tr>\n",
       "      <th>1</th>\n",
       "      <td>True</td>\n",
       "      <td>NaN</td>\n",
       "      <td>NaN</td>\n",
       "      <td>NaN</td>\n",
       "      <td>NaN</td>\n",
       "      <td>NaN</td>\n",
       "      <td>NaN</td>\n",
       "      <td>NaN</td>\n",
       "      <td>NaN</td>\n",
       "      <td>NaN</td>\n",
       "      <td>...</td>\n",
       "      <td>NaN</td>\n",
       "      <td>40.350553</td>\n",
       "      <td>-79.886814</td>\n",
       "      <td>Clancy's Pub</td>\n",
       "      <td>NaN</td>\n",
       "      <td>True</td>\n",
       "      <td>5</td>\n",
       "      <td>3.0</td>\n",
       "      <td>PA</td>\n",
       "      <td>business</td>\n",
       "    </tr>\n",
       "    <tr>\n",
       "      <th>2</th>\n",
       "      <td>NaN</td>\n",
       "      <td>NaN</td>\n",
       "      <td>NaN</td>\n",
       "      <td>NaN</td>\n",
       "      <td>NaN</td>\n",
       "      <td>NaN</td>\n",
       "      <td>NaN</td>\n",
       "      <td>NaN</td>\n",
       "      <td>NaN</td>\n",
       "      <td>NaN</td>\n",
       "      <td>...</td>\n",
       "      <td>NaN</td>\n",
       "      <td>40.354116</td>\n",
       "      <td>-80.014660</td>\n",
       "      <td>Cool Springs Golf Center</td>\n",
       "      <td>NaN</td>\n",
       "      <td>False</td>\n",
       "      <td>5</td>\n",
       "      <td>2.5</td>\n",
       "      <td>PA</td>\n",
       "      <td>business</td>\n",
       "    </tr>\n",
       "    <tr>\n",
       "      <th>3</th>\n",
       "      <td>True</td>\n",
       "      <td>NaN</td>\n",
       "      <td>NaN</td>\n",
       "      <td>full_bar</td>\n",
       "      <td>{u'romantic': False, u'intimate': False, u'cla...</td>\n",
       "      <td>casual</td>\n",
       "      <td>NaN</td>\n",
       "      <td>NaN</td>\n",
       "      <td>NaN</td>\n",
       "      <td>True</td>\n",
       "      <td>...</td>\n",
       "      <td>{u'close': u'19:00', u'open': u'10:00'}</td>\n",
       "      <td>40.408830</td>\n",
       "      <td>-79.866211</td>\n",
       "      <td>Emil's Lounge</td>\n",
       "      <td>NaN</td>\n",
       "      <td>True</td>\n",
       "      <td>26</td>\n",
       "      <td>4.5</td>\n",
       "      <td>PA</td>\n",
       "      <td>business</td>\n",
       "    </tr>\n",
       "    <tr>\n",
       "      <th>4</th>\n",
       "      <td>True</td>\n",
       "      <td>NaN</td>\n",
       "      <td>NaN</td>\n",
       "      <td>NaN</td>\n",
       "      <td>NaN</td>\n",
       "      <td>NaN</td>\n",
       "      <td>NaN</td>\n",
       "      <td>NaN</td>\n",
       "      <td>NaN</td>\n",
       "      <td>NaN</td>\n",
       "      <td>...</td>\n",
       "      <td>{u'close': u'20:00', u'open': u'11:00'}</td>\n",
       "      <td>40.403405</td>\n",
       "      <td>-79.855782</td>\n",
       "      <td>Grand View Golf Club</td>\n",
       "      <td>NaN</td>\n",
       "      <td>True</td>\n",
       "      <td>3</td>\n",
       "      <td>5.0</td>\n",
       "      <td>PA</td>\n",
       "      <td>business</td>\n",
       "    </tr>\n",
       "  </tbody>\n",
       "</table>\n",
       "<p>5 rows × 56 columns</p>\n",
       "</div>"
      ],
      "text/plain": [
       "  attributes_Accepts Credit Cards attributes_Accepts Insurance  \\\n",
       "0                            True                          NaN   \n",
       "1                            True                          NaN   \n",
       "2                             NaN                          NaN   \n",
       "3                            True                          NaN   \n",
       "4                            True                          NaN   \n",
       "\n",
       "  attributes_Ages Allowed attributes_Alcohol  \\\n",
       "0                     NaN               none   \n",
       "1                     NaN                NaN   \n",
       "2                     NaN                NaN   \n",
       "3                     NaN           full_bar   \n",
       "4                     NaN                NaN   \n",
       "\n",
       "                                 attributes_Ambience attributes_Attire  \\\n",
       "0  {u'romantic': False, u'intimate': False, u'cla...            casual   \n",
       "1                                                NaN               NaN   \n",
       "2                                                NaN               NaN   \n",
       "3  {u'romantic': False, u'intimate': False, u'cla...            casual   \n",
       "4                                                NaN               NaN   \n",
       "\n",
       "  attributes_BYOB attributes_BYOB/Corkage attributes_By Appointment Only  \\\n",
       "0             NaN                     NaN                            NaN   \n",
       "1             NaN                     NaN                            NaN   \n",
       "2             NaN                     NaN                            NaN   \n",
       "3             NaN                     NaN                            NaN   \n",
       "4             NaN                     NaN                            NaN   \n",
       "\n",
       "  attributes_Caters    ...                             hours_Wednesday  \\\n",
       "0             False    ...     {u'close': u'21:00', u'open': u'11:00'}   \n",
       "1               NaN    ...                                         NaN   \n",
       "2               NaN    ...                                         NaN   \n",
       "3              True    ...     {u'close': u'19:00', u'open': u'10:00'}   \n",
       "4               NaN    ...     {u'close': u'20:00', u'open': u'11:00'}   \n",
       "\n",
       "    latitude  longitude                      name neighborhoods   open  \\\n",
       "0  40.354327 -79.900706                 Mr Hoagie           NaN   True   \n",
       "1  40.350553 -79.886814              Clancy's Pub           NaN   True   \n",
       "2  40.354116 -80.014660  Cool Springs Golf Center           NaN  False   \n",
       "3  40.408830 -79.866211             Emil's Lounge           NaN   True   \n",
       "4  40.403405 -79.855782      Grand View Golf Club           NaN   True   \n",
       "\n",
       "  review_count stars state      type  \n",
       "0            7   3.5    PA  business  \n",
       "1            5   3.0    PA  business  \n",
       "2            5   2.5    PA  business  \n",
       "3           26   4.5    PA  business  \n",
       "4            3   5.0    PA  business  \n",
       "\n",
       "[5 rows x 56 columns]"
      ]
     },
     "execution_count": 4,
     "metadata": {},
     "output_type": "execute_result"
    }
   ],
   "source": [
    "business.head()"
   ]
  },
  {
   "cell_type": "code",
   "execution_count": 5,
   "metadata": {
    "collapsed": false
   },
   "outputs": [
    {
     "data": {
      "text/plain": [
       "<matplotlib.text.Text at 0x10ba23450>"
      ]
     },
     "execution_count": 5,
     "metadata": {},
     "output_type": "execute_result"
    },
    {
     "data": {
      "image/png": "[encoded data removed]",
      "text/plain": [
       "<matplotlib.figure.Figure at 0x1cde84dd0>"
      ]
     },
     "metadata": {},
     "output_type": "display_data"
    }
   ],
   "source": [
    "plt.hist(business.stars, color='#008080', edgecolor='white')\n",
    "plt.xlabel(\"Rating\")\n",
    "plt.ylabel(\"Count\")"
   ]
  },
  {
   "cell_type": "code",
   "execution_count": 6,
   "metadata": {
    "collapsed": false
   },
   "outputs": [
    {
     "data": {
      "text/plain": [
       "<matplotlib.axes._subplots.AxesSubplot at 0x10b6393d0>"
      ]
     },
     "execution_count": 6,
     "metadata": {},
     "output_type": "execute_result"
    },
    {
     "data": {
      "image/png": "[encoded data removed]",
      "text/plain": [
       "<matplotlib.figure.Figure at 0x10ba23b50>"
      ]
     },
     "metadata": {},
     "output_type": "display_data"
    }
   ],
   "source": [
    "business.state.value_counts().plot(kind='bar',color='#008080')"
   ]
  },
  {
   "cell_type": "markdown",
   "metadata": {},
   "source": [
    "## Checkin Data Exploration"
   ]
  },
  {
   "cell_type": "code",
   "execution_count": 7,
   "metadata": {
    "collapsed": false
   },
   "outputs": [
    {
     "data": {
      "text/plain": [
       "(61049, 170)"
      ]
     },
     "execution_count": 7,
     "metadata": {},
     "output_type": "execute_result"
    }
   ],
   "source": [
    "checkin.shape"
   ]
  },
  {
   "cell_type": "code",
   "execution_count": 8,
   "metadata": {
    "collapsed": false
   },
   "outputs": [
    {
     "data": {
      "text/html": [
       "<div>\n",
       "<table border=\"1\" class=\"dataframe\">\n",
       "  <thead>\n",
       "    <tr style=\"text-align: right;\">\n",
       "      <th></th>\n",
       "      <th>business_id</th>\n",
       "      <th>checkin_info_0-0</th>\n",
       "      <th>checkin_info_0-1</th>\n",
       "      <th>checkin_info_0-2</th>\n",
       "      <th>checkin_info_0-3</th>\n",
       "      <th>checkin_info_0-4</th>\n",
       "      <th>checkin_info_0-5</th>\n",
       "      <th>checkin_info_0-6</th>\n",
       "      <th>checkin_info_1-0</th>\n",
       "      <th>checkin_info_1-1</th>\n",
       "      <th>...</th>\n",
       "      <th>checkin_info_8-5</th>\n",
       "      <th>checkin_info_8-6</th>\n",
       "      <th>checkin_info_9-0</th>\n",
       "      <th>checkin_info_9-1</th>\n",
       "      <th>checkin_info_9-2</th>\n",
       "      <th>checkin_info_9-3</th>\n",
       "      <th>checkin_info_9-4</th>\n",
       "      <th>checkin_info_9-5</th>\n",
       "      <th>checkin_info_9-6</th>\n",
       "      <th>type</th>\n",
       "    </tr>\n",
       "  </thead>\n",
       "  <tbody>\n",
       "    <tr>\n",
       "      <th>0</th>\n",
       "      <td>cE27W9VPgO88Qxe4ol6y_g</td>\n",
       "      <td>NaN</td>\n",
       "      <td>NaN</td>\n",
       "      <td>NaN</td>\n",
       "      <td>NaN</td>\n",
       "      <td>NaN</td>\n",
       "      <td>NaN</td>\n",
       "      <td>NaN</td>\n",
       "      <td>NaN</td>\n",
       "      <td>NaN</td>\n",
       "      <td>...</td>\n",
       "      <td>NaN</td>\n",
       "      <td>NaN</td>\n",
       "      <td>NaN</td>\n",
       "      <td>NaN</td>\n",
       "      <td>NaN</td>\n",
       "      <td>NaN</td>\n",
       "      <td>NaN</td>\n",
       "      <td>1.0</td>\n",
       "      <td>NaN</td>\n",
       "      <td>checkin</td>\n",
       "    </tr>\n",
       "    <tr>\n",
       "      <th>1</th>\n",
       "      <td>mVHrayjG3uZ_RLHkLj-AMg</td>\n",
       "      <td>NaN</td>\n",
       "      <td>NaN</td>\n",
       "      <td>NaN</td>\n",
       "      <td>NaN</td>\n",
       "      <td>NaN</td>\n",
       "      <td>NaN</td>\n",
       "      <td>NaN</td>\n",
       "      <td>NaN</td>\n",
       "      <td>NaN</td>\n",
       "      <td>...</td>\n",
       "      <td>NaN</td>\n",
       "      <td>NaN</td>\n",
       "      <td>NaN</td>\n",
       "      <td>NaN</td>\n",
       "      <td>NaN</td>\n",
       "      <td>NaN</td>\n",
       "      <td>3.0</td>\n",
       "      <td>2.0</td>\n",
       "      <td>NaN</td>\n",
       "      <td>checkin</td>\n",
       "    </tr>\n",
       "    <tr>\n",
       "      <th>2</th>\n",
       "      <td>mYSpR_SLPgUVymYOvTQd_Q</td>\n",
       "      <td>NaN</td>\n",
       "      <td>NaN</td>\n",
       "      <td>NaN</td>\n",
       "      <td>NaN</td>\n",
       "      <td>NaN</td>\n",
       "      <td>NaN</td>\n",
       "      <td>NaN</td>\n",
       "      <td>NaN</td>\n",
       "      <td>NaN</td>\n",
       "      <td>...</td>\n",
       "      <td>NaN</td>\n",
       "      <td>NaN</td>\n",
       "      <td>NaN</td>\n",
       "      <td>NaN</td>\n",
       "      <td>NaN</td>\n",
       "      <td>1.0</td>\n",
       "      <td>NaN</td>\n",
       "      <td>NaN</td>\n",
       "      <td>NaN</td>\n",
       "      <td>checkin</td>\n",
       "    </tr>\n",
       "    <tr>\n",
       "      <th>3</th>\n",
       "      <td>KayYbHCt-RkbGcPdGOThNg</td>\n",
       "      <td>NaN</td>\n",
       "      <td>NaN</td>\n",
       "      <td>NaN</td>\n",
       "      <td>NaN</td>\n",
       "      <td>NaN</td>\n",
       "      <td>NaN</td>\n",
       "      <td>NaN</td>\n",
       "      <td>NaN</td>\n",
       "      <td>NaN</td>\n",
       "      <td>...</td>\n",
       "      <td>NaN</td>\n",
       "      <td>NaN</td>\n",
       "      <td>NaN</td>\n",
       "      <td>1.0</td>\n",
       "      <td>NaN</td>\n",
       "      <td>NaN</td>\n",
       "      <td>5.0</td>\n",
       "      <td>NaN</td>\n",
       "      <td>NaN</td>\n",
       "      <td>checkin</td>\n",
       "    </tr>\n",
       "    <tr>\n",
       "      <th>4</th>\n",
       "      <td>b12U9TFESStdy7CsTtcOeg</td>\n",
       "      <td>NaN</td>\n",
       "      <td>NaN</td>\n",
       "      <td>NaN</td>\n",
       "      <td>NaN</td>\n",
       "      <td>NaN</td>\n",
       "      <td>NaN</td>\n",
       "      <td>NaN</td>\n",
       "      <td>NaN</td>\n",
       "      <td>NaN</td>\n",
       "      <td>...</td>\n",
       "      <td>NaN</td>\n",
       "      <td>1.0</td>\n",
       "      <td>NaN</td>\n",
       "      <td>NaN</td>\n",
       "      <td>NaN</td>\n",
       "      <td>NaN</td>\n",
       "      <td>NaN</td>\n",
       "      <td>NaN</td>\n",
       "      <td>NaN</td>\n",
       "      <td>checkin</td>\n",
       "    </tr>\n",
       "  </tbody>\n",
       "</table>\n",
       "<p>5 rows × 170 columns</p>\n",
       "</div>"
      ],
      "text/plain": [
       "              business_id  checkin_info_0-0  checkin_info_0-1  \\\n",
       "0  cE27W9VPgO88Qxe4ol6y_g               NaN               NaN   \n",
       "1  mVHrayjG3uZ_RLHkLj-AMg               NaN               NaN   \n",
       "2  mYSpR_SLPgUVymYOvTQd_Q               NaN               NaN   \n",
       "3  KayYbHCt-RkbGcPdGOThNg               NaN               NaN   \n",
       "4  b12U9TFESStdy7CsTtcOeg               NaN               NaN   \n",
       "\n",
       "   checkin_info_0-2  checkin_info_0-3  checkin_info_0-4  checkin_info_0-5  \\\n",
       "0               NaN               NaN               NaN               NaN   \n",
       "1               NaN               NaN               NaN               NaN   \n",
       "2               NaN               NaN               NaN               NaN   \n",
       "3               NaN               NaN               NaN               NaN   \n",
       "4               NaN               NaN               NaN               NaN   \n",
       "\n",
       "   checkin_info_0-6  checkin_info_1-0  checkin_info_1-1   ...     \\\n",
       "0               NaN               NaN               NaN   ...      \n",
       "1               NaN               NaN               NaN   ...      \n",
       "2               NaN               NaN               NaN   ...      \n",
       "3               NaN               NaN               NaN   ...      \n",
       "4               NaN               NaN               NaN   ...      \n",
       "\n",
       "   checkin_info_8-5  checkin_info_8-6  checkin_info_9-0  checkin_info_9-1  \\\n",
       "0               NaN               NaN               NaN               NaN   \n",
       "1               NaN               NaN               NaN               NaN   \n",
       "2               NaN               NaN               NaN               NaN   \n",
       "3               NaN               NaN               NaN               1.0   \n",
       "4               NaN               1.0               NaN               NaN   \n",
       "\n",
       "   checkin_info_9-2  checkin_info_9-3  checkin_info_9-4  checkin_info_9-5  \\\n",
       "0               NaN               NaN               NaN               1.0   \n",
       "1               NaN               NaN               3.0               2.0   \n",
       "2               NaN               1.0               NaN               NaN   \n",
       "3               NaN               NaN               5.0               NaN   \n",
       "4               NaN               NaN               NaN               NaN   \n",
       "\n",
       "   checkin_info_9-6     type  \n",
       "0               NaN  checkin  \n",
       "1               NaN  checkin  \n",
       "2               NaN  checkin  \n",
       "3               NaN  checkin  \n",
       "4               NaN  checkin  \n",
       "\n",
       "[5 rows x 170 columns]"
      ]
     },
     "execution_count": 8,
     "metadata": {},
     "output_type": "execute_result"
    }
   ],
   "source": [
    "checkin.head()"
   ]
  },
  {
   "cell_type": "markdown",
   "metadata": {},
   "source": [
    "## Review Data Exploration"
   ]
  },
  {
   "cell_type": "code",
   "execution_count": 9,
   "metadata": {
    "collapsed": false
   },
   "outputs": [
    {
     "data": {
      "text/html": [
       "<div>\n",
       "<table border=\"1\" class=\"dataframe\">\n",
       "  <thead>\n",
       "    <tr style=\"text-align: right;\">\n",
       "      <th></th>\n",
       "      <th>business_id</th>\n",
       "      <th>date</th>\n",
       "      <th>review_id</th>\n",
       "      <th>stars</th>\n",
       "      <th>text</th>\n",
       "      <th>type</th>\n",
       "      <th>user_id</th>\n",
       "      <th>votes_cool</th>\n",
       "      <th>votes_funny</th>\n",
       "      <th>votes_useful</th>\n",
       "    </tr>\n",
       "  </thead>\n",
       "  <tbody>\n",
       "    <tr>\n",
       "      <th>0</th>\n",
       "      <td>5UmKMjUEUNdYWqANhGckJw</td>\n",
       "      <td>2012-08-01</td>\n",
       "      <td>Ya85v4eqdd6k9Od8HbQjyA</td>\n",
       "      <td>4</td>\n",
       "      <td>Mr Hoagie is an institution. Walking in, it do...</td>\n",
       "      <td>review</td>\n",
       "      <td>PUFPaY9KxDAcGqfsorJp3Q</td>\n",
       "      <td>0.0</td>\n",
       "      <td>0.0</td>\n",
       "      <td>0.0</td>\n",
       "    </tr>\n",
       "    <tr>\n",
       "      <th>1</th>\n",
       "      <td>5UmKMjUEUNdYWqANhGckJw</td>\n",
       "      <td>2014-02-13</td>\n",
       "      <td>KPvLNJ21_4wbYNctrOwWdQ</td>\n",
       "      <td>5</td>\n",
       "      <td>Excellent food. Superb customer service. I mis...</td>\n",
       "      <td>review</td>\n",
       "      <td>Iu6AxdBYGR4A0wspR9BYHA</td>\n",
       "      <td>0.0</td>\n",
       "      <td>0.0</td>\n",
       "      <td>0.0</td>\n",
       "    </tr>\n",
       "    <tr>\n",
       "      <th>2</th>\n",
       "      <td>5UmKMjUEUNdYWqANhGckJw</td>\n",
       "      <td>2015-10-31</td>\n",
       "      <td>fFSoGV46Yxuwbr3fHNuZig</td>\n",
       "      <td>5</td>\n",
       "      <td>Yes this place is a little out dated and not o...</td>\n",
       "      <td>review</td>\n",
       "      <td>auESFwWvW42h6alXgFxAXQ</td>\n",
       "      <td>0.0</td>\n",
       "      <td>1.0</td>\n",
       "      <td>1.0</td>\n",
       "    </tr>\n",
       "    <tr>\n",
       "      <th>3</th>\n",
       "      <td>5UmKMjUEUNdYWqANhGckJw</td>\n",
       "      <td>2015-12-26</td>\n",
       "      <td>pVMIt0a_QsKtuDfWVfSk2A</td>\n",
       "      <td>3</td>\n",
       "      <td>PROS: Italian hoagie was delicious.  Friendly ...</td>\n",
       "      <td>review</td>\n",
       "      <td>qiczib2fO_1VBG8IoCGvVg</td>\n",
       "      <td>0.0</td>\n",
       "      <td>0.0</td>\n",
       "      <td>0.0</td>\n",
       "    </tr>\n",
       "    <tr>\n",
       "      <th>4</th>\n",
       "      <td>5UmKMjUEUNdYWqANhGckJw</td>\n",
       "      <td>2016-04-08</td>\n",
       "      <td>AEyiQ_Y44isJmNbMTyoMKQ</td>\n",
       "      <td>2</td>\n",
       "      <td>First the only reason this place could possibl...</td>\n",
       "      <td>review</td>\n",
       "      <td>qEE5EvV-f-s7yHC0Z4ydJQ</td>\n",
       "      <td>0.0</td>\n",
       "      <td>0.0</td>\n",
       "      <td>1.0</td>\n",
       "    </tr>\n",
       "  </tbody>\n",
       "</table>\n",
       "</div>"
      ],
      "text/plain": [
       "              business_id        date               review_id  stars  \\\n",
       "0  5UmKMjUEUNdYWqANhGckJw  2012-08-01  Ya85v4eqdd6k9Od8HbQjyA      4   \n",
       "1  5UmKMjUEUNdYWqANhGckJw  2014-02-13  KPvLNJ21_4wbYNctrOwWdQ      5   \n",
       "2  5UmKMjUEUNdYWqANhGckJw  2015-10-31  fFSoGV46Yxuwbr3fHNuZig      5   \n",
       "3  5UmKMjUEUNdYWqANhGckJw  2015-12-26  pVMIt0a_QsKtuDfWVfSk2A      3   \n",
       "4  5UmKMjUEUNdYWqANhGckJw  2016-04-08  AEyiQ_Y44isJmNbMTyoMKQ      2   \n",
       "\n",
       "                                                text    type  \\\n",
       "0  Mr Hoagie is an institution. Walking in, it do...  review   \n",
       "1  Excellent food. Superb customer service. I mis...  review   \n",
       "2  Yes this place is a little out dated and not o...  review   \n",
       "3  PROS: Italian hoagie was delicious.  Friendly ...  review   \n",
       "4  First the only reason this place could possibl...  review   \n",
       "\n",
       "                  user_id  votes_cool  votes_funny  votes_useful  \n",
       "0  PUFPaY9KxDAcGqfsorJp3Q         0.0          0.0           0.0  \n",
       "1  Iu6AxdBYGR4A0wspR9BYHA         0.0          0.0           0.0  \n",
       "2  auESFwWvW42h6alXgFxAXQ         0.0          1.0           1.0  \n",
       "3  qiczib2fO_1VBG8IoCGvVg         0.0          0.0           0.0  \n",
       "4  qEE5EvV-f-s7yHC0Z4ydJQ         0.0          0.0           1.0  "
      ]
     },
     "execution_count": 9,
     "metadata": {},
     "output_type": "execute_result"
    }
   ],
   "source": [
    "review.head()"
   ]
  },
  {
   "cell_type": "code",
   "execution_count": 10,
   "metadata": {
    "collapsed": false
   },
   "outputs": [
    {
     "data": {
      "text/html": [
       "<div>\n",
       "<table border=\"1\" class=\"dataframe\">\n",
       "  <thead>\n",
       "    <tr style=\"text-align: right;\">\n",
       "      <th></th>\n",
       "      <th>stars</th>\n",
       "      <th>votes_cool</th>\n",
       "      <th>votes_funny</th>\n",
       "      <th>votes_useful</th>\n",
       "    </tr>\n",
       "  </thead>\n",
       "  <tbody>\n",
       "    <tr>\n",
       "      <th>count</th>\n",
       "      <td>2.685067e+06</td>\n",
       "      <td>2.685065e+06</td>\n",
       "      <td>2.685065e+06</td>\n",
       "      <td>2.685065e+06</td>\n",
       "    </tr>\n",
       "    <tr>\n",
       "      <th>mean</th>\n",
       "      <td>3.764207e+00</td>\n",
       "      <td>5.389765e-01</td>\n",
       "      <td>4.310592e-01</td>\n",
       "      <td>1.006813e+00</td>\n",
       "    </tr>\n",
       "    <tr>\n",
       "      <th>std</th>\n",
       "      <td>1.390084e+00</td>\n",
       "      <td>1.781651e+00</td>\n",
       "      <td>1.580670e+00</td>\n",
       "      <td>2.233418e+00</td>\n",
       "    </tr>\n",
       "    <tr>\n",
       "      <th>min</th>\n",
       "      <td>1.000000e+00</td>\n",
       "      <td>0.000000e+00</td>\n",
       "      <td>0.000000e+00</td>\n",
       "      <td>0.000000e+00</td>\n",
       "    </tr>\n",
       "    <tr>\n",
       "      <th>25%</th>\n",
       "      <td>3.000000e+00</td>\n",
       "      <td>0.000000e+00</td>\n",
       "      <td>0.000000e+00</td>\n",
       "      <td>0.000000e+00</td>\n",
       "    </tr>\n",
       "    <tr>\n",
       "      <th>50%</th>\n",
       "      <td>4.000000e+00</td>\n",
       "      <td>0.000000e+00</td>\n",
       "      <td>0.000000e+00</td>\n",
       "      <td>0.000000e+00</td>\n",
       "    </tr>\n",
       "    <tr>\n",
       "      <th>75%</th>\n",
       "      <td>5.000000e+00</td>\n",
       "      <td>1.000000e+00</td>\n",
       "      <td>0.000000e+00</td>\n",
       "      <td>1.000000e+00</td>\n",
       "    </tr>\n",
       "    <tr>\n",
       "      <th>max</th>\n",
       "      <td>5.000000e+00</td>\n",
       "      <td>1.530000e+02</td>\n",
       "      <td>1.510000e+02</td>\n",
       "      <td>1.680000e+02</td>\n",
       "    </tr>\n",
       "  </tbody>\n",
       "</table>\n",
       "</div>"
      ],
      "text/plain": [
       "              stars    votes_cool   votes_funny  votes_useful\n",
       "count  2.685067e+06  2.685065e+06  2.685065e+06  2.685065e+06\n",
       "mean   3.764207e+00  5.389765e-01  4.310592e-01  1.006813e+00\n",
       "std    1.390084e+00  1.781651e+00  1.580670e+00  2.233418e+00\n",
       "min    1.000000e+00  0.000000e+00  0.000000e+00  0.000000e+00\n",
       "25%    3.000000e+00  0.000000e+00  0.000000e+00  0.000000e+00\n",
       "50%    4.000000e+00  0.000000e+00  0.000000e+00  0.000000e+00\n",
       "75%    5.000000e+00  1.000000e+00  0.000000e+00  1.000000e+00\n",
       "max    5.000000e+00  1.530000e+02  1.510000e+02  1.680000e+02"
      ]
     },
     "execution_count": 10,
     "metadata": {},
     "output_type": "execute_result"
    }
   ],
   "source": [
    "review.describe()\n",
    "# may want to replace 0s with NAs"
   ]
  },
  {
   "cell_type": "code",
   "execution_count": 11,
   "metadata": {
    "collapsed": false
   },
   "outputs": [],
   "source": [
    "# could do the following... probably best to flag those 0 data as NAN\n",
    "# review.votes_cool[review.votes_cool==0] = np.NaN\n",
    "# review.votes_funny[review.votes_funny==0] = np.NaN\n",
    "# review.votes_useful[review.votes_useful==0] = np.NaN"
   ]
  },
  {
   "cell_type": "code",
   "execution_count": 12,
   "metadata": {
    "collapsed": false
   },
   "outputs": [
    {
     "data": {
      "text/plain": [
       "<matplotlib.text.Text at 0x10d461710>"
      ]
     },
     "execution_count": 12,
     "metadata": {},
     "output_type": "execute_result"
    },
    {
     "data": {
      "image/png": "[encoded data removed]",
      "text/plain": [
       "<matplotlib.figure.Figure at 0x10d3c79d0>"
      ]
     },
     "metadata": {},
     "output_type": "display_data"
    }
   ],
   "source": [
    "plt.hist(review.stars, color='#008080', edgecolor='white', bins=5)\n",
    "plt.xlabel(\"Rating\")\n",
    "plt.ylabel(\"Count\")"
   ]
  },
  {
   "cell_type": "markdown",
   "metadata": {},
   "source": [
    "## Tip Data Exploration"
   ]
  },
  {
   "cell_type": "code",
   "execution_count": 13,
   "metadata": {
    "collapsed": false
   },
   "outputs": [
    {
     "data": {
      "text/html": [
       "<div>\n",
       "<table border=\"1\" class=\"dataframe\">\n",
       "  <thead>\n",
       "    <tr style=\"text-align: right;\">\n",
       "      <th></th>\n",
       "      <th>business_id</th>\n",
       "      <th>date</th>\n",
       "      <th>likes</th>\n",
       "      <th>text</th>\n",
       "      <th>type</th>\n",
       "      <th>user_id</th>\n",
       "    </tr>\n",
       "  </thead>\n",
       "  <tbody>\n",
       "    <tr>\n",
       "      <th>0</th>\n",
       "      <td>5UmKMjUEUNdYWqANhGckJw</td>\n",
       "      <td>2016-07-17</td>\n",
       "      <td>0</td>\n",
       "      <td>Pizza is garbage. Hoagies are excellent.</td>\n",
       "      <td>tip</td>\n",
       "      <td>ZxdojCZgZhw36xuSGaryRg</td>\n",
       "    </tr>\n",
       "    <tr>\n",
       "      <th>1</th>\n",
       "      <td>cE27W9VPgO88Qxe4ol6y_g</td>\n",
       "      <td>2013-04-18</td>\n",
       "      <td>0</td>\n",
       "      <td>Don't waste your time.</td>\n",
       "      <td>tip</td>\n",
       "      <td>-6rEfobYjMxpUWLNxszaxQ</td>\n",
       "    </tr>\n",
       "    <tr>\n",
       "      <th>2</th>\n",
       "      <td>mVHrayjG3uZ_RLHkLj-AMg</td>\n",
       "      <td>2016-02-22</td>\n",
       "      <td>0</td>\n",
       "      <td>Not easy to find. Be sure to put in directions...</td>\n",
       "      <td>tip</td>\n",
       "      <td>5OumCBQ_MyQsltSdbMyunA</td>\n",
       "    </tr>\n",
       "    <tr>\n",
       "      <th>3</th>\n",
       "      <td>mVHrayjG3uZ_RLHkLj-AMg</td>\n",
       "      <td>2013-01-06</td>\n",
       "      <td>1</td>\n",
       "      <td>Your GPS will not allow you to find this place...</td>\n",
       "      <td>tip</td>\n",
       "      <td>EZ0r9dKKtEGVx2CdnowPCw</td>\n",
       "    </tr>\n",
       "    <tr>\n",
       "      <th>4</th>\n",
       "      <td>KayYbHCt-RkbGcPdGOThNg</td>\n",
       "      <td>2013-12-03</td>\n",
       "      <td>0</td>\n",
       "      <td>Great drink specials!</td>\n",
       "      <td>tip</td>\n",
       "      <td>xb6zEQCw9I-Gl0g06e1KsQ</td>\n",
       "    </tr>\n",
       "  </tbody>\n",
       "</table>\n",
       "</div>"
      ],
      "text/plain": [
       "              business_id        date  likes  \\\n",
       "0  5UmKMjUEUNdYWqANhGckJw  2016-07-17      0   \n",
       "1  cE27W9VPgO88Qxe4ol6y_g  2013-04-18      0   \n",
       "2  mVHrayjG3uZ_RLHkLj-AMg  2016-02-22      0   \n",
       "3  mVHrayjG3uZ_RLHkLj-AMg  2013-01-06      1   \n",
       "4  KayYbHCt-RkbGcPdGOThNg  2013-12-03      0   \n",
       "\n",
       "                                                text type  \\\n",
       "0           Pizza is garbage. Hoagies are excellent.  tip   \n",
       "1                             Don't waste your time.  tip   \n",
       "2  Not easy to find. Be sure to put in directions...  tip   \n",
       "3  Your GPS will not allow you to find this place...  tip   \n",
       "4                              Great drink specials!  tip   \n",
       "\n",
       "                  user_id  \n",
       "0  ZxdojCZgZhw36xuSGaryRg  \n",
       "1  -6rEfobYjMxpUWLNxszaxQ  \n",
       "2  5OumCBQ_MyQsltSdbMyunA  \n",
       "3  EZ0r9dKKtEGVx2CdnowPCw  \n",
       "4  xb6zEQCw9I-Gl0g06e1KsQ  "
      ]
     },
     "execution_count": 13,
     "metadata": {},
     "output_type": "execute_result"
    }
   ],
   "source": [
    "tip.head()"
   ]
  },
  {
   "cell_type": "markdown",
   "metadata": {},
   "source": [
    "## User Data Exploration"
   ]
  },
  {
   "cell_type": "code",
   "execution_count": 14,
   "metadata": {
    "collapsed": false
   },
   "outputs": [
    {
     "data": {
      "text/html": [
       "<div>\n",
       "<table border=\"1\" class=\"dataframe\">\n",
       "  <thead>\n",
       "    <tr style=\"text-align: right;\">\n",
       "      <th></th>\n",
       "      <th>average_stars</th>\n",
       "      <th>compliments_cool</th>\n",
       "      <th>compliments_cute</th>\n",
       "      <th>compliments_funny</th>\n",
       "      <th>compliments_hot</th>\n",
       "      <th>compliments_list</th>\n",
       "      <th>compliments_more</th>\n",
       "      <th>compliments_note</th>\n",
       "      <th>compliments_photos</th>\n",
       "      <th>compliments_plain</th>\n",
       "      <th>...</th>\n",
       "      <th>fans</th>\n",
       "      <th>friends</th>\n",
       "      <th>name</th>\n",
       "      <th>review_count</th>\n",
       "      <th>type</th>\n",
       "      <th>user_id</th>\n",
       "      <th>votes_cool</th>\n",
       "      <th>votes_funny</th>\n",
       "      <th>votes_useful</th>\n",
       "      <th>yelping_since</th>\n",
       "    </tr>\n",
       "  </thead>\n",
       "  <tbody>\n",
       "    <tr>\n",
       "      <th>0</th>\n",
       "      <td>4.14</td>\n",
       "      <td>76.0</td>\n",
       "      <td>15.0</td>\n",
       "      <td>11.0</td>\n",
       "      <td>48.0</td>\n",
       "      <td>NaN</td>\n",
       "      <td>3.0</td>\n",
       "      <td>20.0</td>\n",
       "      <td>14.0</td>\n",
       "      <td>25.0</td>\n",
       "      <td>...</td>\n",
       "      <td>69</td>\n",
       "      <td>[,u,',r,p,O,y,q,D,_,8,9,3,c,q,m,D,A,t,J,L,b,d,...</td>\n",
       "      <td>Russel</td>\n",
       "      <td>108</td>\n",
       "      <td>user</td>\n",
       "      <td>18kPq7GPye-YQ3LyKyAZPw</td>\n",
       "      <td>246</td>\n",
       "      <td>167</td>\n",
       "      <td>282</td>\n",
       "      <td>2004-10</td>\n",
       "    </tr>\n",
       "    <tr>\n",
       "      <th>1</th>\n",
       "      <td>3.67</td>\n",
       "      <td>1675.0</td>\n",
       "      <td>204.0</td>\n",
       "      <td>594.0</td>\n",
       "      <td>1111.0</td>\n",
       "      <td>38.0</td>\n",
       "      <td>137.0</td>\n",
       "      <td>611.0</td>\n",
       "      <td>361.0</td>\n",
       "      <td>970.0</td>\n",
       "      <td>...</td>\n",
       "      <td>1345</td>\n",
       "      <td>[,u,',1,8,k,P,q,7,G,P,y,e,-,Y,Q,3,L,y,K,y,A,Z,...</td>\n",
       "      <td>Jeremy</td>\n",
       "      <td>1292</td>\n",
       "      <td>user</td>\n",
       "      <td>rpOyqD_893cqmDAtJLbdog</td>\n",
       "      <td>12091</td>\n",
       "      <td>8399</td>\n",
       "      <td>15242</td>\n",
       "      <td>2004-10</td>\n",
       "    </tr>\n",
       "    <tr>\n",
       "      <th>2</th>\n",
       "      <td>3.68</td>\n",
       "      <td>134.0</td>\n",
       "      <td>22.0</td>\n",
       "      <td>96.0</td>\n",
       "      <td>99.0</td>\n",
       "      <td>4.0</td>\n",
       "      <td>18.0</td>\n",
       "      <td>79.0</td>\n",
       "      <td>27.0</td>\n",
       "      <td>86.0</td>\n",
       "      <td>...</td>\n",
       "      <td>105</td>\n",
       "      <td>[,u,',1,8,k,P,q,7,G,P,y,e,-,Y,Q,3,L,y,K,y,A,Z,...</td>\n",
       "      <td>Michael</td>\n",
       "      <td>395</td>\n",
       "      <td>user</td>\n",
       "      <td>4U9kSBLuBDU391x6bxU-YA</td>\n",
       "      <td>657</td>\n",
       "      <td>722</td>\n",
       "      <td>1349</td>\n",
       "      <td>2004-10</td>\n",
       "    </tr>\n",
       "    <tr>\n",
       "      <th>3</th>\n",
       "      <td>4.64</td>\n",
       "      <td>NaN</td>\n",
       "      <td>2.0</td>\n",
       "      <td>NaN</td>\n",
       "      <td>NaN</td>\n",
       "      <td>NaN</td>\n",
       "      <td>NaN</td>\n",
       "      <td>NaN</td>\n",
       "      <td>NaN</td>\n",
       "      <td>NaN</td>\n",
       "      <td>...</td>\n",
       "      <td>2</td>\n",
       "      <td>[,u,',1,8,k,P,q,7,G,P,y,e,-,Y,Q,3,L,y,K,y,A,Z,...</td>\n",
       "      <td>Ken</td>\n",
       "      <td>11</td>\n",
       "      <td>user</td>\n",
       "      <td>fHtTaujcyKvXglE33Z5yIw</td>\n",
       "      <td>5</td>\n",
       "      <td>1</td>\n",
       "      <td>11</td>\n",
       "      <td>2004-10</td>\n",
       "    </tr>\n",
       "    <tr>\n",
       "      <th>4</th>\n",
       "      <td>3.80</td>\n",
       "      <td>1.0</td>\n",
       "      <td>2.0</td>\n",
       "      <td>NaN</td>\n",
       "      <td>1.0</td>\n",
       "      <td>NaN</td>\n",
       "      <td>1.0</td>\n",
       "      <td>1.0</td>\n",
       "      <td>NaN</td>\n",
       "      <td>2.0</td>\n",
       "      <td>...</td>\n",
       "      <td>5</td>\n",
       "      <td>[,u,',r,p,O,y,q,D,_,8,9,3,c,q,m,D,A,t,J,L,b,d,...</td>\n",
       "      <td>Katherine</td>\n",
       "      <td>66</td>\n",
       "      <td>user</td>\n",
       "      <td>SIBCL7HBkrP4llolm4SC2A</td>\n",
       "      <td>16</td>\n",
       "      <td>13</td>\n",
       "      <td>37</td>\n",
       "      <td>2004-10</td>\n",
       "    </tr>\n",
       "  </tbody>\n",
       "</table>\n",
       "<p>5 rows × 23 columns</p>\n",
       "</div>"
      ],
      "text/plain": [
       "   average_stars  compliments_cool  compliments_cute  compliments_funny  \\\n",
       "0           4.14              76.0              15.0               11.0   \n",
       "1           3.67            1675.0             204.0              594.0   \n",
       "2           3.68             134.0              22.0               96.0   \n",
       "3           4.64               NaN               2.0                NaN   \n",
       "4           3.80               1.0               2.0                NaN   \n",
       "\n",
       "   compliments_hot  compliments_list  compliments_more  compliments_note  \\\n",
       "0             48.0               NaN               3.0              20.0   \n",
       "1           1111.0              38.0             137.0             611.0   \n",
       "2             99.0               4.0              18.0              79.0   \n",
       "3              NaN               NaN               NaN               NaN   \n",
       "4              1.0               NaN               1.0               1.0   \n",
       "\n",
       "   compliments_photos  compliments_plain      ...        fans  \\\n",
       "0                14.0               25.0      ...          69   \n",
       "1               361.0              970.0      ...        1345   \n",
       "2                27.0               86.0      ...         105   \n",
       "3                 NaN                NaN      ...           2   \n",
       "4                 NaN                2.0      ...           5   \n",
       "\n",
       "                                             friends       name  review_count  \\\n",
       "0  [,u,',r,p,O,y,q,D,_,8,9,3,c,q,m,D,A,t,J,L,b,d,...     Russel           108   \n",
       "1  [,u,',1,8,k,P,q,7,G,P,y,e,-,Y,Q,3,L,y,K,y,A,Z,...     Jeremy          1292   \n",
       "2  [,u,',1,8,k,P,q,7,G,P,y,e,-,Y,Q,3,L,y,K,y,A,Z,...    Michael           395   \n",
       "3  [,u,',1,8,k,P,q,7,G,P,y,e,-,Y,Q,3,L,y,K,y,A,Z,...        Ken            11   \n",
       "4  [,u,',r,p,O,y,q,D,_,8,9,3,c,q,m,D,A,t,J,L,b,d,...  Katherine            66   \n",
       "\n",
       "   type                 user_id  votes_cool votes_funny votes_useful  \\\n",
       "0  user  18kPq7GPye-YQ3LyKyAZPw         246         167          282   \n",
       "1  user  rpOyqD_893cqmDAtJLbdog       12091        8399        15242   \n",
       "2  user  4U9kSBLuBDU391x6bxU-YA         657         722         1349   \n",
       "3  user  fHtTaujcyKvXglE33Z5yIw           5           1           11   \n",
       "4  user  SIBCL7HBkrP4llolm4SC2A          16          13           37   \n",
       "\n",
       "   yelping_since  \n",
       "0        2004-10  \n",
       "1        2004-10  \n",
       "2        2004-10  \n",
       "3        2004-10  \n",
       "4        2004-10  \n",
       "\n",
       "[5 rows x 23 columns]"
      ]
     },
     "execution_count": 14,
     "metadata": {},
     "output_type": "execute_result"
    }
   ],
   "source": [
    "user.head()"
   ]
  },
  {
   "cell_type": "code",
   "execution_count": 15,
   "metadata": {
    "collapsed": false
   },
   "outputs": [
    {
     "data": {
      "text/plain": [
       "['average_stars',\n",
       " 'compliments_cool',\n",
       " 'compliments_cute',\n",
       " 'compliments_funny',\n",
       " 'compliments_hot',\n",
       " 'compliments_list',\n",
       " 'compliments_more',\n",
       " 'compliments_note',\n",
       " 'compliments_photos',\n",
       " 'compliments_plain',\n",
       " 'compliments_profile',\n",
       " 'compliments_writer',\n",
       " 'elite',\n",
       " 'fans',\n",
       " 'friends',\n",
       " 'name',\n",
       " 'review_count',\n",
       " 'type',\n",
       " 'user_id',\n",
       " 'votes_cool',\n",
       " 'votes_funny',\n",
       " 'votes_useful',\n",
       " 'yelping_since']"
      ]
     },
     "execution_count": 15,
     "metadata": {},
     "output_type": "execute_result"
    }
   ],
   "source": [
    "list(user.columns.values)"
   ]
  },
  {
   "cell_type": "code",
   "execution_count": 16,
   "metadata": {
    "collapsed": false
   },
   "outputs": [
    {
     "data": {
      "text/plain": [
       "<matplotlib.text.Text at 0x10d3d25d0>"
      ]
     },
     "execution_count": 16,
     "metadata": {},
     "output_type": "execute_result"
    },
    {
     "data": {
      "image/png": "[encoded data removed]",
      "text/plain": [
       "<matplotlib.figure.Figure at 0x10ba23f90>"
      ]
     },
     "metadata": {},
     "output_type": "display_data"
    }
   ],
   "source": [
    "plt.scatter(user.review_count, user.average_stars, lw=0, alpha=.2, color='#008080')\n",
    "plt.xlabel(\"Number of Reviews\")\n",
    "plt.ylabel(\"Average Stars\")"
   ]
  },
  {
   "cell_type": "code",
   "execution_count": 17,
   "metadata": {
    "collapsed": false
   },
   "outputs": [
    {
     "data": {
      "text/plain": [
       "<matplotlib.text.Text at 0x10eb41210>"
      ]
     },
     "execution_count": 17,
     "metadata": {},
     "output_type": "execute_result"
    },
    {
     "data": {
      "image/png": "[encoded data removed]",
      "text/plain": [
       "<matplotlib.figure.Figure at 0x10d409690>"
      ]
     },
     "metadata": {},
     "output_type": "display_data"
    }
   ],
   "source": [
    "plt.scatter(user.review_count, user.votes_useful, lw=0, alpha=.2, color='#008080')\n",
    "plt.xlabel(\"Number of Reviews\")\n",
    "plt.ylabel(\"Votes Useful\")"
   ]
  },
  {
   "cell_type": "markdown",
   "metadata": {},
   "source": [
    "# Merging Biz Subset to Reviews Data"
   ]
  },
  {
   "cell_type": "code",
   "execution_count": 22,
   "metadata": {
    "collapsed": true
   },
   "outputs": [],
   "source": [
    "biz_subset = pd.read_csv(('../../yelp-data/biz_edit.csv'))"
   ]
  },
  {
   "cell_type": "code",
   "execution_count": 23,
   "metadata": {
    "collapsed": false
   },
   "outputs": [
    {
     "data": {
      "text/html": [
       "<div>\n",
       "<table border=\"1\" class=\"dataframe\">\n",
       "  <thead>\n",
       "    <tr style=\"text-align: right;\">\n",
       "      <th></th>\n",
       "      <th>AcceptsCreditCards</th>\n",
       "      <th>AgesAllowed</th>\n",
       "      <th>Alcohol</th>\n",
       "      <th>Attire</th>\n",
       "      <th>BYOB/Corkage</th>\n",
       "      <th>Caters</th>\n",
       "      <th>Delivery</th>\n",
       "      <th>DietaryRestrictions</th>\n",
       "      <th>DogsAllowed</th>\n",
       "      <th>Drive-Thru</th>\n",
       "      <th>...</th>\n",
       "      <th>biz_type</th>\n",
       "      <th>date</th>\n",
       "      <th>review_id</th>\n",
       "      <th>stars</th>\n",
       "      <th>text</th>\n",
       "      <th>type</th>\n",
       "      <th>user_id</th>\n",
       "      <th>votes_cool</th>\n",
       "      <th>votes_funny</th>\n",
       "      <th>votes_useful</th>\n",
       "    </tr>\n",
       "  </thead>\n",
       "  <tbody>\n",
       "    <tr>\n",
       "      <th>0</th>\n",
       "      <td>True</td>\n",
       "      <td>NaN</td>\n",
       "      <td>full_bar</td>\n",
       "      <td>casual</td>\n",
       "      <td>NaN</td>\n",
       "      <td>True</td>\n",
       "      <td>False</td>\n",
       "      <td>NaN</td>\n",
       "      <td>NaN</td>\n",
       "      <td>NaN</td>\n",
       "      <td>...</td>\n",
       "      <td>business</td>\n",
       "      <td>2012-08-06</td>\n",
       "      <td>IhLPy_qJqRyGb_vGwHNeaQ</td>\n",
       "      <td>4</td>\n",
       "      <td>We decided on Sapporo after reading so-so revi...</td>\n",
       "      <td>review</td>\n",
       "      <td>e6GiLUdbUaPX7-P9QtHrXg</td>\n",
       "      <td>0.0</td>\n",
       "      <td>0.0</td>\n",
       "      <td>1.0</td>\n",
       "    </tr>\n",
       "    <tr>\n",
       "      <th>1</th>\n",
       "      <td>True</td>\n",
       "      <td>NaN</td>\n",
       "      <td>full_bar</td>\n",
       "      <td>casual</td>\n",
       "      <td>NaN</td>\n",
       "      <td>True</td>\n",
       "      <td>False</td>\n",
       "      <td>NaN</td>\n",
       "      <td>NaN</td>\n",
       "      <td>NaN</td>\n",
       "      <td>...</td>\n",
       "      <td>business</td>\n",
       "      <td>2013-04-22</td>\n",
       "      <td>qUkI_rNF-xpaQXqvdpb1hg</td>\n",
       "      <td>5</td>\n",
       "      <td>I travel a lot and have eaten at a lot of Hiba...</td>\n",
       "      <td>review</td>\n",
       "      <td>UANFI1i2-xcOVIU8DYBdkw</td>\n",
       "      <td>0.0</td>\n",
       "      <td>0.0</td>\n",
       "      <td>0.0</td>\n",
       "    </tr>\n",
       "    <tr>\n",
       "      <th>2</th>\n",
       "      <td>True</td>\n",
       "      <td>NaN</td>\n",
       "      <td>full_bar</td>\n",
       "      <td>casual</td>\n",
       "      <td>NaN</td>\n",
       "      <td>True</td>\n",
       "      <td>False</td>\n",
       "      <td>NaN</td>\n",
       "      <td>NaN</td>\n",
       "      <td>NaN</td>\n",
       "      <td>...</td>\n",
       "      <td>business</td>\n",
       "      <td>2014-02-15</td>\n",
       "      <td>S1ng7qqc0Q-OZIs62cwpyw</td>\n",
       "      <td>1</td>\n",
       "      <td>The food was alright. Not good. Not bad. And c...</td>\n",
       "      <td>review</td>\n",
       "      <td>6ZyqtV5nQPL2RjMhfHOxWQ</td>\n",
       "      <td>0.0</td>\n",
       "      <td>0.0</td>\n",
       "      <td>0.0</td>\n",
       "    </tr>\n",
       "    <tr>\n",
       "      <th>3</th>\n",
       "      <td>True</td>\n",
       "      <td>NaN</td>\n",
       "      <td>full_bar</td>\n",
       "      <td>casual</td>\n",
       "      <td>NaN</td>\n",
       "      <td>True</td>\n",
       "      <td>False</td>\n",
       "      <td>NaN</td>\n",
       "      <td>NaN</td>\n",
       "      <td>NaN</td>\n",
       "      <td>...</td>\n",
       "      <td>business</td>\n",
       "      <td>2014-07-26</td>\n",
       "      <td>9mVDyUano9-a-dIoOjTY3Q</td>\n",
       "      <td>5</td>\n",
       "      <td>Sapporo is my favorite Japanese restaurant, pe...</td>\n",
       "      <td>review</td>\n",
       "      <td>5yC_sdGnYfXTX7Djp_4SVQ</td>\n",
       "      <td>0.0</td>\n",
       "      <td>0.0</td>\n",
       "      <td>2.0</td>\n",
       "    </tr>\n",
       "    <tr>\n",
       "      <th>4</th>\n",
       "      <td>True</td>\n",
       "      <td>NaN</td>\n",
       "      <td>full_bar</td>\n",
       "      <td>casual</td>\n",
       "      <td>NaN</td>\n",
       "      <td>True</td>\n",
       "      <td>False</td>\n",
       "      <td>NaN</td>\n",
       "      <td>NaN</td>\n",
       "      <td>NaN</td>\n",
       "      <td>...</td>\n",
       "      <td>business</td>\n",
       "      <td>2015-07-10</td>\n",
       "      <td>FxcalYSYxfrA9AOJq3xEzA</td>\n",
       "      <td>5</td>\n",
       "      <td>Been to many hibachis, this one is very clean,...</td>\n",
       "      <td>review</td>\n",
       "      <td>hlpHSNcosmjXQ-gfGXFGRw</td>\n",
       "      <td>0.0</td>\n",
       "      <td>0.0</td>\n",
       "      <td>0.0</td>\n",
       "    </tr>\n",
       "  </tbody>\n",
       "</table>\n",
       "<p>5 rows × 58 columns</p>\n",
       "</div>"
      ],
      "text/plain": [
       "  AcceptsCreditCards AgesAllowed   Alcohol  Attire BYOB/Corkage Caters  \\\n",
       "0               True         NaN  full_bar  casual          NaN   True   \n",
       "1               True         NaN  full_bar  casual          NaN   True   \n",
       "2               True         NaN  full_bar  casual          NaN   True   \n",
       "3               True         NaN  full_bar  casual          NaN   True   \n",
       "4               True         NaN  full_bar  casual          NaN   True   \n",
       "\n",
       "  Delivery DietaryRestrictions DogsAllowed Drive-Thru     ...       biz_type  \\\n",
       "0    False                 NaN         NaN        NaN     ...       business   \n",
       "1    False                 NaN         NaN        NaN     ...       business   \n",
       "2    False                 NaN         NaN        NaN     ...       business   \n",
       "3    False                 NaN         NaN        NaN     ...       business   \n",
       "4    False                 NaN         NaN        NaN     ...       business   \n",
       "\n",
       "         date               review_id stars  \\\n",
       "0  2012-08-06  IhLPy_qJqRyGb_vGwHNeaQ     4   \n",
       "1  2013-04-22  qUkI_rNF-xpaQXqvdpb1hg     5   \n",
       "2  2014-02-15  S1ng7qqc0Q-OZIs62cwpyw     1   \n",
       "3  2014-07-26  9mVDyUano9-a-dIoOjTY3Q     5   \n",
       "4  2015-07-10  FxcalYSYxfrA9AOJq3xEzA     5   \n",
       "\n",
       "                                                text    type  \\\n",
       "0  We decided on Sapporo after reading so-so revi...  review   \n",
       "1  I travel a lot and have eaten at a lot of Hiba...  review   \n",
       "2  The food was alright. Not good. Not bad. And c...  review   \n",
       "3  Sapporo is my favorite Japanese restaurant, pe...  review   \n",
       "4  Been to many hibachis, this one is very clean,...  review   \n",
       "\n",
       "                  user_id votes_cool votes_funny votes_useful  \n",
       "0  e6GiLUdbUaPX7-P9QtHrXg        0.0         0.0          1.0  \n",
       "1  UANFI1i2-xcOVIU8DYBdkw        0.0         0.0          0.0  \n",
       "2  6ZyqtV5nQPL2RjMhfHOxWQ        0.0         0.0          0.0  \n",
       "3  5yC_sdGnYfXTX7Djp_4SVQ        0.0         0.0          2.0  \n",
       "4  hlpHSNcosmjXQ-gfGXFGRw        0.0         0.0          0.0  \n",
       "\n",
       "[5 rows x 58 columns]"
      ]
     },
     "execution_count": 23,
     "metadata": {},
     "output_type": "execute_result"
    }
   ],
   "source": [
    "data = pd.merge(biz_subset, review, on='business_id')\n",
    "data.head()"
   ]
  },
  {
   "cell_type": "code",
   "execution_count": 24,
   "metadata": {
    "collapsed": false
   },
   "outputs": [
    {
     "data": {
      "text/plain": [
       "(115094, 58)"
      ]
     },
     "execution_count": 24,
     "metadata": {},
     "output_type": "execute_result"
    }
   ],
   "source": [
    "data.shape"
   ]
  },
  {
   "cell_type": "code",
   "execution_count": 25,
   "metadata": {
    "collapsed": false
   },
   "outputs": [
    {
     "data": {
      "text/plain": [
       "['AcceptsCreditCards',\n",
       " 'AgesAllowed',\n",
       " 'Alcohol',\n",
       " 'Attire',\n",
       " 'BYOB/Corkage',\n",
       " 'Caters',\n",
       " 'Delivery',\n",
       " 'DietaryRestrictions',\n",
       " 'DogsAllowed',\n",
       " 'Drive-Thru',\n",
       " 'GoodFor',\n",
       " 'GoodForDancing',\n",
       " 'GoodForGroups',\n",
       " 'GoodForKids',\n",
       " 'HappyHour',\n",
       " 'HasTV',\n",
       " 'Music',\n",
       " 'NoiseLevel',\n",
       " 'Open24Hours',\n",
       " 'OrderAtCounter',\n",
       " 'OutdoorSeating',\n",
       " 'Parking',\n",
       " 'PriceRange',\n",
       " 'Smoking',\n",
       " 'Take-out',\n",
       " 'TakesReservations',\n",
       " 'WaiterService',\n",
       " 'WheelchairAccessible',\n",
       " 'Wi-Fi',\n",
       " 'business_id',\n",
       " 'categories',\n",
       " 'city',\n",
       " 'full_address',\n",
       " 'hours_Friday',\n",
       " 'hours_Monday',\n",
       " 'hours_Saturday',\n",
       " 'hours_Sunday',\n",
       " 'hours_Thursday',\n",
       " 'hours_Tuesday',\n",
       " 'hours_Wednesday',\n",
       " 'latitude',\n",
       " 'longitude',\n",
       " 'name',\n",
       " 'neighborhoods',\n",
       " 'open',\n",
       " 'review_count',\n",
       " 'biz_stars',\n",
       " 'state',\n",
       " 'biz_type',\n",
       " 'date',\n",
       " 'review_id',\n",
       " 'stars',\n",
       " 'text',\n",
       " 'type',\n",
       " 'user_id',\n",
       " 'votes_cool',\n",
       " 'votes_funny',\n",
       " 'votes_useful']"
      ]
     },
     "execution_count": 25,
     "metadata": {},
     "output_type": "execute_result"
    }
   ],
   "source": [
    "list(data.columns.values)"
   ]
  },
  {
   "cell_type": "code",
   "execution_count": 26,
   "metadata": {
    "collapsed": true
   },
   "outputs": [],
   "source": [
    "data.to_csv('../../yelp-data/data.csv',index=False)"
   ]
  },
  {
   "cell_type": "markdown",
   "metadata": {},
   "source": [
    "## Merge full dataset"
   ]
  },
  {
   "cell_type": "code",
   "execution_count": 2,
   "metadata": {
    "collapsed": true
   },
   "outputs": [],
   "source": [
    "master_data = pd.merge(business, review, on='business_id')"
   ]
  },
  {
   "cell_type": "code",
   "execution_count": 3,
   "metadata": {
    "collapsed": false
   },
   "outputs": [
    {
     "data": {
      "text/plain": [
       "Index([u'attributes_Accepts Credit Cards', u'attributes_Accepts Insurance',\n",
       "       u'attributes_Ages Allowed', u'attributes_Alcohol',\n",
       "       u'attributes_Ambience', u'attributes_Attire', u'attributes_BYOB',\n",
       "       u'attributes_BYOB/Corkage', u'attributes_By Appointment Only',\n",
       "       u'attributes_Caters', u'attributes_Coat Check', u'attributes_Corkage',\n",
       "       u'attributes_Delivery', u'attributes_Dietary Restrictions',\n",
       "       u'attributes_Dogs Allowed', u'attributes_Drive-Thru',\n",
       "       u'attributes_Good For', u'attributes_Good For Dancing',\n",
       "       u'attributes_Good For Groups', u'attributes_Good for Kids',\n",
       "       u'attributes_Hair Types Specialized In', u'attributes_Happy Hour',\n",
       "       u'attributes_Has TV', u'attributes_Music', u'attributes_Noise Level',\n",
       "       u'attributes_Open 24 Hours', u'attributes_Order at Counter',\n",
       "       u'attributes_Outdoor Seating', u'attributes_Parking',\n",
       "       u'attributes_Price Range', u'attributes_Smoking',\n",
       "       u'attributes_Take-out', u'attributes_Takes Reservations',\n",
       "       u'attributes_Waiter Service', u'attributes_Wheelchair Accessible',\n",
       "       u'attributes_Wi-Fi', u'business_id', u'categories', u'city',\n",
       "       u'full_address', u'hours_Friday', u'hours_Monday', u'hours_Saturday',\n",
       "       u'hours_Sunday', u'hours_Thursday', u'hours_Tuesday',\n",
       "       u'hours_Wednesday', u'latitude', u'longitude', u'name',\n",
       "       u'neighborhoods', u'open', u'review_count', u'stars_x', u'state',\n",
       "       u'type_x', u'date', u'review_id', u'stars_y', u'text', u'type_y',\n",
       "       u'user_id', u'votes_cool', u'votes_funny', u'votes_useful'],\n",
       "      dtype='object')"
      ]
     },
     "execution_count": 3,
     "metadata": {},
     "output_type": "execute_result"
    }
   ],
   "source": [
    "master_data.columns"
   ]
  },
  {
   "cell_type": "code",
   "execution_count": 4,
   "metadata": {
    "collapsed": true
   },
   "outputs": [],
   "source": [
    "master_data['Steakhouses'] = master_data['categories'].str.contains('Steakhouses')\n",
    "master_data['Steak'] = master_data['text'].str.contains('Steak')\n",
    "master_data['steak'] = master_data['text'].str.contains('steak')"
   ]
  },
  {
   "cell_type": "code",
   "execution_count": 5,
   "metadata": {
    "collapsed": false
   },
   "outputs": [
    {
     "data": {
      "text/plain": [
       "array(['review', nan], dtype=object)"
      ]
     },
     "execution_count": 5,
     "metadata": {},
     "output_type": "execute_result"
    }
   ],
   "source": [
    "master_data.type_y.unique()"
   ]
  },
  {
   "cell_type": "markdown",
   "metadata": {},
   "source": [
    "y refers to review, while x refers to business"
   ]
  },
  {
   "cell_type": "code",
   "execution_count": 6,
   "metadata": {
    "collapsed": false
   },
   "outputs": [
    {
     "data": {
      "text/plain": [
       "array([False, True], dtype=object)"
      ]
     },
     "execution_count": 6,
     "metadata": {},
     "output_type": "execute_result"
    }
   ],
   "source": [
    "master_data.steak.unique()"
   ]
  },
  {
   "cell_type": "markdown",
   "metadata": {},
   "source": [
    "Let's subset the data so we get all the rows that include Steakhouses, Steak, OR steak"
   ]
  },
  {
   "cell_type": "code",
   "execution_count": 8,
   "metadata": {
    "collapsed": false
   },
   "outputs": [],
   "source": [
    "subset = master_data[(master_data.Steakhouses == True) | (master_data.Steak == True) | (master_data.steak == True)]"
   ]
  },
  {
   "cell_type": "code",
   "execution_count": 9,
   "metadata": {
    "collapsed": false
   },
   "outputs": [
    {
     "data": {
      "text/plain": [
       "(156695, 68)"
      ]
     },
     "execution_count": 9,
     "metadata": {},
     "output_type": "execute_result"
    }
   ],
   "source": [
    "subset.shape"
   ]
  },
  {
   "cell_type": "code",
   "execution_count": 7,
   "metadata": {
    "collapsed": false
   },
   "outputs": [
    {
     "name": "stderr",
     "output_type": "stream",
     "text": [
      "/Applications/anaconda/lib/python2.7/site-packages/IPython/html.py:14: ShimWarning: The `IPython.html` package has been deprecated. You should import from `notebook` instead. `IPython.html.widgets` has moved to `ipywidgets`.\n",
      "  \"`IPython.html.widgets` has moved to `ipywidgets`.\", ShimWarning)\n"
     ]
    }
   ],
   "source": [
    "import seaborn as sns\n",
    "sns.set_style(\"darkgrid\")"
   ]
  },
  {
   "cell_type": "code",
   "execution_count": 13,
   "metadata": {
    "collapsed": false
   },
   "outputs": [
    {
     "data": {
      "text/plain": [
       "<matplotlib.text.Text at 0x121eb2f10>"
      ]
     },
     "execution_count": 13,
     "metadata": {},
     "output_type": "execute_result"
    },
    {
     "data": {
      "image/png": "[encoded data removed]",
      "text/plain": [
       "<matplotlib.figure.Figure at 0x11ff02050>"
      ]
     },
     "metadata": {},
     "output_type": "display_data"
    }
   ],
   "source": [
    "sns.countplot(y='state', data=subset)\n",
    "plt.ylabel('')\n",
    "plt.xlabel('Count')\n",
    "plt.title('Count of Reviews by State')"
   ]
  },
  {
   "cell_type": "code",
   "execution_count": 14,
   "metadata": {
    "collapsed": true
   },
   "outputs": [],
   "source": [
    "subset.to_csv('../../yelp-data/new_data/data.csv',index=False)\n",
    "# includes messy cols, but no prob"
   ]
  },
  {
   "cell_type": "code",
   "execution_count": 15,
   "metadata": {
    "collapsed": false
   },
   "outputs": [
    {
     "data": {
      "text/plain": [
       "Index([u'attributes_Accepts Credit Cards', u'attributes_Accepts Insurance',\n",
       "       u'attributes_Ages Allowed', u'attributes_Alcohol',\n",
       "       u'attributes_Ambience', u'attributes_Attire', u'attributes_BYOB',\n",
       "       u'attributes_BYOB/Corkage', u'attributes_By Appointment Only',\n",
       "       u'attributes_Caters', u'attributes_Coat Check', u'attributes_Corkage',\n",
       "       u'attributes_Delivery', u'attributes_Dietary Restrictions',\n",
       "       u'attributes_Dogs Allowed', u'attributes_Drive-Thru',\n",
       "       u'attributes_Good For', u'attributes_Good For Dancing',\n",
       "       u'attributes_Good For Groups', u'attributes_Good for Kids',\n",
       "       u'attributes_Hair Types Specialized In', u'attributes_Happy Hour',\n",
       "       u'attributes_Has TV', u'attributes_Music', u'attributes_Noise Level',\n",
       "       u'attributes_Open 24 Hours', u'attributes_Order at Counter',\n",
       "       u'attributes_Outdoor Seating', u'attributes_Parking',\n",
       "       u'attributes_Price Range', u'attributes_Smoking',\n",
       "       u'attributes_Take-out', u'attributes_Takes Reservations',\n",
       "       u'attributes_Waiter Service', u'attributes_Wheelchair Accessible',\n",
       "       u'attributes_Wi-Fi', u'business_id', u'categories', u'city',\n",
       "       u'full_address', u'hours_Friday', u'hours_Monday', u'hours_Saturday',\n",
       "       u'hours_Sunday', u'hours_Thursday', u'hours_Tuesday',\n",
       "       u'hours_Wednesday', u'latitude', u'longitude', u'name',\n",
       "       u'neighborhoods', u'open', u'review_count', u'stars_x', u'state',\n",
       "       u'type_x', u'date', u'review_id', u'stars_y', u'text', u'type_y',\n",
       "       u'user_id', u'votes_cool', u'votes_funny', u'votes_useful',\n",
       "       u'Steakhouses', u'Steak', u'steak'],\n",
       "      dtype='object')"
      ]
     },
     "execution_count": 15,
     "metadata": {},
     "output_type": "execute_result"
    }
   ],
   "source": [
    "subset.columns"
   ]
  },
  {
   "cell_type": "code",
   "execution_count": 16,
   "metadata": {
    "collapsed": true
   },
   "outputs": [],
   "source": [
    "del subset['attributes_Accepts Insurance']\n",
    "del subset['attributes_Ages Allowed']\n",
    "del subset['attributes_Ambience']\n",
    "del subset['attributes_BYOB']\n",
    "del subset['attributes_BYOB/Corkage']\n",
    "del subset['attributes_By Appointment Only']\n",
    "del subset['attributes_Coat Check']\n",
    "del subset['attributes_Corkage']\n",
    "del subset['attributes_Dogs Allowed']\n",
    "del subset['attributes_Good For']\n",
    "del subset['attributes_Good For Dancing']\n",
    "del subset['attributes_Good For Groups']\n",
    "del subset['attributes_Hair Types Specialized In']\n",
    "del subset['attributes_Parking']\n",
    "del subset['hours_Friday']\n",
    "del subset['hours_Monday']\n",
    "del subset['hours_Saturday']\n",
    "del subset['hours_Sunday']\n",
    "del subset['hours_Thursday']\n",
    "del subset['hours_Tuesday']\n",
    "del subset['hours_Wednesday']\n",
    "del subset['type_x']\n",
    "del subset['type_y']"
   ]
  },
  {
   "cell_type": "code",
   "execution_count": 18,
   "metadata": {
    "collapsed": false
   },
   "outputs": [
    {
     "data": {
      "text/plain": [
       "(156695, 45)"
      ]
     },
     "execution_count": 18,
     "metadata": {},
     "output_type": "execute_result"
    }
   ],
   "source": [
    "subset.shape"
   ]
  },
  {
   "cell_type": "code",
   "execution_count": 19,
   "metadata": {
    "collapsed": false
   },
   "outputs": [
    {
     "data": {
      "text/plain": [
       "Index([u'attributes_Accepts Credit Cards', u'attributes_Alcohol',\n",
       "       u'attributes_Attire', u'attributes_Caters', u'attributes_Delivery',\n",
       "       u'attributes_Dietary Restrictions', u'attributes_Drive-Thru',\n",
       "       u'attributes_Good for Kids', u'attributes_Happy Hour',\n",
       "       u'attributes_Has TV', u'attributes_Music', u'attributes_Noise Level',\n",
       "       u'attributes_Open 24 Hours', u'attributes_Order at Counter',\n",
       "       u'attributes_Outdoor Seating', u'attributes_Price Range',\n",
       "       u'attributes_Smoking', u'attributes_Take-out',\n",
       "       u'attributes_Takes Reservations', u'attributes_Waiter Service',\n",
       "       u'attributes_Wheelchair Accessible', u'attributes_Wi-Fi',\n",
       "       u'business_id', u'categories', u'city', u'full_address', u'latitude',\n",
       "       u'longitude', u'name', u'neighborhoods', u'open', u'review_count',\n",
       "       u'stars_x', u'state', u'date', u'review_id', u'stars_y', u'text',\n",
       "       u'user_id', u'votes_cool', u'votes_funny', u'votes_useful',\n",
       "       u'Steakhouses', u'Steak', u'steak'],\n",
       "      dtype='object')"
      ]
     },
     "execution_count": 19,
     "metadata": {},
     "output_type": "execute_result"
    }
   ],
   "source": [
    "subset.columns"
   ]
  },
  {
   "cell_type": "markdown",
   "metadata": {},
   "source": [
    "Rename col names"
   ]
  },
  {
   "cell_type": "code",
   "execution_count": 23,
   "metadata": {
    "collapsed": false
   },
   "outputs": [
    {
     "name": "stderr",
     "output_type": "stream",
     "text": [
      "/Applications/anaconda/lib/python2.7/site-packages/pandas/core/frame.py:2834: SettingWithCopyWarning: \n",
      "A value is trying to be set on a copy of a slice from a DataFrame\n",
      "\n",
      "See the caveats in the documentation: http://pandas.pydata.org/pandas-docs/stable/indexing.html#indexing-view-versus-copy\n",
      "  **kwargs)\n"
     ]
    }
   ],
   "source": [
    "subset.rename(columns={'attributes_Accepts Credit Cards':'CreditCards', \n",
    "                       'attributes_Alcohol':'Alcohol', \n",
    "                       'attributes_Attire':'Attire', \n",
    "                       'attributes_Caters':'Caters',\n",
    "                       'attributes_Delivery':'Delivery',\n",
    "                       'attributes_Dietary Restrictions':'DietaryRestrictions',\n",
    "                       'attributes_Drive-Thru':'DriveThru',\n",
    "                       'attributes_Good for Kids':'GoodforKids',\n",
    "                       'attributes_Happy Hour':'HappyHour',\n",
    "                       'attributes_Has TV':'TV',\n",
    "                       'attributes_Music':'Music',\n",
    "                       'attributes_Noise Level':'NoiseLevel',\n",
    "                       'attributes_Open 24 Hours':'24Hours',\n",
    "                       'attributes_Order at Counter':'OrderAtCounter',\n",
    "                       'attributes_Outdoor Seating':'OutdoorSeating',\n",
    "                       'attributes_Price Range':'PriceRange',\n",
    "                       'attributes_Smoking':'Smoking',\n",
    "                       'attributes_Take-out':'Take-out',\n",
    "                       'attributes_Takes Reservations':'TakesReservations',\n",
    "                       'attributes_Waiter Service':'WaiterService',\n",
    "                       'attributes_Wheelchair Accessible':'WheelchairAccessible',\n",
    "                       'attributes_Wi-Fi':'WiFi',\n",
    "                       'stars_x':'BusinessStars',\n",
    "                       'stars_y':'ReviewStars'}, inplace=True)"
   ]
  },
  {
   "cell_type": "code",
   "execution_count": 24,
   "metadata": {
    "collapsed": false
   },
   "outputs": [
    {
     "data": {
      "text/plain": [
       "Index([u'CreditCards', u'Alcohol', u'Attire', u'Caters', u'Delivery',\n",
       "       u'DietaryRestrictions', u'DriveThru', u'GoodforKids', u'HappyHour',\n",
       "       u'TV', u'Music', u'NoiseLevel', u'24Hours', u'OrderAtCounter',\n",
       "       u'OutdoorSeating', u'PriceRange', u'Smoking', u'Take-out',\n",
       "       u'TakesReservations', u'WaiterService', u'WheelchairAccessible',\n",
       "       u'WiFi', u'business_id', u'categories', u'city', u'full_address',\n",
       "       u'latitude', u'longitude', u'name', u'neighborhoods', u'open',\n",
       "       u'review_count', u'BusinessStars', u'state', u'date', u'review_id',\n",
       "       u'ReviewStars', u'text', u'user_id', u'votes_cool', u'votes_funny',\n",
       "       u'votes_useful', u'Steakhouses', u'Steak', u'steak'],\n",
       "      dtype='object')"
      ]
     },
     "execution_count": 24,
     "metadata": {},
     "output_type": "execute_result"
    }
   ],
   "source": [
    "subset.columns"
   ]
  },
  {
   "cell_type": "markdown",
   "metadata": {},
   "source": [
    "Export this full dataset"
   ]
  },
  {
   "cell_type": "code",
   "execution_count": 25,
   "metadata": {
    "collapsed": true
   },
   "outputs": [],
   "source": [
    "subset.to_csv('../../yelp-data/new_data/data_subset.csv',index=False)"
   ]
  },
  {
   "cell_type": "markdown",
   "metadata": {},
   "source": [
    "### Remove last 3 cols for primary analysis..."
   ]
  },
  {
   "cell_type": "code",
   "execution_count": 26,
   "metadata": {
    "collapsed": true
   },
   "outputs": [],
   "source": [
    "del subset['Steakhouses']\n",
    "del subset['Steak']\n",
    "del subset['steak']"
   ]
  },
  {
   "cell_type": "code",
   "execution_count": 27,
   "metadata": {
    "collapsed": true
   },
   "outputs": [],
   "source": [
    "subset.to_csv('../../yelp-data/new_data/subset_final.csv',index=False)"
   ]
  },
  {
   "cell_type": "markdown",
   "metadata": {
    "collapsed": true
   },
   "source": [
    "### Add user file, export as data_final"
   ]
  },
  {
   "cell_type": "code",
   "execution_count": 2,
   "metadata": {
    "collapsed": false
   },
   "outputs": [
    {
     "name": "stderr",
     "output_type": "stream",
     "text": [
      "/Applications/anaconda/lib/python2.7/site-packages/IPython/core/interactiveshell.py:2717: DtypeWarning: Columns (5,12,13) have mixed types. Specify dtype option on import or set low_memory=False.\n",
      "  interactivity=interactivity, compiler=compiler, result=result)\n"
     ]
    }
   ],
   "source": [
    "subset = pd.read_csv(('../../yelp-data/new_data/subset_final.csv'))"
   ]
  },
  {
   "cell_type": "markdown",
   "metadata": {},
   "source": [
    "### Rename user columns"
   ]
  },
  {
   "cell_type": "code",
   "execution_count": 4,
   "metadata": {
    "collapsed": false
   },
   "outputs": [
    {
     "data": {
      "text/plain": [
       "['average_stars',\n",
       " 'compliments_cool',\n",
       " 'compliments_cute',\n",
       " 'compliments_funny',\n",
       " 'compliments_hot',\n",
       " 'compliments_list',\n",
       " 'compliments_more',\n",
       " 'compliments_note',\n",
       " 'compliments_photos',\n",
       " 'compliments_plain',\n",
       " 'compliments_profile',\n",
       " 'compliments_writer',\n",
       " 'elite',\n",
       " 'fans',\n",
       " 'friends',\n",
       " 'name',\n",
       " 'review_count',\n",
       " 'type',\n",
       " 'user_id',\n",
       " 'votes_cool',\n",
       " 'votes_funny',\n",
       " 'votes_useful',\n",
       " 'yelping_since']"
      ]
     },
     "execution_count": 4,
     "metadata": {},
     "output_type": "execute_result"
    }
   ],
   "source": [
    "list(user.columns)"
   ]
  },
  {
   "cell_type": "code",
   "execution_count": 5,
   "metadata": {
    "collapsed": false
   },
   "outputs": [
    {
     "data": {
      "text/plain": [
       "array(['user'], dtype=object)"
      ]
     },
     "execution_count": 5,
     "metadata": {},
     "output_type": "execute_result"
    }
   ],
   "source": [
    "user.type.unique()"
   ]
  },
  {
   "cell_type": "code",
   "execution_count": 6,
   "metadata": {
    "collapsed": true
   },
   "outputs": [],
   "source": [
    "del user['type']"
   ]
  },
  {
   "cell_type": "code",
   "execution_count": 7,
   "metadata": {
    "collapsed": true
   },
   "outputs": [],
   "source": [
    "user.rename(columns={'average_stars':'user_average_stars',\n",
    "                      'compliments_cool':'user_compliments_cool',\n",
    "                      'compliments_cute':'user_compliments_cute',\n",
    "                      'compliments_funny':'user_compliments_funny',\n",
    "                      'compliments_hot':'user_compliments_hot',\n",
    "                      'compliments_list':'user_compliments_list',\n",
    "                      'compliments_more':'user_compliments_more',\n",
    "                      'compliments_note':'user_compliments_note',\n",
    "                      'compliments_photos':'user_compliments_photos',\n",
    "                      'compliments_plain':'user_compliments_plain',\n",
    "                      'compliments_profile':'user_compliments_profile',\n",
    "                      'compliments_writer':'user_compliments_writer',\n",
    "                      'elite':'user_elite',\n",
    "                      'fans':'user_fans',\n",
    "                      'friends':'user_friends',\n",
    "                      'name':'user_name',\n",
    "                      'review_count':'user_review_count',\n",
    "                      'votes_cool':'user_votes_cool',\n",
    "                      'votes_funny':'user_votes_funny',\n",
    "                      'votes_useful':'user_votes_useful',\n",
    "                      'yelping_since':'user_yelping_since',\n",
    "                      }, inplace=True)"
   ]
  },
  {
   "cell_type": "code",
   "execution_count": 18,
   "metadata": {
    "collapsed": false
   },
   "outputs": [
    {
     "data": {
      "text/plain": [
       "686556"
      ]
     },
     "execution_count": 18,
     "metadata": {},
     "output_type": "execute_result"
    }
   ],
   "source": [
    "user.user_id.nunique()"
   ]
  },
  {
   "cell_type": "code",
   "execution_count": 34,
   "metadata": {
    "collapsed": true
   },
   "outputs": [],
   "source": [
    "# user.loc[: , \"user_friends\"]"
   ]
  },
  {
   "cell_type": "markdown",
   "metadata": {},
   "source": [
    "I may not care about some columns here... like:\n",
    " - user_compliments_list\n",
    " - user_compliments_more\n",
    " - user_compliments_note\n",
    " - user_compliments_plain\n",
    " - user_elite\n",
    " - user_friends"
   ]
  },
  {
   "cell_type": "code",
   "execution_count": 24,
   "metadata": {
    "collapsed": true
   },
   "outputs": [],
   "source": [
    "del user['user_compliments_list']\n",
    "del user['user_compliments_more']\n",
    "del user['user_compliments_note']\n",
    "del user['user_compliments_plain']\n",
    "del user['user_elite']\n",
    "del user['user_friends']"
   ]
  },
  {
   "cell_type": "code",
   "execution_count": 36,
   "metadata": {
    "collapsed": false
   },
   "outputs": [
    {
     "data": {
      "text/plain": [
       "Index([u'user_average_stars', u'user_compliments_cool',\n",
       "       u'user_compliments_cute', u'user_compliments_funny',\n",
       "       u'user_compliments_hot', u'user_compliments_photos',\n",
       "       u'user_compliments_profile', u'user_compliments_writer', u'user_fans',\n",
       "       u'user_name', u'user_review_count', u'user_id', u'user_votes_cool',\n",
       "       u'user_votes_funny', u'user_votes_useful', u'user_yelping_since'],\n",
       "      dtype='object')"
      ]
     },
     "execution_count": 36,
     "metadata": {},
     "output_type": "execute_result"
    }
   ],
   "source": [
    "user.columns"
   ]
  },
  {
   "cell_type": "code",
   "execution_count": 37,
   "metadata": {
    "collapsed": false
   },
   "outputs": [
    {
     "data": {
      "text/plain": [
       "Index([u'CreditCards', u'Alcohol', u'Attire', u'Caters', u'Delivery',\n",
       "       u'DietaryRestrictions', u'DriveThru', u'GoodforKids', u'HappyHour',\n",
       "       u'TV', u'Music', u'NoiseLevel', u'24Hours', u'OrderAtCounter',\n",
       "       u'OutdoorSeating', u'PriceRange', u'Smoking', u'Take-out',\n",
       "       u'TakesReservations', u'WaiterService', u'WheelchairAccessible',\n",
       "       u'WiFi', u'business_id', u'categories', u'city', u'full_address',\n",
       "       u'latitude', u'longitude', u'name', u'neighborhoods', u'open',\n",
       "       u'review_count', u'BusinessStars', u'state', u'date', u'review_id',\n",
       "       u'ReviewStars', u'text', u'user_id', u'votes_cool', u'votes_funny',\n",
       "       u'votes_useful'],\n",
       "      dtype='object')"
      ]
     },
     "execution_count": 37,
     "metadata": {},
     "output_type": "execute_result"
    }
   ],
   "source": [
    "subset.columns"
   ]
  },
  {
   "cell_type": "code",
   "execution_count": 38,
   "metadata": {
    "collapsed": true
   },
   "outputs": [],
   "source": [
    "data = pd.merge(subset, user, on='user_id')"
   ]
  },
  {
   "cell_type": "code",
   "execution_count": 39,
   "metadata": {
    "collapsed": true
   },
   "outputs": [],
   "source": [
    "data.to_csv('../../yelp-data/new_data/data_final.csv',index=False)"
   ]
  },
  {
   "cell_type": "markdown",
   "metadata": {},
   "source": [
    "### How does the file look?"
   ]
  },
  {
   "cell_type": "code",
   "execution_count": 14,
   "metadata": {
    "collapsed": false
   },
   "outputs": [],
   "source": [
    "data = pd.read_csv(('../../yelp-data/new_data/data_final.csv'))"
   ]
  },
  {
   "cell_type": "code",
   "execution_count": 41,
   "metadata": {
    "collapsed": false
   },
   "outputs": [
    {
     "data": {
      "text/plain": [
       "(156695, 57)"
      ]
     },
     "execution_count": 41,
     "metadata": {},
     "output_type": "execute_result"
    }
   ],
   "source": [
    "data.shape"
   ]
  },
  {
   "cell_type": "code",
   "execution_count": 42,
   "metadata": {
    "collapsed": false
   },
   "outputs": [
    {
     "data": {
      "text/html": [
       "<div>\n",
       "<table border=\"1\" class=\"dataframe\">\n",
       "  <thead>\n",
       "    <tr style=\"text-align: right;\">\n",
       "      <th></th>\n",
       "      <th>CreditCards</th>\n",
       "      <th>Alcohol</th>\n",
       "      <th>Attire</th>\n",
       "      <th>Caters</th>\n",
       "      <th>Delivery</th>\n",
       "      <th>DietaryRestrictions</th>\n",
       "      <th>DriveThru</th>\n",
       "      <th>GoodforKids</th>\n",
       "      <th>HappyHour</th>\n",
       "      <th>TV</th>\n",
       "      <th>...</th>\n",
       "      <th>user_compliments_photos</th>\n",
       "      <th>user_compliments_profile</th>\n",
       "      <th>user_compliments_writer</th>\n",
       "      <th>user_fans</th>\n",
       "      <th>user_name</th>\n",
       "      <th>user_review_count</th>\n",
       "      <th>user_votes_cool</th>\n",
       "      <th>user_votes_funny</th>\n",
       "      <th>user_votes_useful</th>\n",
       "      <th>user_yelping_since</th>\n",
       "    </tr>\n",
       "  </thead>\n",
       "  <tbody>\n",
       "    <tr>\n",
       "      <th>0</th>\n",
       "      <td>True</td>\n",
       "      <td>none</td>\n",
       "      <td>casual</td>\n",
       "      <td>False</td>\n",
       "      <td>False</td>\n",
       "      <td>NaN</td>\n",
       "      <td>False</td>\n",
       "      <td>True</td>\n",
       "      <td>NaN</td>\n",
       "      <td>False</td>\n",
       "      <td>...</td>\n",
       "      <td>NaN</td>\n",
       "      <td>NaN</td>\n",
       "      <td>NaN</td>\n",
       "      <td>1</td>\n",
       "      <td>Jim</td>\n",
       "      <td>26</td>\n",
       "      <td>3</td>\n",
       "      <td>10</td>\n",
       "      <td>26</td>\n",
       "      <td>2012-10</td>\n",
       "    </tr>\n",
       "    <tr>\n",
       "      <th>1</th>\n",
       "      <td>True</td>\n",
       "      <td>none</td>\n",
       "      <td>casual</td>\n",
       "      <td>False</td>\n",
       "      <td>False</td>\n",
       "      <td>NaN</td>\n",
       "      <td>False</td>\n",
       "      <td>True</td>\n",
       "      <td>NaN</td>\n",
       "      <td>False</td>\n",
       "      <td>...</td>\n",
       "      <td>NaN</td>\n",
       "      <td>NaN</td>\n",
       "      <td>NaN</td>\n",
       "      <td>0</td>\n",
       "      <td>Jennifer</td>\n",
       "      <td>3</td>\n",
       "      <td>0</td>\n",
       "      <td>0</td>\n",
       "      <td>1</td>\n",
       "      <td>2016-04</td>\n",
       "    </tr>\n",
       "    <tr>\n",
       "      <th>2</th>\n",
       "      <td>True</td>\n",
       "      <td>NaN</td>\n",
       "      <td>NaN</td>\n",
       "      <td>NaN</td>\n",
       "      <td>NaN</td>\n",
       "      <td>NaN</td>\n",
       "      <td>NaN</td>\n",
       "      <td>NaN</td>\n",
       "      <td>True</td>\n",
       "      <td>NaN</td>\n",
       "      <td>...</td>\n",
       "      <td>NaN</td>\n",
       "      <td>NaN</td>\n",
       "      <td>16.0</td>\n",
       "      <td>10</td>\n",
       "      <td>Molly</td>\n",
       "      <td>158</td>\n",
       "      <td>80</td>\n",
       "      <td>46</td>\n",
       "      <td>161</td>\n",
       "      <td>2012-06</td>\n",
       "    </tr>\n",
       "    <tr>\n",
       "      <th>3</th>\n",
       "      <td>True</td>\n",
       "      <td>full_bar</td>\n",
       "      <td>casual</td>\n",
       "      <td>False</td>\n",
       "      <td>False</td>\n",
       "      <td>NaN</td>\n",
       "      <td>NaN</td>\n",
       "      <td>True</td>\n",
       "      <td>NaN</td>\n",
       "      <td>True</td>\n",
       "      <td>...</td>\n",
       "      <td>NaN</td>\n",
       "      <td>NaN</td>\n",
       "      <td>16.0</td>\n",
       "      <td>10</td>\n",
       "      <td>Molly</td>\n",
       "      <td>158</td>\n",
       "      <td>80</td>\n",
       "      <td>46</td>\n",
       "      <td>161</td>\n",
       "      <td>2012-06</td>\n",
       "    </tr>\n",
       "    <tr>\n",
       "      <th>4</th>\n",
       "      <td>True</td>\n",
       "      <td>full_bar</td>\n",
       "      <td>casual</td>\n",
       "      <td>False</td>\n",
       "      <td>False</td>\n",
       "      <td>NaN</td>\n",
       "      <td>NaN</td>\n",
       "      <td>False</td>\n",
       "      <td>NaN</td>\n",
       "      <td>False</td>\n",
       "      <td>...</td>\n",
       "      <td>NaN</td>\n",
       "      <td>NaN</td>\n",
       "      <td>16.0</td>\n",
       "      <td>10</td>\n",
       "      <td>Molly</td>\n",
       "      <td>158</td>\n",
       "      <td>80</td>\n",
       "      <td>46</td>\n",
       "      <td>161</td>\n",
       "      <td>2012-06</td>\n",
       "    </tr>\n",
       "  </tbody>\n",
       "</table>\n",
       "<p>5 rows × 57 columns</p>\n",
       "</div>"
      ],
      "text/plain": [
       "  CreditCards   Alcohol  Attire Caters Delivery DietaryRestrictions DriveThru  \\\n",
       "0        True      none  casual  False    False                 NaN     False   \n",
       "1        True      none  casual  False    False                 NaN     False   \n",
       "2        True       NaN     NaN    NaN      NaN                 NaN       NaN   \n",
       "3        True  full_bar  casual  False    False                 NaN       NaN   \n",
       "4        True  full_bar  casual  False    False                 NaN       NaN   \n",
       "\n",
       "  GoodforKids HappyHour     TV        ...         user_compliments_photos  \\\n",
       "0        True       NaN  False        ...                             NaN   \n",
       "1        True       NaN  False        ...                             NaN   \n",
       "2         NaN      True    NaN        ...                             NaN   \n",
       "3        True       NaN   True        ...                             NaN   \n",
       "4       False       NaN  False        ...                             NaN   \n",
       "\n",
       "  user_compliments_profile user_compliments_writer user_fans user_name  \\\n",
       "0                      NaN                     NaN         1       Jim   \n",
       "1                      NaN                     NaN         0  Jennifer   \n",
       "2                      NaN                    16.0        10     Molly   \n",
       "3                      NaN                    16.0        10     Molly   \n",
       "4                      NaN                    16.0        10     Molly   \n",
       "\n",
       "   user_review_count user_votes_cool user_votes_funny user_votes_useful  \\\n",
       "0                 26               3               10                26   \n",
       "1                  3               0                0                 1   \n",
       "2                158              80               46               161   \n",
       "3                158              80               46               161   \n",
       "4                158              80               46               161   \n",
       "\n",
       "  user_yelping_since  \n",
       "0            2012-10  \n",
       "1            2016-04  \n",
       "2            2012-06  \n",
       "3            2012-06  \n",
       "4            2012-06  \n",
       "\n",
       "[5 rows x 57 columns]"
      ]
     },
     "execution_count": 42,
     "metadata": {},
     "output_type": "execute_result"
    }
   ],
   "source": [
    "data.head()"
   ]
  },
  {
   "cell_type": "markdown",
   "metadata": {},
   "source": [
    "I won't need all these columns in analysis, but based on what I do, I can further subset this, as necessary..."
   ]
  },
  {
   "cell_type": "code",
   "execution_count": 43,
   "metadata": {
    "collapsed": false
   },
   "outputs": [
    {
     "data": {
      "text/plain": [
       "Index([u'CreditCards', u'Alcohol', u'Attire', u'Caters', u'Delivery',\n",
       "       u'DietaryRestrictions', u'DriveThru', u'GoodforKids', u'HappyHour',\n",
       "       u'TV', u'Music', u'NoiseLevel', u'24Hours', u'OrderAtCounter',\n",
       "       u'OutdoorSeating', u'PriceRange', u'Smoking', u'Take-out',\n",
       "       u'TakesReservations', u'WaiterService', u'WheelchairAccessible',\n",
       "       u'WiFi', u'business_id', u'categories', u'city', u'full_address',\n",
       "       u'latitude', u'longitude', u'name', u'neighborhoods', u'open',\n",
       "       u'review_count', u'BusinessStars', u'state', u'date', u'review_id',\n",
       "       u'ReviewStars', u'text', u'user_id', u'votes_cool', u'votes_funny',\n",
       "       u'votes_useful', u'user_average_stars', u'user_compliments_cool',\n",
       "       u'user_compliments_cute', u'user_compliments_funny',\n",
       "       u'user_compliments_hot', u'user_compliments_photos',\n",
       "       u'user_compliments_profile', u'user_compliments_writer', u'user_fans',\n",
       "       u'user_name', u'user_review_count', u'user_votes_cool',\n",
       "       u'user_votes_funny', u'user_votes_useful', u'user_yelping_since'],\n",
       "      dtype='object')"
      ]
     },
     "execution_count": 43,
     "metadata": {},
     "output_type": "execute_result"
    }
   ],
   "source": [
    "data.columns"
   ]
  },
  {
   "cell_type": "code",
   "execution_count": 44,
   "metadata": {
    "collapsed": false
   },
   "outputs": [
    {
     "data": {
      "text/plain": [
       "11700"
      ]
     },
     "execution_count": 44,
     "metadata": {},
     "output_type": "execute_result"
    }
   ],
   "source": [
    "data.business_id.nunique()"
   ]
  },
  {
   "cell_type": "code",
   "execution_count": 45,
   "metadata": {
    "collapsed": false
   },
   "outputs": [
    {
     "data": {
      "text/plain": [
       "96143"
      ]
     },
     "execution_count": 45,
     "metadata": {},
     "output_type": "execute_result"
    }
   ],
   "source": [
    "data.user_id.nunique()"
   ]
  },
  {
   "cell_type": "code",
   "execution_count": 46,
   "metadata": {
    "collapsed": false
   },
   "outputs": [
    {
     "data": {
      "text/plain": [
       "156695"
      ]
     },
     "execution_count": 46,
     "metadata": {},
     "output_type": "execute_result"
    }
   ],
   "source": [
    "data.review_id.nunique()"
   ]
  },
  {
   "cell_type": "markdown",
   "metadata": {},
   "source": [
    "11.7K businesses // 96K users // 156.7K reviews !!!!!!"
   ]
  },
  {
   "cell_type": "code",
   "execution_count": 11,
   "metadata": {
    "collapsed": false
   },
   "outputs": [
    {
     "data": {
      "text/plain": [
       "<matplotlib.text.Text at 0x10e774b50>"
      ]
     },
     "execution_count": 11,
     "metadata": {},
     "output_type": "execute_result"
    },
    {
     "data": {
      "image/png": "[encoded data removed]",
      "text/plain": [
       "<matplotlib.figure.Figure at 0x10bdb3a50>"
      ]
     },
     "metadata": {},
     "output_type": "display_data"
    }
   ],
   "source": [
    "sns.countplot(y='state', data=data)\n",
    "plt.ylabel('State')\n",
    "plt.xlabel('Count')\n",
    "plt.title('Count of Reviews by State')"
   ]
  },
  {
   "cell_type": "code",
   "execution_count": 15,
   "metadata": {
    "collapsed": true
   },
   "outputs": [],
   "source": [
    "data2 = data[(data.state != 'NV') & (data.state != 'AZ')]"
   ]
  },
  {
   "cell_type": "code",
   "execution_count": 16,
   "metadata": {
    "collapsed": false
   },
   "outputs": [
    {
     "data": {
      "text/plain": [
       "<matplotlib.text.Text at 0x10de61c10>"
      ]
     },
     "execution_count": 16,
     "metadata": {},
     "output_type": "execute_result"
    },
    {
     "data": {
      "image/png": "[encoded data removed]",
      "text/plain": [
       "<matplotlib.figure.Figure at 0x10e0846d0>"
      ]
     },
     "metadata": {},
     "output_type": "display_data"
    }
   ],
   "source": [
    "sns.countplot(y='state', data=data2)\n",
    "plt.ylabel('State')\n",
    "plt.xlabel('Count')\n",
    "plt.title('Count of Reviews by State')"
   ]
  },
  {
   "cell_type": "code",
   "execution_count": 12,
   "metadata": {
    "collapsed": false
   },
   "outputs": [
    {
     "data": {
      "text/plain": [
       "<matplotlib.text.Text at 0x10edaca90>"
      ]
     },
     "execution_count": 12,
     "metadata": {},
     "output_type": "execute_result"
    },
    {
     "data": {
      "image/png": "[encoded data removed]",
      "text/plain": [
       "<matplotlib.figure.Figure at 0x10b320210>"
      ]
     },
     "metadata": {},
     "output_type": "display_data"
    }
   ],
   "source": [
    "sns.countplot(y='ReviewStars', data=data)\n",
    "plt.ylabel('Rating')\n",
    "plt.xlabel('Count')\n",
    "plt.title('Count of Review Ratings')"
   ]
  },
  {
   "cell_type": "code",
   "execution_count": null,
   "metadata": {
    "collapsed": true
   },
   "outputs": [],
   "source": []
  }
 ],
 "metadata": {
  "kernelspec": {
   "display_name": "Python 2",
   "language": "python",
   "name": "python2"
  },
  "language_info": {
   "codemirror_mode": {
    "name": "ipython",
    "version": 2
   },
   "file_extension": ".py",
   "mimetype": "text/x-python",
   "name": "python",
   "nbconvert_exporter": "python",
   "pygments_lexer": "ipython2",
   "version": "2.7.12"
  }
 },
 "nbformat": 4,
 "nbformat_minor": 1
}
